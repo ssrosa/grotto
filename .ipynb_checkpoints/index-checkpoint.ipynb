{
 "cells": [
  {
   "cell_type": "markdown",
   "metadata": {},
   "source": [
    "# Contract analytics for Cheese Grotto"
   ]
  },
  {
   "cell_type": "code",
   "execution_count": 1,
   "metadata": {},
   "outputs": [
    {
     "name": "stderr",
     "output_type": "stream",
     "text": [
      "C:\\Users\\Stee\\Anaconda3good\\lib\\site-packages\\tqdm\\autonotebook.py:17: TqdmExperimentalWarning: Using `tqdm.autonotebook.tqdm` in notebook mode. Use `tqdm.tqdm` instead to force console mode (e.g. in jupyter console)\n",
      "  \" (e.g. in jupyter console)\", TqdmExperimentalWarning)\n"
     ]
    }
   ],
   "source": [
    "import numpy as np\n",
    "import pandas as pd\n",
    "import requests\n",
    "import time\n",
    "import matplotlib.pyplot as plt\n",
    "import seaborn as sns\n",
    "from pandasql import sqldf #for manipulating DataFrames with SQL style queries\n",
    "#Write file to machine to work with offline\n",
    "import json\n",
    "\n",
    "#ALL BELOW to export results of API request to local file\n",
    "# Make it work for Python 2+3 and with Unicode\n",
    "import io\n",
    "try:\n",
    "    to_unicode = unicode\n",
    "except NameError:\n",
    "    to_unicode = str\n",
    "    \n",
    "from tqdm.autonotebook import tqdm\n",
    "\n",
    "from datetime import datetime"
   ]
  },
  {
   "cell_type": "code",
   "execution_count": null,
   "metadata": {},
   "outputs": [],
   "source": []
  },
  {
   "cell_type": "markdown",
   "metadata": {},
   "source": [
    "# Instagram graph api"
   ]
  },
  {
   "cell_type": "code",
   "execution_count": null,
   "metadata": {},
   "outputs": [],
   "source": [
    "#generated each session by the graph api explorer\n",
    "user_access_token = ''"
   ]
  },
  {
   "cell_type": "code",
   "execution_count": null,
   "metadata": {},
   "outputs": [],
   "source": [
    "#Get the user's pages\n",
    "#For better security these must all be derived after a new user access token is created by the person logged \n",
    "#into the fb business account\n",
    "user_pages = f'https://graph.facebook.com/v4.0/me/accounts?access_token={user_access_token}'\n",
    "response = requests.get(user_pages)\n",
    "page_id = json.loads(response.text)['data'][0]['id']\n",
    "\n",
    "#Get the page's instagram business account id\n",
    "insta_biz_account = f'https://graph.facebook.com/v4.0/{page_id}?fields=instagram_business_account&access_token={user_access_token}'\n",
    "response = requests.get(insta_biz_account)\n",
    "insta_id = json.loads(response.text)['instagram_business_account']['id']"
   ]
  },
  {
   "cell_type": "code",
   "execution_count": null,
   "metadata": {},
   "outputs": [],
   "source": [
    "#Get the Instagram Business Account's Media Objects\n",
    "media_objects = f'https://graph.facebook.com/v4.0/{insta_id}/media?access_token={user_access_token}&limit=2000'\n",
    "response = requests.get(media_objects)\n",
    "media_object_ids = [object['id'] for object in json.loads(response.text)['data']]"
   ]
  },
  {
   "cell_type": "code",
   "execution_count": null,
   "metadata": {},
   "outputs": [],
   "source": [
    "len(json.loads(response.text)['data'])"
   ]
  },
  {
   "cell_type": "code",
   "execution_count": null,
   "metadata": {},
   "outputs": [],
   "source": [
    "# media_objects = []\n",
    "# for obj_id in media_object_ids:\n",
    "#     media_objects.append(requests.get(f'https://graph.facebook.com/v4.0/{obj_id}?fields=comments,like_count,timestamp&access_token={user_access_token}').text)\n",
    "#     time.sleep(1.5)"
   ]
  },
  {
   "cell_type": "code",
   "execution_count": null,
   "metadata": {},
   "outputs": [],
   "source": []
  },
  {
   "cell_type": "code",
   "execution_count": null,
   "metadata": {},
   "outputs": [],
   "source": [
    "#Get basic data on all media objects\n",
    "media_objects_all = []\n",
    "for obj_id in media_object_ids:\n",
    "    media_objects_all.append(requests.get(f'https://graph.facebook.com/v4.0/{obj_id}?fields=caption,comments,comments_count,media_type,media_url,like_count,timestamp&access_token={user_access_token}').text)\n",
    "    time.sleep(1.25)\n",
    "    if len(media_objects_all) % 100 == 0:\n",
    "        print(len(media_objects_all))"
   ]
  },
  {
   "cell_type": "code",
   "execution_count": null,
   "metadata": {},
   "outputs": [],
   "source": [
    "len(media_objects_all)"
   ]
  },
  {
   "cell_type": "code",
   "execution_count": null,
   "metadata": {},
   "outputs": [],
   "source": [
    "#SEe for more fields: https://developers.facebook.com/docs/instagram-api/reference/media/\n",
    "\n",
    "requests.get(f'https://graph.facebook.com/v4.0/{media_object_ids[0]}?fields=caption,comments,comments_count,media_type,media_url,like_count,timestamp&access_token={user_access_token}').text\n",
    "#/?fields={fields}"
   ]
  },
  {
   "cell_type": "code",
   "execution_count": null,
   "metadata": {},
   "outputs": [],
   "source": [
    "# Write JSON file\n",
    "with io.open('media_objects.json', 'w', encoding='utf8') as outfile:\n",
    "    str_ = json.dumps(media_objects_all,\n",
    "                      indent=4, sort_keys=True,\n",
    "                      separators=(',', ': '), ensure_ascii=False)\n",
    "    outfile.write(to_unicode(str_))"
   ]
  },
  {
   "cell_type": "markdown",
   "metadata": {},
   "source": [
    "# Start here to get local data for df"
   ]
  },
  {
   "cell_type": "code",
   "execution_count": null,
   "metadata": {},
   "outputs": [],
   "source": [
    "# Read JSON file\n",
    "with open('media_objects.json') as data_file:\n",
    "    media_objects_json = json.load(data_file)"
   ]
  },
  {
   "cell_type": "code",
   "execution_count": null,
   "metadata": {},
   "outputs": [],
   "source": [
    "media_objects_json[-1]"
   ]
  },
  {
   "cell_type": "code",
   "execution_count": null,
   "metadata": {},
   "outputs": [],
   "source": [
    "#Only one thing has no caption?\n",
    "[obj  for obj in media_objects_dicts if not 'caption' in list(obj.keys())]"
   ]
  },
  {
   "cell_type": "code",
   "execution_count": null,
   "metadata": {},
   "outputs": [],
   "source": [
    "#Get columns of data from json to build dataframe\n",
    "media_objects_dicts = [json.loads(obj) for obj in media_objects_json]\n",
    "columns = (list(media_objects_dicts[0].keys()))\n",
    "data = {col: [obj[col] if col in list(obj.keys()) else None for obj in media_objects_dicts] for col in columns}\n",
    "\n",
    "#build pandas data frame to look at data\n",
    "df = pd.DataFrame(data)\n",
    "df.set_index(pd.to_datetime(df['timestamp']), inplace = True)\n",
    "#df['date_ordinal'] = pd.to_datetime(df['timestamp']).apply(lambda date: date.toordinal())\n",
    "df.drop(['timestamp'], axis = 1, inplace = True)\n",
    "df.sort_index(axis = 0, ascending = True, inplace = True)"
   ]
  },
  {
   "cell_type": "code",
   "execution_count": null,
   "metadata": {},
   "outputs": [],
   "source": [
    "df.head()"
   ]
  },
  {
   "cell_type": "code",
   "execution_count": null,
   "metadata": {},
   "outputs": [],
   "source": [
    "fig = plt.figure(figsize = (14,8))\n",
    "plt.scatter(df.index, df['like_count'])\n",
    "plt.title('Number of likes on posts over time')"
   ]
  },
  {
   "cell_type": "code",
   "execution_count": null,
   "metadata": {},
   "outputs": [],
   "source": [
    "# fig = plt.figure(figsize = (8,6))\n",
    "# plt.scatter(df.index, df['comments_count'])\n",
    "# plt.title('Number of comments on posts over time')"
   ]
  },
  {
   "cell_type": "code",
   "execution_count": null,
   "metadata": {},
   "outputs": [],
   "source": [
    "boostio = df['6/1/2018': '5/16/2019']\n",
    "not_boostio = df.drop(boostio.index, axis = 0)"
   ]
  },
  {
   "cell_type": "code",
   "execution_count": null,
   "metadata": {},
   "outputs": [],
   "source": []
  },
  {
   "cell_type": "code",
   "execution_count": null,
   "metadata": {},
   "outputs": [],
   "source": [
    "#Drop the outliers that float higher than the rest\n",
    "not_boostio = not_boostio[not_boostio['like_count'] < 350]\n",
    "#Plot the plot\n",
    "fig = plt.figure(figsize = (14,8))\n",
    "plt.scatter(not_boostio.index, not_boostio['like_count'])\n",
    "plt.title('Number of likes on posts over time, without Boostio')"
   ]
  },
  {
   "cell_type": "code",
   "execution_count": null,
   "metadata": {},
   "outputs": [],
   "source": []
  },
  {
   "cell_type": "markdown",
   "metadata": {},
   "source": [
    "first use of boostio: august 5 2018\n",
    "\n",
    "last use of boostio: april 13. probably mid may"
   ]
  },
  {
   "cell_type": "code",
   "execution_count": null,
   "metadata": {},
   "outputs": [],
   "source": [
    "#Drop the outliers that float lower than the rest\n",
    "boostio = boostio[boostio['like_count'] > 200]\n",
    "fig = plt.figure(figsize = (12,6))\n",
    "plt.scatter(boostio.index, boostio['like_count'])\n",
    "plt.title('Number of likes on posts over time with Boostio')"
   ]
  },
  {
   "cell_type": "code",
   "execution_count": null,
   "metadata": {},
   "outputs": [],
   "source": [
    "boostio.describe()"
   ]
  },
  {
   "cell_type": "code",
   "execution_count": null,
   "metadata": {},
   "outputs": [],
   "source": [
    "not_boostio.describe()"
   ]
  },
  {
   "cell_type": "code",
   "execution_count": null,
   "metadata": {},
   "outputs": [],
   "source": [
    "#Show trend over time\n",
    "not_b_index = np.arange(not_boostio['like_count'].values.shape[0])\n",
    "fig = plt.figure(figsize = (16,8))\n",
    "sns.regplot(x = not_b_index, \n",
    "            y = not_boostio['like_count'].values,\n",
    "           scatter_kws=None, line_kws={'color':'red'})\n",
    "plt.title('Likes over time, excluding Boostio')"
   ]
  },
  {
   "cell_type": "markdown",
   "metadata": {},
   "source": [
    "# Caption feature engineering"
   ]
  },
  {
   "cell_type": "code",
   "execution_count": null,
   "metadata": {},
   "outputs": [],
   "source": [
    "# boostio = df['6/1/2018': '5/16/2019']\n",
    "# not_boostio = df.drop(boostio.index, axis = 0)"
   ]
  },
  {
   "cell_type": "code",
   "execution_count": null,
   "metadata": {},
   "outputs": [],
   "source": [
    "df.head()"
   ]
  },
  {
   "cell_type": "code",
   "execution_count": null,
   "metadata": {},
   "outputs": [],
   "source": [
    "df['10-11-2014':'10-11-2014']['caption']"
   ]
  },
  {
   "cell_type": "code",
   "execution_count": null,
   "metadata": {},
   "outputs": [],
   "source": [
    "df['11-10-2014':'11-10-2014']['caption']"
   ]
  },
  {
   "cell_type": "code",
   "execution_count": null,
   "metadata": {},
   "outputs": [],
   "source": [
    "df['11-10-2014':'11-10-2014'].index"
   ]
  },
  {
   "cell_type": "code",
   "execution_count": null,
   "metadata": {},
   "outputs": [],
   "source": [
    "df[:'2014-11-10 23:53:32']['caption'].values"
   ]
  },
  {
   "cell_type": "code",
   "execution_count": null,
   "metadata": {},
   "outputs": [],
   "source": []
  },
  {
   "cell_type": "markdown",
   "metadata": {},
   "source": [
    "# Insights on media objects"
   ]
  },
  {
   "cell_type": "code",
   "execution_count": null,
   "metadata": {},
   "outputs": [],
   "source": [
    "df['media_type'].value_counts()"
   ]
  },
  {
   "cell_type": "markdown",
   "metadata": {},
   "source": [
    "# Story insights"
   ]
  },
  {
   "cell_type": "code",
   "execution_count": null,
   "metadata": {},
   "outputs": [],
   "source": [
    "#Attempt to get stories\n",
    "stories = f'https://graph.facebook.com/v4.0/{insta_id}/stories?access_token={user_access_token}&limit=2000'\n",
    "response = requests.get(stories)\n",
    "story_ids = [obj['id'] for obj in json.loads(response.text)['data']]"
   ]
  },
  {
   "cell_type": "code",
   "execution_count": null,
   "metadata": {},
   "outputs": [],
   "source": [
    "#GEt timestamps on stories\n",
    "story_timestamps = []\n",
    "for obj_id in tqdm(story_ids):\n",
    "    story_timestamps.append(requests.get(f'https://graph.facebook.com/v4.0/{obj_id}?fields=timestamp&access_token={user_access_token}').text)\n",
    "    time.sleep(1.25)\n",
    "    if len(story_timestamps) % 100 == 0:\n",
    "        print(len(story_timestamps))"
   ]
  },
  {
   "cell_type": "code",
   "execution_count": null,
   "metadata": {},
   "outputs": [],
   "source": [
    "#Get insights on stories\n",
    "story_metrics = 'exits,impressions,reach,replies,taps_forward,taps_back'\n",
    "story_insights = []\n",
    "for obj_id in tqdm(story_ids):\n",
    "    story_insights.append(requests.get(f'https://graph.facebook.com/v4.0/{obj_id}/insights?metric={story_metrics}&access_token={user_access_token}').text)\n",
    "    time.sleep(1.25)\n",
    "    if len(story_insights) % 100 == 0:\n",
    "        print(len(story_insights))"
   ]
  },
  {
   "cell_type": "code",
   "execution_count": null,
   "metadata": {},
   "outputs": [],
   "source": [
    "story_insights_json = [json.loads(obj) for obj in story_insights]\n",
    "story_insight_fields = [story['name'] for story in story_insights_json[0]['data']]\n",
    "#Bring relevant data together into a dict of lists \n",
    "story_insight_data = {field: [story['data'][i]['values'][0]['value'] for story in story_insights_json[:-1]]   for i, field in enumerate(story_insight_fields)}\n",
    "#Add timestamp column\n",
    "story_insight_data['timestamp'] = [json.loads(stamp)['timestamp'] for stamp in story_timestamps[:-1]]\n",
    "#Description of story insight fields\n",
    "story_insight_field_descriptions = [obj['name'] + ': ' + obj['description'] for obj in story_insights_json[0]['data']]\n",
    "story_insight_field_descriptions"
   ]
  },
  {
   "cell_type": "code",
   "execution_count": null,
   "metadata": {},
   "outputs": [],
   "source": [
    "#build pandas data frame to look at data\n",
    "story_df = pd.DataFrame(story_insight_data)\n",
    "story_df.set_index(pd.to_datetime(story_df['timestamp']), inplace = True)\n",
    "story_df.drop(['timestamp'], axis = 1, inplace = True)\n",
    "story_df.sort_index(axis = 0, ascending = True, inplace = True)"
   ]
  },
  {
   "cell_type": "code",
   "execution_count": null,
   "metadata": {},
   "outputs": [],
   "source": [
    "story_df"
   ]
  },
  {
   "cell_type": "code",
   "execution_count": null,
   "metadata": {},
   "outputs": [],
   "source": [
    "story_df.to_csv('story_insights.csv')"
   ]
  },
  {
   "cell_type": "markdown",
   "metadata": {},
   "source": [
    "# Image insights"
   ]
  },
  {
   "cell_type": "code",
   "execution_count": null,
   "metadata": {},
   "outputs": [],
   "source": [
    "#Get image insights\n",
    "# image_metrics = 'engagement,impressions,reach,saved'\n",
    "# image_ids = df[df['media_type'] == 'IMAGE']['id'].values\n",
    "# image_insights = []\n",
    "# for obj_id in tqdm(image_ids):\n",
    "#     image_insights.append(requests.get(f'https://graph.facebook.com/v4.0/{obj_id}/insights?metric={image_metrics}&access_token={user_access_token}').text)\n",
    "#     time.sleep(1.25)"
   ]
  },
  {
   "cell_type": "code",
   "execution_count": null,
   "metadata": {},
   "outputs": [],
   "source": [
    "# Write JSON file\n",
    "# with io.open('image_insights.json', 'w', encoding='utf8') as outfile:\n",
    "#     str_ = json.dumps(image_insights,\n",
    "#                       indent=4, sort_keys=True,\n",
    "#                       separators=(',', ': '), ensure_ascii=False)\n",
    "#     outfile.write(to_unicode(str_))"
   ]
  },
  {
   "cell_type": "markdown",
   "metadata": {},
   "source": [
    "### Resume here to read in local file"
   ]
  },
  {
   "cell_type": "code",
   "execution_count": null,
   "metadata": {},
   "outputs": [],
   "source": [
    "# Read JSON file\n",
    "with open('image_insights.json') as data_file:\n",
    "    image_insights_json = json.load(data_file)\n",
    "    #Entries from before index 658 returned errors because the account wasn't a business account yet\n",
    "    image_insights = [json.loads(obj) for obj in image_insights_json[658:]]"
   ]
  },
  {
   "cell_type": "code",
   "execution_count": null,
   "metadata": {},
   "outputs": [],
   "source": [
    "image_insight_field_descriptions = [obj['name'] + ': ' + obj['description'] for obj in image_insights[0]['data']]\n",
    "image_insight_field_descriptions"
   ]
  },
  {
   "cell_type": "code",
   "execution_count": null,
   "metadata": {},
   "outputs": [],
   "source": [
    "image_insight_fields = [obj['name'] for obj in image_insights[0]['data']]\n",
    "#Bring relevant data together into a dict of lists \n",
    "image_insight_data = {field: [obj['data'][i]['values'][0]['value'] for obj in image_insights]\\\n",
    "                          for i, field in enumerate(image_insight_fields)}\n",
    "#Get ids for images with insights\n",
    "image_insight_ids_raw = [obj['data'][0]['id'] for obj in image_insights]\n",
    "image_insight_ids = [_id.split('/')[0] for _id in image_insight_ids_raw]\n",
    "image_insight_data['id'] = image_insight_ids\n",
    "#Get timestamps from main df to match image insights by id\n",
    "image_insight_data['timestamp'] = [df[df['id'] == _id].index.values[0] for _id in image_insight_ids]\n",
    "image_insight_data['like_count'] = [df[df['id'] == _id]['like_count'].values[0] for _id in image_insight_ids]\n",
    "#Build df\n",
    "image_insight_df = pd.DataFrame(image_insight_data)\n",
    "#Rest index to timestamp\n",
    "image_insight_df.set_index(pd.to_datetime(image_insight_df['timestamp']), inplace = True)\n",
    "image_insight_df.drop(['timestamp'], axis = 1, inplace = True)"
   ]
  },
  {
   "cell_type": "code",
   "execution_count": null,
   "metadata": {},
   "outputs": [],
   "source": [
    "image_insight_df.head()"
   ]
  },
  {
   "cell_type": "code",
   "execution_count": null,
   "metadata": {},
   "outputs": [],
   "source": [
    "image_insight_df[['like_count', 'engagement']]"
   ]
  },
  {
   "cell_type": "code",
   "execution_count": null,
   "metadata": {},
   "outputs": [],
   "source": [
    "#Write image insights df to csv for testing with spyre\n",
    "image_insight_df.to_csv('image_insights.csv')"
   ]
  },
  {
   "cell_type": "code",
   "execution_count": null,
   "metadata": {},
   "outputs": [],
   "source": [
    "fig = plt.figure(figsize = (14,8))\n",
    "plt.plot(image_insight_df.index, image_insight_df['like_count'], label = 'likes count')\n",
    "plt.plot(image_insight_df.index, image_insight_df['engagement'], label = 'engagement')\n",
    "plt.plot(image_insight_df.index, image_insight_df['saved'], label = 'saved')\n",
    "plt.axvspan('6/1/2018','5/16/2019', color ='lightgrey', label = 'Start and end of boostio')\n",
    "plt.title('Image insights: engagement and saved')\n",
    "plt.legend()\n",
    "plt.show()"
   ]
  },
  {
   "cell_type": "code",
   "execution_count": null,
   "metadata": {},
   "outputs": [],
   "source": [
    "fig = plt.figure(figsize = (14,8))\n",
    "plt.plot(image_insight_df.index, image_insight_df['like_count'], label = 'likes count')\n",
    "plt.plot(image_insight_df.index, image_insight_df['impressions'], label = 'impressions')\n",
    "plt.plot(image_insight_df.index, image_insight_df['reach'], label = 'reach')\n",
    "plt.axvspan('6/1/2018','5/16/2019', color ='lightgrey', label = 'Start and end of boostio')\n",
    "plt.legend()\n",
    "plt.title('Image insights: impressions and reach')\n",
    "plt.show()"
   ]
  },
  {
   "cell_type": "markdown",
   "metadata": {},
   "source": [
    "# Video insights"
   ]
  },
  {
   "cell_type": "code",
   "execution_count": null,
   "metadata": {},
   "outputs": [],
   "source": [
    "video_metrics = photo_metrics + 'video_views'\n",
    "video_ids = df[df['media_type'] == 'VIDEO']['id'].values"
   ]
  },
  {
   "cell_type": "code",
   "execution_count": null,
   "metadata": {},
   "outputs": [],
   "source": [
    "#Get video ids\n",
    "stories = f'https://graph.facebook.com/v4.0/{insta_id}/stories?access_token={user_access_token}&limit=2000'\n",
    "response = requests.get(stories)\n",
    "story_ids = [obj['id'] for obj in json.loads(response.text)['data']]"
   ]
  },
  {
   "cell_type": "markdown",
   "metadata": {},
   "source": [
    "# Album insights"
   ]
  },
  {
   "cell_type": "code",
   "execution_count": null,
   "metadata": {},
   "outputs": [],
   "source": [
    "album_metrics = 'carousel_album_engagement,carousel_album_impressions,carousel_album_reach,carousel_album_saved,carousel_album_video_views'\n",
    "album_ids = df[df['media_type'] == 'CAROUSEL_ALBUM']['id'].values"
   ]
  },
  {
   "cell_type": "markdown",
   "metadata": {},
   "source": [
    "# \"Lifetime\" user insights"
   ]
  },
  {
   "cell_type": "code",
   "execution_count": 46,
   "metadata": {},
   "outputs": [],
   "source": [
    "lifetime_metrics = 'audience_city,audience_country,audience_gender_age,audience_locale,online_followers,'"
   ]
  },
  {
   "cell_type": "code",
   "execution_count": null,
   "metadata": {},
   "outputs": [],
   "source": []
  },
  {
   "cell_type": "code",
   "execution_count": 47,
   "metadata": {},
   "outputs": [],
   "source": [
    "response = requests.get(f'https://graph.facebook.com/v4.0/{insta_id}/insights?metric={lifetime_metrics}&period=lifetime&{user_access_token}')"
   ]
  },
  {
   "cell_type": "code",
   "execution_count": null,
   "metadata": {},
   "outputs": [],
   "source": [
    "response.text"
   ]
  },
  {
   "cell_type": "code",
   "execution_count": 48,
   "metadata": {},
   "outputs": [],
   "source": [
    "lifetime_data = json.loads(response.text)"
   ]
  },
  {
   "cell_type": "code",
   "execution_count": 49,
   "metadata": {
    "collapsed": true
   },
   "outputs": [
    {
     "data": {
      "text/plain": [
       "[{'name': 'audience_city',\n",
       "  'period': 'lifetime',\n",
       "  'values': [{'value': {'Pittsburgh, Pennsylvania': 37,\n",
       "     'Sydney, New South Wales': 76,\n",
       "     'London, England': 107,\n",
       "     'Philadelphia, Pennsylvania': 123,\n",
       "     'São Paulo, São Paulo (state)': 37,\n",
       "     'Atlanta, Georgia': 58,\n",
       "     'Jacksonville, Florida': 30,\n",
       "     'Oakland, California': 32,\n",
       "     'Seattle, Washington': 67,\n",
       "     'Cambridge, Massachusetts': 34,\n",
       "     'Phoenix, Arizona': 50,\n",
       "     'Austin, Texas': 61,\n",
       "     'Izmir, İzmir Province': 33,\n",
       "     'Ahmedabad, Gujarat': 42,\n",
       "     'Moscow, Moscow': 36,\n",
       "     'Chicago, Illinois': 128,\n",
       "     'Jakarta, Jakarta': 73,\n",
       "     'Paris, Île-de-France': 38,\n",
       "     'Buenos Aires, Ciudad Autónoma de Buenos Aires': 40,\n",
       "     'Salt Lake City, Utah': 34,\n",
       "     'Baku, Baku': 75,\n",
       "     'Melbourne, Victoria': 102,\n",
       "     'Delhi, Delhi': 45,\n",
       "     'Los Angeles, California': 236,\n",
       "     'Las Vegas, Nevada': 56,\n",
       "     'Brisbane, Queensland': 34,\n",
       "     'Dallas, Texas': 46,\n",
       "     'Washington, Washington, District of Columbia': 48,\n",
       "     'Denver, Colorado': 57,\n",
       "     'Istanbul, Istanbul Province': 194,\n",
       "     'Orlando, Florida': 34,\n",
       "     'Toronto, Ontario': 101,\n",
       "     'Ankara, Ankara Province': 43,\n",
       "     'San Antonio, Texas': 44,\n",
       "     'Mexico City, Distrito Federal': 31,\n",
       "     'Nashville, Tennessee': 34,\n",
       "     'Houston, Texas': 61,\n",
       "     'Portland, Oregon': 73,\n",
       "     'San Francisco, California': 104,\n",
       "     'New York, New York': 790,\n",
       "     'Charlotte, North Carolina': 36,\n",
       "     'Mumbai, Maharashtra': 90,\n",
       "     'Boston, Massachusetts': 161,\n",
       "     'Miami, Florida': 68,\n",
       "     'San Diego, California': 70},\n",
       "    'end_time': '2019-11-02T07:00:00+0000'}],\n",
       "  'title': 'Audience City',\n",
       "  'description': \"The cities of this profile's followers\",\n",
       "  'id': '17841401233892528/insights/audience_city/lifetime'},\n",
       " {'name': 'audience_country',\n",
       "  'period': 'lifetime',\n",
       "  'values': [{'value': {'DE': 87,\n",
       "     'BE': 45,\n",
       "     'RU': 89,\n",
       "     'PT': 44,\n",
       "     'JP': 41,\n",
       "     'UA': 29,\n",
       "     'NZ': 30,\n",
       "     'FR': 152,\n",
       "     'SA': 38,\n",
       "     'BR': 215,\n",
       "     'SE': 26,\n",
       "     'SG': 25,\n",
       "     'MA': 40,\n",
       "     'DZ': 35,\n",
       "     'GB': 328,\n",
       "     'ID': 455,\n",
       "     'IE': 30,\n",
       "     'CA': 395,\n",
       "     'US': 7744,\n",
       "     'EG': 58,\n",
       "     'CH': 24,\n",
       "     'IN': 830,\n",
       "     'KR': 27,\n",
       "     'ZA': 40,\n",
       "     'IQ': 59,\n",
       "     'IR': 26,\n",
       "     'CL': 44,\n",
       "     'GR': 25,\n",
       "     'MX': 115,\n",
       "     'IT': 233,\n",
       "     'CO': 38,\n",
       "     'MY': 64,\n",
       "     'ES': 172,\n",
       "     'VE': 25,\n",
       "     'AR': 92,\n",
       "     'AU': 325,\n",
       "     'PE': 24,\n",
       "     'PH': 45,\n",
       "     'NG': 32,\n",
       "     'AZ': 97,\n",
       "     'PK': 48,\n",
       "     'PL': 30,\n",
       "     'RO': 34,\n",
       "     'NL': 58,\n",
       "     'TR': 623},\n",
       "    'end_time': '2019-11-02T07:00:00+0000'}],\n",
       "  'title': 'Audience Country',\n",
       "  'description': \"The countries of this profile's followers\",\n",
       "  'id': '17841401233892528/insights/audience_country/lifetime'},\n",
       " {'name': 'audience_gender_age',\n",
       "  'period': 'lifetime',\n",
       "  'values': [{'value': {'U.13-17': 1,\n",
       "     'U.55-64': 15,\n",
       "     'M.55-64': 254,\n",
       "     'U.35-44': 61,\n",
       "     'F.45-54': 1279,\n",
       "     'M.35-44': 1165,\n",
       "     'M.18-24': 1312,\n",
       "     'F.25-34': 3123,\n",
       "     'U.65+': 13,\n",
       "     'U.18-24': 11,\n",
       "     'M.25-34': 1510,\n",
       "     'U.45-54': 35,\n",
       "     'F.13-17': 115,\n",
       "     'F.65+': 261,\n",
       "     'F.55-64': 621,\n",
       "     'M.65+': 131,\n",
       "     'M.13-17': 259,\n",
       "     'F.35-44': 2151,\n",
       "     'U.25-34': 48,\n",
       "     'M.45-54': 646,\n",
       "     'F.18-24': 753},\n",
       "    'end_time': '2019-11-02T07:00:00+0000'}],\n",
       "  'title': 'Gender and Age',\n",
       "  'description': \"The gender and age distribution of this profile's followers\",\n",
       "  'id': '17841401233892528/insights/audience_gender_age/lifetime'},\n",
       " {'name': 'audience_locale',\n",
       "  'period': 'lifetime',\n",
       "  'values': [{'value': {'el_GR': 22,\n",
       "     'ru_RU': 156,\n",
       "     'it_IT': 225,\n",
       "     'pl_PL': 29,\n",
       "     'ro_RO': 29,\n",
       "     'tr_TR': 662,\n",
       "     'hi_IN': 46,\n",
       "     'id_ID': 437,\n",
       "     'mr_IN': 5,\n",
       "     'pt_BR': 224,\n",
       "     'th_TH': 8,\n",
       "     'en_PI': 6,\n",
       "     'he_IL': 9,\n",
       "     'ja_JP': 30,\n",
       "     'fr_FR': 247,\n",
       "     'cs_CZ': 8,\n",
       "     'ca_ES': 8,\n",
       "     'hu_HU': 19,\n",
       "     'de_DE': 86,\n",
       "     'nb_NO': 15,\n",
       "     'ms_MY': 22,\n",
       "     'zh_TW': 19,\n",
       "     'es_ES': 147,\n",
       "     'nl_NL': 59,\n",
       "     'es_LA': 456,\n",
       "     'fr_CA': 16,\n",
       "     'nl_BE': 5,\n",
       "     'sq_AL': 8,\n",
       "     'sv_SE': 18,\n",
       "     'da_DK': 14,\n",
       "     'fa_IR': 15,\n",
       "     'sr_RS': 6,\n",
       "     'bg_BG': 11,\n",
       "     'vi_VN': 13,\n",
       "     'az_AZ': 43,\n",
       "     'fi_FI': 7,\n",
       "     'hr_HR': 19,\n",
       "     'ar_AR': 196,\n",
       "     'en_GB': 1241,\n",
       "     'gu_IN': 11,\n",
       "     'ko_KR': 20,\n",
       "     'en_US': 9040,\n",
       "     'uk_UA': 5,\n",
       "     'zh_CN': 21,\n",
       "     'pt_PT': 39},\n",
       "    'end_time': '2019-11-02T07:00:00+0000'}],\n",
       "  'title': 'Location',\n",
       "  'description': \"The locales by country codes of this profile's followers\",\n",
       "  'id': '17841401233892528/insights/audience_locale/lifetime'},\n",
       " {'name': 'online_followers',\n",
       "  'period': 'lifetime',\n",
       "  'values': [{'value': {}, 'end_time': '2019-11-02T07:00:00+0000'}],\n",
       "  'title': 'Online Followers',\n",
       "  'description': \"Total number of this profile's followers that were online during the specified period\",\n",
       "  'id': '17841401233892528/insights/online_followers/lifetime'}]"
      ]
     },
     "execution_count": 49,
     "metadata": {},
     "output_type": "execute_result"
    }
   ],
   "source": [
    "lifetime_data['data']"
   ]
  },
  {
   "cell_type": "code",
   "execution_count": 71,
   "metadata": {},
   "outputs": [],
   "source": [
    "first_day = 1415577600\n",
    "interval = 2592000\n",
    "today = 1572652800\n",
    "yesterday = 1572566400\n",
    "halloween = 1572480000\n",
    "since = yesterday - interval\n",
    "until = yesterday"
   ]
  },
  {
   "cell_type": "code",
   "execution_count": null,
   "metadata": {},
   "outputs": [],
   "source": []
  },
  {
   "cell_type": "code",
   "execution_count": 72,
   "metadata": {},
   "outputs": [],
   "source": [
    "request = 'https://graph.facebook.com/v4.0/' + insta_id\n",
    "request += '/insights?metric=' + lifetime_metrics\n",
    "request += '&period=lifetime'\n",
    "request += '&since=' + str(halloween - interval)\n",
    "request += '&until=' + str(halloween)\n",
    "request += '&' + user_access_token"
   ]
  },
  {
   "cell_type": "code",
   "execution_count": 73,
   "metadata": {},
   "outputs": [],
   "source": [
    "response = requests.get(request)\n",
    "lifetime_data = json.loads(response.text)"
   ]
  },
  {
   "cell_type": "code",
   "execution_count": 74,
   "metadata": {},
   "outputs": [
    {
     "data": {
      "text/plain": [
       "{'error': {'message': '(#100) (audience_city) metric supports querying data only till yesterday',\n",
       "  'type': 'OAuthException',\n",
       "  'code': 100,\n",
       "  'fbtrace_id': 'A1sSYRZRSgKqQNy4VKG1EBE'}}"
      ]
     },
     "execution_count": 74,
     "metadata": {},
     "output_type": "execute_result"
    }
   ],
   "source": [
    "lifetime_data"
   ]
  },
  {
   "cell_type": "code",
   "execution_count": null,
   "metadata": {},
   "outputs": [],
   "source": []
  },
  {
   "cell_type": "code",
   "execution_count": null,
   "metadata": {},
   "outputs": [],
   "source": []
  },
  {
   "cell_type": "code",
   "execution_count": null,
   "metadata": {},
   "outputs": [],
   "source": []
  },
  {
   "cell_type": "code",
   "execution_count": null,
   "metadata": {},
   "outputs": [],
   "source": []
  },
  {
   "cell_type": "code",
   "execution_count": null,
   "metadata": {},
   "outputs": [],
   "source": [
    "# Write JSON file\n",
    "with io.open('dailies.json', 'w', encoding='utf8') as outfile:\n",
    "    str_ = json.dumps(dailies_complete,\n",
    "                      indent=4, sort_keys=True,\n",
    "                      separators=(',', ': '), ensure_ascii=False)\n",
    "    outfile.write(to_unicode(str_))"
   ]
  },
  {
   "cell_type": "code",
   "execution_count": null,
   "metadata": {},
   "outputs": [],
   "source": []
  },
  {
   "cell_type": "markdown",
   "metadata": {},
   "source": [
    "# \"Daily\" insights"
   ]
  },
  {
   "cell_type": "code",
   "execution_count": null,
   "metadata": {},
   "outputs": [],
   "source": [
    "day_metrics = 'email_contacts,follower_count,get_directions_clicks,impressions,phone_call_clicks,profile_views,reach,text_message_clicks,website_clicks'\n",
    "\n",
    "first_day = 1415577600\n",
    "interval = 2592000\n",
    "today = 1572652800\n",
    "\n",
    "dailies = []\n",
    "\n",
    "since = today - interval\n",
    "until = today\n",
    "while since >= first_day:\n",
    "    request = 'https://graph.facebook.com/' + insta_id\n",
    "    request += '/insights?metric=' + day_metrics\n",
    "    request += '&period=day&since=' + str(since)\n",
    "    request += '&until=' + str(until)\n",
    "    request += '&' + user_access_token\n",
    "    \n",
    "    response = requests.get(request)\n",
    "    \n",
    "    dailies.append(json.loads(response.text))\n",
    "    \n",
    "    until -= interval\n",
    "    since -= interval\n",
    "    \n",
    "    time.sleep(1.5)"
   ]
  },
  {
   "cell_type": "code",
   "execution_count": 3,
   "metadata": {},
   "outputs": [],
   "source": [
    "# Read JSON file\n",
    "with open('dailies.json') as data_file:\n",
    "    dailies_json = json.load(data_file)"
   ]
  },
  {
   "cell_type": "code",
   "execution_count": null,
   "metadata": {},
   "outputs": [],
   "source": [
    "#Create timestamp index\n",
    "dailies_json.reverse()\n",
    "timestamp = []\n",
    "for daily in dailies_json:\n",
    "    timestamp.extend([value['end_time'] for value in daily['data'][0]['values']])"
   ]
  },
  {
   "cell_type": "code",
   "execution_count": 30,
   "metadata": {
    "collapsed": true
   },
   "outputs": [
    {
     "data": {
      "text/plain": [
       "[None,\n",
       " None,\n",
       " None,\n",
       " None,\n",
       " None,\n",
       " None,\n",
       " None,\n",
       " None,\n",
       " None,\n",
       " None,\n",
       " None,\n",
       " None,\n",
       " None,\n",
       " None,\n",
       " None,\n",
       " None,\n",
       " None,\n",
       " None,\n",
       " None,\n",
       " None,\n",
       " None,\n",
       " None,\n",
       " None,\n",
       " None,\n",
       " None,\n",
       " None,\n",
       " None,\n",
       " None,\n",
       " None,\n",
       " None,\n",
       " None,\n",
       " None,\n",
       " None,\n",
       " None,\n",
       " None,\n",
       " None,\n",
       " None,\n",
       " None,\n",
       " None,\n",
       " None,\n",
       " None,\n",
       " None,\n",
       " None,\n",
       " None,\n",
       " None,\n",
       " None,\n",
       " None,\n",
       " None,\n",
       " None,\n",
       " None,\n",
       " None,\n",
       " None,\n",
       " None,\n",
       " None,\n",
       " None,\n",
       " None,\n",
       " None,\n",
       " None,\n",
       " None,\n",
       " None,\n",
       " None,\n",
       " None,\n",
       " None,\n",
       " None,\n",
       " None,\n",
       " None,\n",
       " None,\n",
       " None,\n",
       " None,\n",
       " None,\n",
       " None,\n",
       " None,\n",
       " None,\n",
       " None,\n",
       " None,\n",
       " None,\n",
       " None,\n",
       " None,\n",
       " None,\n",
       " None,\n",
       " None,\n",
       " None,\n",
       " None,\n",
       " None,\n",
       " None,\n",
       " None,\n",
       " None,\n",
       " None,\n",
       " None,\n",
       " None,\n",
       " None,\n",
       " None,\n",
       " None,\n",
       " None,\n",
       " None,\n",
       " None,\n",
       " None,\n",
       " None,\n",
       " None,\n",
       " None,\n",
       " None,\n",
       " None,\n",
       " None,\n",
       " None,\n",
       " None,\n",
       " None,\n",
       " None,\n",
       " None,\n",
       " None,\n",
       " None,\n",
       " None,\n",
       " None,\n",
       " None,\n",
       " None,\n",
       " None,\n",
       " None,\n",
       " None,\n",
       " None,\n",
       " None,\n",
       " None,\n",
       " None,\n",
       " None,\n",
       " None,\n",
       " None,\n",
       " None,\n",
       " None,\n",
       " None,\n",
       " None,\n",
       " None,\n",
       " None,\n",
       " None,\n",
       " None,\n",
       " None,\n",
       " None,\n",
       " None,\n",
       " None,\n",
       " None,\n",
       " None,\n",
       " None,\n",
       " None,\n",
       " None,\n",
       " None,\n",
       " None,\n",
       " None,\n",
       " None,\n",
       " None,\n",
       " None,\n",
       " None,\n",
       " None,\n",
       " None,\n",
       " None,\n",
       " None,\n",
       " None,\n",
       " None,\n",
       " None,\n",
       " None,\n",
       " None,\n",
       " None,\n",
       " None,\n",
       " None,\n",
       " None,\n",
       " None,\n",
       " None,\n",
       " None,\n",
       " None,\n",
       " None,\n",
       " None,\n",
       " None,\n",
       " None,\n",
       " None,\n",
       " None,\n",
       " None,\n",
       " None,\n",
       " None,\n",
       " None,\n",
       " None,\n",
       " None,\n",
       " None,\n",
       " None,\n",
       " None,\n",
       " None,\n",
       " None,\n",
       " None,\n",
       " None,\n",
       " None,\n",
       " None,\n",
       " None,\n",
       " None,\n",
       " None,\n",
       " None,\n",
       " None,\n",
       " None,\n",
       " None,\n",
       " None,\n",
       " None,\n",
       " None,\n",
       " None,\n",
       " None,\n",
       " None,\n",
       " None,\n",
       " None,\n",
       " None,\n",
       " None,\n",
       " None,\n",
       " None,\n",
       " None,\n",
       " None,\n",
       " None,\n",
       " None,\n",
       " None,\n",
       " None,\n",
       " None,\n",
       " None,\n",
       " None,\n",
       " None,\n",
       " None,\n",
       " None,\n",
       " None,\n",
       " None,\n",
       " None,\n",
       " None,\n",
       " None,\n",
       " None,\n",
       " None,\n",
       " None]"
      ]
     },
     "execution_count": 30,
     "metadata": {},
     "output_type": "execute_result"
    }
   ],
   "source": [
    "#Get all data to build df\n",
    "metrics = []\n",
    "for metric in dailies_json[0]['data']:\n",
    "    metrics.append(metric['name'])\n",
    "data = {metric: [] for metric in metrics}\n",
    "\n",
    "[data[metric['name']].extend([value['value'] for value in metric['values']]) for daily in dailies_json for metric in daily['data']]"
   ]
  },
  {
   "cell_type": "code",
   "execution_count": 37,
   "metadata": {},
   "outputs": [],
   "source": [
    "#build pandas data frame to look at data\n",
    "dailies_df = pd.DataFrame(data)\n",
    "dailies_df.set_index(pd.to_datetime(timestamp), inplace = True)"
   ]
  },
  {
   "cell_type": "code",
   "execution_count": 39,
   "metadata": {},
   "outputs": [],
   "source": [
    "#Write all dailies to csv to be transferred to google sheet\n",
    "dailies_df['2017-10-31 07:00:00+00:00':].to_csv(path_or_buf = 'dailies.csv')"
   ]
  }
 ],
 "metadata": {
  "kernelspec": {
   "display_name": "Python 3",
   "language": "python",
   "name": "python3"
  },
  "language_info": {
   "codemirror_mode": {
    "name": "ipython",
    "version": 3
   },
   "file_extension": ".py",
   "mimetype": "text/x-python",
   "name": "python",
   "nbconvert_exporter": "python",
   "pygments_lexer": "ipython3",
   "version": "3.6.8"
  }
 },
 "nbformat": 4,
 "nbformat_minor": 2
}
