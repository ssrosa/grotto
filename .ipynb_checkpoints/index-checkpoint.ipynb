{
 "cells": [
  {
   "cell_type": "markdown",
   "metadata": {},
   "source": [
    "# Contract analytics for Cheese Grotto"
   ]
  },
  {
   "cell_type": "code",
   "execution_count": 1,
   "metadata": {},
   "outputs": [
    {
     "name": "stderr",
     "output_type": "stream",
     "text": [
      "C:\\Users\\Stee\\Anaconda3good\\lib\\site-packages\\tqdm\\autonotebook.py:17: TqdmExperimentalWarning: Using `tqdm.autonotebook.tqdm` in notebook mode. Use `tqdm.tqdm` instead to force console mode (e.g. in jupyter console)\n",
      "  \" (e.g. in jupyter console)\", TqdmExperimentalWarning)\n"
     ]
    }
   ],
   "source": [
    "import numpy as np\n",
    "import pandas as pd\n",
    "import requests\n",
    "import time\n",
    "import matplotlib.pyplot as plt\n",
    "import seaborn as sns\n",
    "from pandasql import sqldf #for manipulating DataFrames with SQL style queries\n",
    "#Write file to machine to work with offline\n",
    "import json\n",
    "\n",
    "#ALL BELOW to export results of API request to local file\n",
    "# Make it work for Python 2+3 and with Unicode\n",
    "import io\n",
    "try:\n",
    "    to_unicode = unicode\n",
    "except NameError:\n",
    "    to_unicode = str\n",
    "    \n",
    "from tqdm.autonotebook import tqdm"
   ]
  },
  {
   "cell_type": "markdown",
   "metadata": {},
   "source": [
    "# Instagram graph api"
   ]
  },
  {
   "cell_type": "code",
   "execution_count": 15,
   "metadata": {},
   "outputs": [],
   "source": [
    "#generated each session by the graph api explorer\n",
    "user_access_token = ''"
   ]
  },
  {
   "cell_type": "code",
   "execution_count": 13,
   "metadata": {},
   "outputs": [],
   "source": [
    "#Get the user's pages\n",
    "#For better security these must all be derived after a new user access token is created by the person logged \n",
    "#into the fb business account\n",
    "user_pages = f'https://graph.facebook.com/v4.0/me/accounts?access_token={user_access_token}'\n",
    "response = requests.get(user_pages)\n",
    "page_id = json.loads(response.text)['data'][0]['id']\n",
    "\n",
    "#Get the page's instagram business account id\n",
    "insta_biz_account = f'https://graph.facebook.com/v4.0/{page_id}?fields=instagram_business_account&access_token={user_access_token}'\n",
    "response = requests.get(insta_biz_account)\n",
    "insta_id = json.loads(response.text)['instagram_business_account']['id']"
   ]
  },
  {
   "cell_type": "code",
   "execution_count": 4,
   "metadata": {},
   "outputs": [],
   "source": [
    "#Get the Instagram Business Account's Media Objects\n",
    "media_objects = f'https://graph.facebook.com/v4.0/{insta_id}/media?access_token={user_access_token}&limit=2000'\n",
    "response = requests.get(media_objects)\n",
    "media_object_ids = [object['id'] for object in json.loads(response.text)['data']]"
   ]
  },
  {
   "cell_type": "code",
   "execution_count": 5,
   "metadata": {},
   "outputs": [
    {
     "data": {
      "text/plain": [
       "1319"
      ]
     },
     "execution_count": 5,
     "metadata": {},
     "output_type": "execute_result"
    }
   ],
   "source": [
    "len(json.loads(response.text)['data'])"
   ]
  },
  {
   "cell_type": "code",
   "execution_count": 6,
   "metadata": {},
   "outputs": [],
   "source": [
    "# media_objects = []\n",
    "# for obj_id in media_object_ids:\n",
    "#     media_objects.append(requests.get(f'https://graph.facebook.com/v4.0/{obj_id}?fields=comments,like_count,timestamp&access_token={user_access_token}').text)\n",
    "#     time.sleep(1.5)"
   ]
  },
  {
   "cell_type": "code",
   "execution_count": null,
   "metadata": {},
   "outputs": [],
   "source": []
  },
  {
   "cell_type": "code",
   "execution_count": 15,
   "metadata": {
    "collapsed": true
   },
   "outputs": [
    {
     "name": "stdout",
     "output_type": "stream",
     "text": [
      "1\n",
      "2\n",
      "3\n",
      "4\n",
      "5\n",
      "6\n",
      "7\n",
      "8\n",
      "9\n",
      "10\n",
      "11\n",
      "12\n",
      "13\n",
      "14\n",
      "15\n",
      "16\n",
      "17\n",
      "18\n",
      "19\n",
      "20\n",
      "21\n",
      "22\n",
      "23\n",
      "24\n",
      "25\n",
      "26\n",
      "27\n",
      "28\n",
      "29\n",
      "30\n",
      "31\n",
      "32\n",
      "33\n",
      "34\n",
      "35\n",
      "36\n",
      "37\n",
      "38\n",
      "39\n",
      "40\n",
      "41\n",
      "42\n",
      "43\n",
      "44\n",
      "45\n",
      "46\n",
      "47\n",
      "48\n",
      "49\n",
      "50\n",
      "51\n",
      "52\n",
      "53\n",
      "54\n",
      "55\n",
      "56\n",
      "57\n",
      "58\n",
      "59\n",
      "60\n",
      "61\n",
      "62\n",
      "63\n",
      "64\n",
      "65\n",
      "66\n",
      "67\n",
      "68\n",
      "69\n",
      "70\n",
      "71\n",
      "72\n",
      "73\n",
      "74\n",
      "75\n",
      "76\n",
      "77\n",
      "78\n",
      "79\n",
      "80\n",
      "81\n",
      "82\n",
      "83\n",
      "84\n",
      "85\n",
      "86\n",
      "87\n",
      "88\n",
      "89\n",
      "90\n",
      "91\n",
      "92\n",
      "93\n",
      "94\n",
      "95\n",
      "96\n",
      "97\n",
      "98\n",
      "99\n"
     ]
    }
   ],
   "source": [
    "#Get basic data on all media objects\n",
    "media_objects_all = []\n",
    "for obj_id in media_object_ids:\n",
    "    media_objects_all.append(requests.get(f'https://graph.facebook.com/v4.0/{obj_id}?fields=caption,comments,comments_count,media_type,media_url,like_count,timestamp&access_token={user_access_token}').text)\n",
    "    time.sleep(1.25)\n",
    "    if len(media_objects_all) % 100 == 0:\n",
    "        print(len(media_objects_all))"
   ]
  },
  {
   "cell_type": "code",
   "execution_count": 16,
   "metadata": {},
   "outputs": [
    {
     "data": {
      "text/plain": [
       "1317"
      ]
     },
     "execution_count": 16,
     "metadata": {},
     "output_type": "execute_result"
    }
   ],
   "source": [
    "len(media_objects_all)"
   ]
  },
  {
   "cell_type": "code",
   "execution_count": null,
   "metadata": {},
   "outputs": [],
   "source": [
    "#SEe for more fields: https://developers.facebook.com/docs/instagram-api/reference/media/\n",
    "\n",
    "requests.get(f'https://graph.facebook.com/v4.0/{media_object_ids[0]}?fields=caption,comments,comments_count,media_type,media_url,like_count,timestamp&access_token={user_access_token}').text\n",
    "#/?fields={fields}"
   ]
  },
  {
   "cell_type": "code",
   "execution_count": 24,
   "metadata": {},
   "outputs": [],
   "source": [
    "# Write JSON file\n",
    "with io.open('media_objects.json', 'w', encoding='utf8') as outfile:\n",
    "    str_ = json.dumps(media_objects_all,\n",
    "                      indent=4, sort_keys=True,\n",
    "                      separators=(',', ': '), ensure_ascii=False)\n",
    "    outfile.write(to_unicode(str_))"
   ]
  },
  {
   "cell_type": "markdown",
   "metadata": {},
   "source": [
    "# Start here to get local data for df"
   ]
  },
  {
   "cell_type": "code",
   "execution_count": 6,
   "metadata": {},
   "outputs": [],
   "source": [
    "# Read JSON file\n",
    "with open('media_objects.json') as data_file:\n",
    "    media_objects_json = json.load(data_file)"
   ]
  },
  {
   "cell_type": "code",
   "execution_count": 45,
   "metadata": {
    "collapsed": true
   },
   "outputs": [
    {
     "data": {
      "text/plain": [
       "'{\"caption\":\"\\\\u0040CheeseGrotto on a crisp fall eve, in a Manhattan garden. #cheese #cheesegrotto #elegance  http:\\\\/\\\\/kck.st\\\\/1qnfB7U\",\"comments\":{\"data\":[{\"timestamp\":\"2014-11-11T00:20:51+0000\",\"text\":\"\\\\u0040foodandwine\",\"id\":\"17850626032041130\"}]},\"comments_count\":1,\"media_type\":\"IMAGE\",\"media_url\":\"https:\\\\/\\\\/scontent.xx.fbcdn.net\\\\/v\\\\/t51.2885-15\\\\/10756015_338589502980226_1503532671_n.jpg?_nc_cat=111&_nc_oc=AQmJNXrHGwU811W13pNff1sPv-zF-9jAn11LGwPCcU0W28fLwOyuAKsW9kf9VHEqJxc&_nc_ht=scontent.xx&oh=19259663d526720bc1519e5c87b430f3&oe=5E194277\",\"like_count\":8,\"timestamp\":\"2014-11-10T22:47:02+0000\",\"id\":\"17841922594041130\"}'"
      ]
     },
     "execution_count": 45,
     "metadata": {},
     "output_type": "execute_result"
    }
   ],
   "source": [
    "media_objects_json[-1]"
   ]
  },
  {
   "cell_type": "code",
   "execution_count": 46,
   "metadata": {},
   "outputs": [
    {
     "data": {
      "text/plain": [
       "[{'comments_count': 0,\n",
       "  'media_type': 'IMAGE',\n",
       "  'media_url': 'https://scontent.xx.fbcdn.net/v/t51.2885-15/12976473_601177126725781_1633422619_n.jpg?_nc_cat=106&_nc_oc=AQnPbzGmSWt141M264fr38Cg9geI8UyoFfHO1pGSum0ojfOlm_8tdRKKFT7AouDudZ4&_nc_ht=scontent.xx&oh=5bcc14f7b429450d22e4f06445d1554d&oe=5E209D4B',\n",
       "  'like_count': 21,\n",
       "  'timestamp': '2016-04-23T21:52:11+0000',\n",
       "  'id': '17846983060128875'}]"
      ]
     },
     "execution_count": 46,
     "metadata": {},
     "output_type": "execute_result"
    }
   ],
   "source": [
    "#Only one thing has no caption?\n",
    "[obj  for obj in media_objects_dicts if not 'caption' in list(obj.keys())]"
   ]
  },
  {
   "cell_type": "code",
   "execution_count": 7,
   "metadata": {},
   "outputs": [],
   "source": [
    "#Get columns of data from json to build dataframe\n",
    "media_objects_dicts = [json.loads(obj) for obj in media_objects_json]\n",
    "columns = (list(media_objects_dicts[0].keys()))\n",
    "data = {col: [obj[col] if col in list(obj.keys()) else None for obj in media_objects_dicts] for col in columns}\n",
    "\n",
    "#build pandas data frame to look at data\n",
    "df = pd.DataFrame(data)\n",
    "df.set_index(pd.to_datetime(df['timestamp']), inplace = True)\n",
    "#df['date_ordinal'] = pd.to_datetime(df['timestamp']).apply(lambda date: date.toordinal())\n",
    "df.drop(['timestamp'], axis = 1, inplace = True)\n",
    "df.sort_index(axis = 0, ascending = True, inplace = True)"
   ]
  },
  {
   "cell_type": "code",
   "execution_count": 8,
   "metadata": {},
   "outputs": [
    {
     "data": {
      "text/html": [
       "<div>\n",
       "<style scoped>\n",
       "    .dataframe tbody tr th:only-of-type {\n",
       "        vertical-align: middle;\n",
       "    }\n",
       "\n",
       "    .dataframe tbody tr th {\n",
       "        vertical-align: top;\n",
       "    }\n",
       "\n",
       "    .dataframe thead th {\n",
       "        text-align: right;\n",
       "    }\n",
       "</style>\n",
       "<table border=\"1\" class=\"dataframe\">\n",
       "  <thead>\n",
       "    <tr style=\"text-align: right;\">\n",
       "      <th></th>\n",
       "      <th>caption</th>\n",
       "      <th>comments</th>\n",
       "      <th>comments_count</th>\n",
       "      <th>media_type</th>\n",
       "      <th>media_url</th>\n",
       "      <th>like_count</th>\n",
       "      <th>id</th>\n",
       "    </tr>\n",
       "    <tr>\n",
       "      <th>timestamp</th>\n",
       "      <th></th>\n",
       "      <th></th>\n",
       "      <th></th>\n",
       "      <th></th>\n",
       "      <th></th>\n",
       "      <th></th>\n",
       "      <th></th>\n",
       "    </tr>\n",
       "  </thead>\n",
       "  <tbody>\n",
       "    <tr>\n",
       "      <th>2014-11-10 22:47:02</th>\n",
       "      <td>@CheeseGrotto on a crisp fall eve, in a Manhat...</td>\n",
       "      <td>{'data': [{'timestamp': '2014-11-11T00:20:51+0...</td>\n",
       "      <td>1</td>\n",
       "      <td>IMAGE</td>\n",
       "      <td>https://scontent.xx.fbcdn.net/v/t51.2885-15/10...</td>\n",
       "      <td>8</td>\n",
       "      <td>17841922594041130</td>\n",
       "    </tr>\n",
       "    <tr>\n",
       "      <th>2014-11-10 22:52:51</th>\n",
       "      <td>Our #cheesesafe is a beautiful, simple gift fo...</td>\n",
       "      <td>None</td>\n",
       "      <td>0</td>\n",
       "      <td>IMAGE</td>\n",
       "      <td>https://scontent.xx.fbcdn.net/v/t51.2885-15/10...</td>\n",
       "      <td>6</td>\n",
       "      <td>17841735106041130</td>\n",
       "    </tr>\n",
       "    <tr>\n",
       "      <th>2014-11-10 23:04:47</th>\n",
       "      <td>This rich bloomy rind cheese was made in a @Ch...</td>\n",
       "      <td>{'data': [{'timestamp': '2016-09-09T03:22:34+0...</td>\n",
       "      <td>2</td>\n",
       "      <td>IMAGE</td>\n",
       "      <td>https://scontent.xx.fbcdn.net/v/t51.2885-15/10...</td>\n",
       "      <td>10</td>\n",
       "      <td>17843576941041130</td>\n",
       "    </tr>\n",
       "    <tr>\n",
       "      <th>2014-11-10 23:19:00</th>\n",
       "      <td>Our #cheesesafe with an awesome leather handle...</td>\n",
       "      <td>None</td>\n",
       "      <td>0</td>\n",
       "      <td>IMAGE</td>\n",
       "      <td>https://scontent.xx.fbcdn.net/v/t51.2885-15/10...</td>\n",
       "      <td>8</td>\n",
       "      <td>17841735103041130</td>\n",
       "    </tr>\n",
       "    <tr>\n",
       "      <th>2014-11-10 23:43:33</th>\n",
       "      <td>The goats want to know.....where's the @Cheese...</td>\n",
       "      <td>None</td>\n",
       "      <td>0</td>\n",
       "      <td>IMAGE</td>\n",
       "      <td>https://scontent.xx.fbcdn.net/v/t51.2885-15/10...</td>\n",
       "      <td>1</td>\n",
       "      <td>17843576947041130</td>\n",
       "    </tr>\n",
       "  </tbody>\n",
       "</table>\n",
       "</div>"
      ],
      "text/plain": [
       "                                                               caption  \\\n",
       "timestamp                                                                \n",
       "2014-11-10 22:47:02  @CheeseGrotto on a crisp fall eve, in a Manhat...   \n",
       "2014-11-10 22:52:51  Our #cheesesafe is a beautiful, simple gift fo...   \n",
       "2014-11-10 23:04:47  This rich bloomy rind cheese was made in a @Ch...   \n",
       "2014-11-10 23:19:00  Our #cheesesafe with an awesome leather handle...   \n",
       "2014-11-10 23:43:33  The goats want to know.....where's the @Cheese...   \n",
       "\n",
       "                                                              comments  \\\n",
       "timestamp                                                                \n",
       "2014-11-10 22:47:02  {'data': [{'timestamp': '2014-11-11T00:20:51+0...   \n",
       "2014-11-10 22:52:51                                               None   \n",
       "2014-11-10 23:04:47  {'data': [{'timestamp': '2016-09-09T03:22:34+0...   \n",
       "2014-11-10 23:19:00                                               None   \n",
       "2014-11-10 23:43:33                                               None   \n",
       "\n",
       "                     comments_count media_type  \\\n",
       "timestamp                                        \n",
       "2014-11-10 22:47:02               1      IMAGE   \n",
       "2014-11-10 22:52:51               0      IMAGE   \n",
       "2014-11-10 23:04:47               2      IMAGE   \n",
       "2014-11-10 23:19:00               0      IMAGE   \n",
       "2014-11-10 23:43:33               0      IMAGE   \n",
       "\n",
       "                                                             media_url  \\\n",
       "timestamp                                                                \n",
       "2014-11-10 22:47:02  https://scontent.xx.fbcdn.net/v/t51.2885-15/10...   \n",
       "2014-11-10 22:52:51  https://scontent.xx.fbcdn.net/v/t51.2885-15/10...   \n",
       "2014-11-10 23:04:47  https://scontent.xx.fbcdn.net/v/t51.2885-15/10...   \n",
       "2014-11-10 23:19:00  https://scontent.xx.fbcdn.net/v/t51.2885-15/10...   \n",
       "2014-11-10 23:43:33  https://scontent.xx.fbcdn.net/v/t51.2885-15/10...   \n",
       "\n",
       "                     like_count                 id  \n",
       "timestamp                                           \n",
       "2014-11-10 22:47:02           8  17841922594041130  \n",
       "2014-11-10 22:52:51           6  17841735106041130  \n",
       "2014-11-10 23:04:47          10  17843576941041130  \n",
       "2014-11-10 23:19:00           8  17841735103041130  \n",
       "2014-11-10 23:43:33           1  17843576947041130  "
      ]
     },
     "execution_count": 8,
     "metadata": {},
     "output_type": "execute_result"
    }
   ],
   "source": [
    "df.head()"
   ]
  },
  {
   "cell_type": "code",
   "execution_count": 61,
   "metadata": {},
   "outputs": [
    {
     "data": {
      "text/plain": [
       "Text(0.5,1,'Number of likes on posts over time')"
      ]
     },
     "execution_count": 61,
     "metadata": {},
     "output_type": "execute_result"
    },
    {
     "data": {
      "image/png": "[encoded data removed]",
      "text/plain": [
       "<Figure size 1008x576 with 1 Axes>"
      ]
     },
     "metadata": {
      "needs_background": "light"
     },
     "output_type": "display_data"
    }
   ],
   "source": [
    "fig = plt.figure(figsize = (14,8))\n",
    "plt.scatter(df.index, df['like_count'])\n",
    "plt.title('Number of likes on posts over time')"
   ]
  },
  {
   "cell_type": "code",
   "execution_count": 45,
   "metadata": {},
   "outputs": [],
   "source": [
    "# fig = plt.figure(figsize = (8,6))\n",
    "# plt.scatter(df.index, df['comments_count'])\n",
    "# plt.title('Number of comments on posts over time')"
   ]
  },
  {
   "cell_type": "code",
   "execution_count": 5,
   "metadata": {},
   "outputs": [],
   "source": [
    "boostio = df['6/1/2018': '5/16/2019']\n",
    "not_boostio = df.drop(boostio.index, axis = 0)"
   ]
  },
  {
   "cell_type": "code",
   "execution_count": 57,
   "metadata": {},
   "outputs": [],
   "source": []
  },
  {
   "cell_type": "code",
   "execution_count": 45,
   "metadata": {},
   "outputs": [
    {
     "data": {
      "text/plain": [
       "Text(0.5,1,'Number of likes on posts over time, without Boostio')"
      ]
     },
     "execution_count": 45,
     "metadata": {},
     "output_type": "execute_result"
    },
    {
     "data": {
      "image/png": "[encoded data removed]",
      "text/plain": [
       "<Figure size 1008x576 with 1 Axes>"
      ]
     },
     "metadata": {
      "needs_background": "light"
     },
     "output_type": "display_data"
    }
   ],
   "source": [
    "#Drop the outliers that float higher than the rest\n",
    "not_boostio = not_boostio[not_boostio['like_count'] < 350]\n",
    "#Plot the plot\n",
    "fig = plt.figure(figsize = (14,8))\n",
    "plt.scatter(not_boostio.index, not_boostio['like_count'])\n",
    "plt.title('Number of likes on posts over time, without Boostio')"
   ]
  },
  {
   "cell_type": "code",
   "execution_count": null,
   "metadata": {},
   "outputs": [],
   "source": []
  },
  {
   "cell_type": "markdown",
   "metadata": {},
   "source": [
    "first use of boostio: august 5 2018\n",
    "\n",
    "last use of boostio: april 13. probably mid may"
   ]
  },
  {
   "cell_type": "code",
   "execution_count": 7,
   "metadata": {
    "collapsed": true
   },
   "outputs": [
    {
     "data": {
      "text/plain": [
       "Text(0.5,1,'Number of likes on posts over time with Boostio')"
      ]
     },
     "execution_count": 7,
     "metadata": {},
     "output_type": "execute_result"
    },
    {
     "data": {
      "image/png": "[encoded data removed]",
      "text/plain": [
       "<Figure size 864x432 with 1 Axes>"
      ]
     },
     "metadata": {
      "needs_background": "light"
     },
     "output_type": "display_data"
    }
   ],
   "source": [
    "#Drop the outliers that float lower than the rest\n",
    "boostio = boostio[boostio['like_count'] > 200]\n",
    "fig = plt.figure(figsize = (12,6))\n",
    "plt.scatter(boostio.index, boostio['like_count'])\n",
    "plt.title('Number of likes on posts over time with Boostio')"
   ]
  },
  {
   "cell_type": "code",
   "execution_count": 30,
   "metadata": {
    "collapsed": true
   },
   "outputs": [
    {
     "data": {
      "text/html": [
       "<div>\n",
       "<style scoped>\n",
       "    .dataframe tbody tr th:only-of-type {\n",
       "        vertical-align: middle;\n",
       "    }\n",
       "\n",
       "    .dataframe tbody tr th {\n",
       "        vertical-align: top;\n",
       "    }\n",
       "\n",
       "    .dataframe thead th {\n",
       "        text-align: right;\n",
       "    }\n",
       "</style>\n",
       "<table border=\"1\" class=\"dataframe\">\n",
       "  <thead>\n",
       "    <tr style=\"text-align: right;\">\n",
       "      <th></th>\n",
       "      <th>comments_count</th>\n",
       "      <th>like_count</th>\n",
       "    </tr>\n",
       "  </thead>\n",
       "  <tbody>\n",
       "    <tr>\n",
       "      <th>count</th>\n",
       "      <td>169.000000</td>\n",
       "      <td>169.000000</td>\n",
       "    </tr>\n",
       "    <tr>\n",
       "      <th>mean</th>\n",
       "      <td>3.668639</td>\n",
       "      <td>559.053254</td>\n",
       "    </tr>\n",
       "    <tr>\n",
       "      <th>std</th>\n",
       "      <td>4.548315</td>\n",
       "      <td>193.157050</td>\n",
       "    </tr>\n",
       "    <tr>\n",
       "      <th>min</th>\n",
       "      <td>0.000000</td>\n",
       "      <td>20.000000</td>\n",
       "    </tr>\n",
       "    <tr>\n",
       "      <th>25%</th>\n",
       "      <td>1.000000</td>\n",
       "      <td>453.000000</td>\n",
       "    </tr>\n",
       "    <tr>\n",
       "      <th>50%</th>\n",
       "      <td>2.000000</td>\n",
       "      <td>571.000000</td>\n",
       "    </tr>\n",
       "    <tr>\n",
       "      <th>75%</th>\n",
       "      <td>5.000000</td>\n",
       "      <td>624.000000</td>\n",
       "    </tr>\n",
       "    <tr>\n",
       "      <th>max</th>\n",
       "      <td>32.000000</td>\n",
       "      <td>1158.000000</td>\n",
       "    </tr>\n",
       "  </tbody>\n",
       "</table>\n",
       "</div>"
      ],
      "text/plain": [
       "       comments_count   like_count\n",
       "count      169.000000   169.000000\n",
       "mean         3.668639   559.053254\n",
       "std          4.548315   193.157050\n",
       "min          0.000000    20.000000\n",
       "25%          1.000000   453.000000\n",
       "50%          2.000000   571.000000\n",
       "75%          5.000000   624.000000\n",
       "max         32.000000  1158.000000"
      ]
     },
     "execution_count": 30,
     "metadata": {},
     "output_type": "execute_result"
    }
   ],
   "source": [
    "boostio.describe()"
   ]
  },
  {
   "cell_type": "code",
   "execution_count": 42,
   "metadata": {
    "collapsed": true
   },
   "outputs": [
    {
     "data": {
      "text/html": [
       "<div>\n",
       "<style scoped>\n",
       "    .dataframe tbody tr th:only-of-type {\n",
       "        vertical-align: middle;\n",
       "    }\n",
       "\n",
       "    .dataframe tbody tr th {\n",
       "        vertical-align: top;\n",
       "    }\n",
       "\n",
       "    .dataframe thead th {\n",
       "        text-align: right;\n",
       "    }\n",
       "</style>\n",
       "<table border=\"1\" class=\"dataframe\">\n",
       "  <thead>\n",
       "    <tr style=\"text-align: right;\">\n",
       "      <th></th>\n",
       "      <th>comments_count</th>\n",
       "      <th>like_count</th>\n",
       "    </tr>\n",
       "  </thead>\n",
       "  <tbody>\n",
       "    <tr>\n",
       "      <th>count</th>\n",
       "      <td>1148.000000</td>\n",
       "      <td>1148.000000</td>\n",
       "    </tr>\n",
       "    <tr>\n",
       "      <th>mean</th>\n",
       "      <td>3.059233</td>\n",
       "      <td>60.197735</td>\n",
       "    </tr>\n",
       "    <tr>\n",
       "      <th>std</th>\n",
       "      <td>2.961239</td>\n",
       "      <td>77.194148</td>\n",
       "    </tr>\n",
       "    <tr>\n",
       "      <th>min</th>\n",
       "      <td>0.000000</td>\n",
       "      <td>1.000000</td>\n",
       "    </tr>\n",
       "    <tr>\n",
       "      <th>25%</th>\n",
       "      <td>1.000000</td>\n",
       "      <td>33.000000</td>\n",
       "    </tr>\n",
       "    <tr>\n",
       "      <th>50%</th>\n",
       "      <td>2.000000</td>\n",
       "      <td>50.000000</td>\n",
       "    </tr>\n",
       "    <tr>\n",
       "      <th>75%</th>\n",
       "      <td>4.000000</td>\n",
       "      <td>69.000000</td>\n",
       "    </tr>\n",
       "    <tr>\n",
       "      <th>max</th>\n",
       "      <td>50.000000</td>\n",
       "      <td>1708.000000</td>\n",
       "    </tr>\n",
       "  </tbody>\n",
       "</table>\n",
       "</div>"
      ],
      "text/plain": [
       "       comments_count   like_count\n",
       "count     1148.000000  1148.000000\n",
       "mean         3.059233    60.197735\n",
       "std          2.961239    77.194148\n",
       "min          0.000000     1.000000\n",
       "25%          1.000000    33.000000\n",
       "50%          2.000000    50.000000\n",
       "75%          4.000000    69.000000\n",
       "max         50.000000  1708.000000"
      ]
     },
     "execution_count": 42,
     "metadata": {},
     "output_type": "execute_result"
    }
   ],
   "source": [
    "not_boostio.describe()"
   ]
  },
  {
   "cell_type": "code",
   "execution_count": 44,
   "metadata": {},
   "outputs": [
    {
     "name": "stderr",
     "output_type": "stream",
     "text": [
      "C:\\Users\\Stee\\Anaconda3good\\lib\\site-packages\\scipy\\stats\\stats.py:1713: FutureWarning: Using a non-tuple sequence for multidimensional indexing is deprecated; use `arr[tuple(seq)]` instead of `arr[seq]`. In the future this will be interpreted as an array index, `arr[np.array(seq)]`, which will result either in an error or a different result.\n",
      "  return np.add.reduce(sorted[indexer] * weights, axis=axis) / sumval\n"
     ]
    },
    {
     "data": {
      "text/plain": [
       "Text(0.5,1,'Likes over time, excluding Boostio')"
      ]
     },
     "execution_count": 44,
     "metadata": {},
     "output_type": "execute_result"
    },
    {
     "data": {
      "image/png": "[encoded data removed]",
      "text/plain": [
       "<Figure size 1152x576 with 1 Axes>"
      ]
     },
     "metadata": {
      "needs_background": "light"
     },
     "output_type": "display_data"
    }
   ],
   "source": [
    "#Show trend over time\n",
    "not_b_index = np.arange(not_boostio['like_count'].values.shape[0])\n",
    "fig = plt.figure(figsize = (16,8))\n",
    "sns.regplot(x = not_b_index, \n",
    "            y = not_boostio['like_count'].values,\n",
    "           scatter_kws=None, line_kws={'color':'red'})\n",
    "plt.title('Likes over time, excluding Boostio')"
   ]
  },
  {
   "cell_type": "markdown",
   "metadata": {},
   "source": [
    "# Caption feature engineering"
   ]
  },
  {
   "cell_type": "code",
   "execution_count": null,
   "metadata": {},
   "outputs": [],
   "source": [
    "# boostio = df['6/1/2018': '5/16/2019']\n",
    "# not_boostio = df.drop(boostio.index, axis = 0)"
   ]
  },
  {
   "cell_type": "code",
   "execution_count": 26,
   "metadata": {},
   "outputs": [
    {
     "data": {
      "text/html": [
       "<div>\n",
       "<style scoped>\n",
       "    .dataframe tbody tr th:only-of-type {\n",
       "        vertical-align: middle;\n",
       "    }\n",
       "\n",
       "    .dataframe tbody tr th {\n",
       "        vertical-align: top;\n",
       "    }\n",
       "\n",
       "    .dataframe thead th {\n",
       "        text-align: right;\n",
       "    }\n",
       "</style>\n",
       "<table border=\"1\" class=\"dataframe\">\n",
       "  <thead>\n",
       "    <tr style=\"text-align: right;\">\n",
       "      <th></th>\n",
       "      <th>caption</th>\n",
       "      <th>comments</th>\n",
       "      <th>comments_count</th>\n",
       "      <th>media_type</th>\n",
       "      <th>media_url</th>\n",
       "      <th>like_count</th>\n",
       "      <th>id</th>\n",
       "      <th>date_ordinal</th>\n",
       "    </tr>\n",
       "    <tr>\n",
       "      <th>timestamp</th>\n",
       "      <th></th>\n",
       "      <th></th>\n",
       "      <th></th>\n",
       "      <th></th>\n",
       "      <th></th>\n",
       "      <th></th>\n",
       "      <th></th>\n",
       "      <th></th>\n",
       "    </tr>\n",
       "  </thead>\n",
       "  <tbody>\n",
       "    <tr>\n",
       "      <th>2014-11-10 22:47:02</th>\n",
       "      <td>@CheeseGrotto on a crisp fall eve, in a Manhat...</td>\n",
       "      <td>{'data': [{'timestamp': '2014-11-11T00:20:51+0...</td>\n",
       "      <td>1</td>\n",
       "      <td>IMAGE</td>\n",
       "      <td>https://scontent.xx.fbcdn.net/v/t51.2885-15/10...</td>\n",
       "      <td>8</td>\n",
       "      <td>17841922594041130</td>\n",
       "      <td>735547</td>\n",
       "    </tr>\n",
       "    <tr>\n",
       "      <th>2014-11-10 22:52:51</th>\n",
       "      <td>Our #cheesesafe is a beautiful, simple gift fo...</td>\n",
       "      <td>None</td>\n",
       "      <td>0</td>\n",
       "      <td>IMAGE</td>\n",
       "      <td>https://scontent.xx.fbcdn.net/v/t51.2885-15/10...</td>\n",
       "      <td>6</td>\n",
       "      <td>17841735106041130</td>\n",
       "      <td>735547</td>\n",
       "    </tr>\n",
       "    <tr>\n",
       "      <th>2014-11-10 23:04:47</th>\n",
       "      <td>This rich bloomy rind cheese was made in a @Ch...</td>\n",
       "      <td>{'data': [{'timestamp': '2016-09-09T03:22:34+0...</td>\n",
       "      <td>2</td>\n",
       "      <td>IMAGE</td>\n",
       "      <td>https://scontent.xx.fbcdn.net/v/t51.2885-15/10...</td>\n",
       "      <td>10</td>\n",
       "      <td>17843576941041130</td>\n",
       "      <td>735547</td>\n",
       "    </tr>\n",
       "    <tr>\n",
       "      <th>2014-11-10 23:19:00</th>\n",
       "      <td>Our #cheesesafe with an awesome leather handle...</td>\n",
       "      <td>None</td>\n",
       "      <td>0</td>\n",
       "      <td>IMAGE</td>\n",
       "      <td>https://scontent.xx.fbcdn.net/v/t51.2885-15/10...</td>\n",
       "      <td>8</td>\n",
       "      <td>17841735103041130</td>\n",
       "      <td>735547</td>\n",
       "    </tr>\n",
       "    <tr>\n",
       "      <th>2014-11-10 23:43:33</th>\n",
       "      <td>The goats want to know.....where's the @Cheese...</td>\n",
       "      <td>None</td>\n",
       "      <td>0</td>\n",
       "      <td>IMAGE</td>\n",
       "      <td>https://scontent.xx.fbcdn.net/v/t51.2885-15/10...</td>\n",
       "      <td>1</td>\n",
       "      <td>17843576947041130</td>\n",
       "      <td>735547</td>\n",
       "    </tr>\n",
       "  </tbody>\n",
       "</table>\n",
       "</div>"
      ],
      "text/plain": [
       "                                                               caption  \\\n",
       "timestamp                                                                \n",
       "2014-11-10 22:47:02  @CheeseGrotto on a crisp fall eve, in a Manhat...   \n",
       "2014-11-10 22:52:51  Our #cheesesafe is a beautiful, simple gift fo...   \n",
       "2014-11-10 23:04:47  This rich bloomy rind cheese was made in a @Ch...   \n",
       "2014-11-10 23:19:00  Our #cheesesafe with an awesome leather handle...   \n",
       "2014-11-10 23:43:33  The goats want to know.....where's the @Cheese...   \n",
       "\n",
       "                                                              comments  \\\n",
       "timestamp                                                                \n",
       "2014-11-10 22:47:02  {'data': [{'timestamp': '2014-11-11T00:20:51+0...   \n",
       "2014-11-10 22:52:51                                               None   \n",
       "2014-11-10 23:04:47  {'data': [{'timestamp': '2016-09-09T03:22:34+0...   \n",
       "2014-11-10 23:19:00                                               None   \n",
       "2014-11-10 23:43:33                                               None   \n",
       "\n",
       "                     comments_count media_type  \\\n",
       "timestamp                                        \n",
       "2014-11-10 22:47:02               1      IMAGE   \n",
       "2014-11-10 22:52:51               0      IMAGE   \n",
       "2014-11-10 23:04:47               2      IMAGE   \n",
       "2014-11-10 23:19:00               0      IMAGE   \n",
       "2014-11-10 23:43:33               0      IMAGE   \n",
       "\n",
       "                                                             media_url  \\\n",
       "timestamp                                                                \n",
       "2014-11-10 22:47:02  https://scontent.xx.fbcdn.net/v/t51.2885-15/10...   \n",
       "2014-11-10 22:52:51  https://scontent.xx.fbcdn.net/v/t51.2885-15/10...   \n",
       "2014-11-10 23:04:47  https://scontent.xx.fbcdn.net/v/t51.2885-15/10...   \n",
       "2014-11-10 23:19:00  https://scontent.xx.fbcdn.net/v/t51.2885-15/10...   \n",
       "2014-11-10 23:43:33  https://scontent.xx.fbcdn.net/v/t51.2885-15/10...   \n",
       "\n",
       "                     like_count                 id  date_ordinal  \n",
       "timestamp                                                         \n",
       "2014-11-10 22:47:02           8  17841922594041130        735547  \n",
       "2014-11-10 22:52:51           6  17841735106041130        735547  \n",
       "2014-11-10 23:04:47          10  17843576941041130        735547  \n",
       "2014-11-10 23:19:00           8  17841735103041130        735547  \n",
       "2014-11-10 23:43:33           1  17843576947041130        735547  "
      ]
     },
     "execution_count": 26,
     "metadata": {},
     "output_type": "execute_result"
    }
   ],
   "source": [
    "df.head()"
   ]
  },
  {
   "cell_type": "code",
   "execution_count": 31,
   "metadata": {
    "collapsed": true
   },
   "outputs": [
    {
     "data": {
      "text/plain": [
       "timestamp\n",
       "2014-11-10 22:47:02    @CheeseGrotto on a crisp fall eve, in a Manhat...\n",
       "2014-11-10 22:52:51    Our #cheesesafe is a beautiful, simple gift fo...\n",
       "2014-11-10 23:04:47    This rich bloomy rind cheese was made in a @Ch...\n",
       "2014-11-10 23:19:00    Our #cheesesafe with an awesome leather handle...\n",
       "2014-11-10 23:43:33    The goats want to know.....where's the @Cheese...\n",
       "2014-11-10 23:53:32    This #cheesesaint is praying that you will be ...\n",
       "2014-11-11 00:11:10    A goat milk bloomy rind #cheese aged in a @Che...\n",
       "2014-11-11 03:38:35    Here's an old memo I wrote as a promise to mys...\n",
       "2014-11-11 17:49:41    The pure white corian boards provide a strikin...\n",
       "2014-11-12 00:46:17    The @CheeseGrotto Kickstarter Party is happeni...\n",
       "2014-11-12 16:00:42    Who's ready for the mini cheese cave revolutio...\n",
       "2014-11-16 00:56:05    This brisk Saturday eve calls for a cozy #chee...\n",
       "2014-11-21 17:49:37    This is tonight!! Come join us at 61 Local  ch...\n",
       "2014-11-23 00:57:05    #cheesegrotto and #cheesesafe straight chillin...\n",
       "2014-11-23 22:32:20    baby's second outing. Where the #cheese goes, ...\n",
       "2014-11-29 01:19:35    Picture from last Friday's Kickstarter Party! ...\n",
       "2014-11-30 19:49:22    Found this copy of #FrenchCheeses on the stree...\n",
       "2014-12-01 02:44:16    From caves to grottos!! Only 3 days left for o...\n",
       "2014-12-07 19:05:52                                     #creamcheeserose\n",
       "2014-12-09 15:39:13    #cheesesafe is getting ready for a production ...\n",
       "2014-12-09 16:50:02    We're offering #cheesemakinggiftcertificates f...\n",
       "2014-12-12 18:51:18    Mega local cheese platter @61local #landaff #m...\n",
       "2014-12-16 16:16:46           Today we build. #pine #cheesesafe @61local\n",
       "2014-12-16 16:19:13    Milling pine with Dave of @61local #cheesesafe...\n",
       "2014-12-16 16:22:22                  Work dat wood. @61local #cheesesafe\n",
       "2014-12-16 16:27:50                     The stacks. @61local #cheesesafe\n",
       "2014-12-20 19:10:18    I'm missing that broccoli soup with apple pota...\n",
       "2014-12-22 01:28:50                    Branding. #fire #pine #cheesesafe\n",
       "2014-12-22 17:11:23    Giving my wooden goat board a face lift....cle...\n",
       "2014-12-23 15:42:59    #CheeseGrotto coming to life. #cheesesafe @61l...\n",
       "                                             ...                        \n",
       "2019-09-06 00:57:04    🌟 Building a cheese board is an art as well as...\n",
       "2019-09-07 01:04:06                                💙 Name that cheese...\n",
       "2019-09-07 20:31:04                 🐺 Still rings true till this day....\n",
       "2019-09-08 22:52:09    Chocolate, figs, and pomegranates make this bo...\n",
       "2019-09-09 15:45:20    🙏 Still praying you get to try this once this ...\n",
       "2019-09-10 17:04:15    💛 We love our resin and recycled paper cheese ...\n",
       "2019-09-12 00:38:15    🍂Coming to terms with the fact that fall is on...\n",
       "2019-09-13 00:57:20    ⭐All of our Cheese Grottos come complete with ...\n",
       "2019-09-14 01:04:57    🎉TGIF - celebrate the weekend with a @gruyere_...\n",
       "2019-09-14 20:31:13    👋 Hello fontina and urfa pepper omelette, so n...\n",
       "2019-09-15 22:52:09    👌🏿 The composition of this board by @saycheese...\n",
       "2019-09-16 15:45:42    👋 It was #nationalcheesetoastday yesterday, an...\n",
       "2019-09-17 02:55:39    🌠 About tonight....\\n🌠 Big thanks to @cherrybo...\n",
       "2019-09-17 17:04:06    🤓 Fun fact: Did you know ceramics and cheese a...\n",
       "2019-09-18 19:23:37    🍔 Happy National Cheeseburger Day with this ep...\n",
       "2019-09-20 00:57:07    💡 Try your hand at cheesemaking by making a si...\n",
       "2019-09-21 01:04:16    😉 Our Grotto Fresco, cheese, @milene.jardine.c...\n",
       "2019-09-21 20:31:23    🍕The season of melty cheese is upon us.⁣\\n🧀 Ou...\n",
       "2019-09-22 22:52:07    🍇 Holding on to the last remnants of summer wi...\n",
       "2019-09-23 15:45:19    ⭐ This board is truly one-of-a-kind and an abs...\n",
       "2019-09-24 17:04:27                                🐐 Name that cheese...\n",
       "2019-09-25 18:44:06               Who eats the rind on the cheese? 🙋‍♂️👹\n",
       "2019-09-26 17:41:57    🌠 Up close & personal Gorgonzola Dolce looking...\n",
       "2019-09-29 20:15:29    🍁 Brie Fermier Jouvence - the excellent hiking...\n",
       "2019-09-30 18:21:39    👨‍👩‍👧‍👧 Tomorrow, our Cheese Grotto Family of ...\n",
       "2019-10-01 19:41:51    🎉 Our brand new Cheese Grotto Piatto has offic...\n",
       "2019-10-02 17:44:23    October is American Cheese Month. \\nWhat's you...\n",
       "2019-10-03 16:14:59    🦄 What's your Cheese Personality?\\n☝🏽 Take our...\n",
       "2019-10-06 19:15:54    🍁 Have you made a raclette dinner at home? 🍁 R...\n",
       "2019-10-08 20:09:25    Is it too early in the week to pair cheese and...\n",
       "Name: caption, Length: 1317, dtype: object"
      ]
     },
     "execution_count": 31,
     "metadata": {},
     "output_type": "execute_result"
    }
   ],
   "source": [
    "df['10-11-2014':'10-11-2014']['caption']"
   ]
  },
  {
   "cell_type": "code",
   "execution_count": 33,
   "metadata": {},
   "outputs": [
    {
     "data": {
      "text/plain": [
       "timestamp\n",
       "2014-11-10 22:47:02    @CheeseGrotto on a crisp fall eve, in a Manhat...\n",
       "2014-11-10 22:52:51    Our #cheesesafe is a beautiful, simple gift fo...\n",
       "2014-11-10 23:04:47    This rich bloomy rind cheese was made in a @Ch...\n",
       "2014-11-10 23:19:00    Our #cheesesafe with an awesome leather handle...\n",
       "2014-11-10 23:43:33    The goats want to know.....where's the @Cheese...\n",
       "2014-11-10 23:53:32    This #cheesesaint is praying that you will be ...\n",
       "Name: caption, dtype: object"
      ]
     },
     "execution_count": 33,
     "metadata": {},
     "output_type": "execute_result"
    }
   ],
   "source": [
    "df['11-10-2014':'11-10-2014']['caption']"
   ]
  },
  {
   "cell_type": "code",
   "execution_count": 35,
   "metadata": {},
   "outputs": [
    {
     "data": {
      "text/plain": [
       "DatetimeIndex(['2014-11-10 22:47:02', '2014-11-10 22:52:51',\n",
       "               '2014-11-10 23:04:47', '2014-11-10 23:19:00',\n",
       "               '2014-11-10 23:43:33', '2014-11-10 23:53:32'],\n",
       "              dtype='datetime64[ns]', name='timestamp', freq=None)"
      ]
     },
     "execution_count": 35,
     "metadata": {},
     "output_type": "execute_result"
    }
   ],
   "source": [
    "df['11-10-2014':'11-10-2014'].index"
   ]
  },
  {
   "cell_type": "code",
   "execution_count": 42,
   "metadata": {},
   "outputs": [
    {
     "data": {
      "text/plain": [
       "array(['@CheeseGrotto on a crisp fall eve, in a Manhattan garden. #cheese #cheesegrotto #elegance  http://kck.st/1qnfB7U',\n",
       "       'Our #cheesesafe is a beautiful, simple gift for that rustic #cheese lover we all know. @cheesegrotto @kickstarter http://kck.st/1qnfB7U',\n",
       "       \"This rich bloomy rind cheese was made in a @CheeseGrotto. It's raw cow's milk. I call it, The Lowing. #cheesegrotto #cheese #rawmilkcheese\",\n",
       "       'Our #cheesesafe with an awesome leather handle. The $75 pledge. @kickstarter http://kck.st/1qnfB7U',\n",
       "       \"The goats want to know.....where's the @CheeseGrotto at? @Kickstarter, I say! http://kck.st/1qnfB7U #naturalcheeserocksdahouse\",\n",
       "       'This #cheesesaint is praying that you will be blessed with a #cheesesafe and a #cheesegrotto this coming New Year. @kickstarter \\nhttp://kck.st/1qnfB7U'],\n",
       "      dtype=object)"
      ]
     },
     "execution_count": 42,
     "metadata": {},
     "output_type": "execute_result"
    }
   ],
   "source": [
    "df[:'2014-11-10 23:53:32']['caption'].values"
   ]
  },
  {
   "cell_type": "code",
   "execution_count": null,
   "metadata": {},
   "outputs": [],
   "source": []
  },
  {
   "cell_type": "markdown",
   "metadata": {},
   "source": [
    "# Insights on media objects"
   ]
  },
  {
   "cell_type": "code",
   "execution_count": 15,
   "metadata": {},
   "outputs": [
    {
     "data": {
      "text/plain": [
       "IMAGE             1210\n",
       "VIDEO               57\n",
       "CAROUSEL_ALBUM      50\n",
       "Name: media_type, dtype: int64"
      ]
     },
     "execution_count": 15,
     "metadata": {},
     "output_type": "execute_result"
    }
   ],
   "source": [
    "df['media_type'].value_counts()"
   ]
  },
  {
   "cell_type": "markdown",
   "metadata": {},
   "source": [
    "# Story insights"
   ]
  },
  {
   "cell_type": "code",
   "execution_count": 26,
   "metadata": {},
   "outputs": [],
   "source": [
    "#Attempt to get stories\n",
    "stories = f'https://graph.facebook.com/v4.0/{insta_id}/stories?access_token={user_access_token}&limit=2000'\n",
    "response = requests.get(stories)\n",
    "story_ids = [obj['id'] for obj in json.loads(response.text)['data']]"
   ]
  },
  {
   "cell_type": "code",
   "execution_count": 34,
   "metadata": {},
   "outputs": [
    {
     "data": {
      "application/vnd.jupyter.widget-view+json": {
       "model_id": "fba3663e3f4f4668ac3066ac5aa35d4a",
       "version_major": 2,
       "version_minor": 0
      },
      "text/plain": [
       "HBox(children=(IntProgress(value=0, max=7), HTML(value='')))"
      ]
     },
     "metadata": {},
     "output_type": "display_data"
    },
    {
     "name": "stdout",
     "output_type": "stream",
     "text": [
      "\n"
     ]
    }
   ],
   "source": [
    "#GEt timestamps on stories\n",
    "story_timestamps = []\n",
    "for obj_id in tqdm(story_ids):\n",
    "    story_timestamps.append(requests.get(f'https://graph.facebook.com/v4.0/{obj_id}?fields=timestamp&access_token={user_access_token}').text)\n",
    "    time.sleep(1.25)\n",
    "    if len(story_timestamps) % 100 == 0:\n",
    "        print(len(story_timestamps))"
   ]
  },
  {
   "cell_type": "code",
   "execution_count": 45,
   "metadata": {},
   "outputs": [
    {
     "data": {
      "application/vnd.jupyter.widget-view+json": {
       "model_id": "e3d1bdb0e3a84b918cffa6f20a844cca",
       "version_major": 2,
       "version_minor": 0
      },
      "text/plain": [
       "HBox(children=(IntProgress(value=0, max=7), HTML(value='')))"
      ]
     },
     "metadata": {},
     "output_type": "display_data"
    },
    {
     "name": "stdout",
     "output_type": "stream",
     "text": [
      "\n"
     ]
    }
   ],
   "source": [
    "#Get insights on stories\n",
    "story_metrics = 'exits,impressions,reach,replies,taps_forward,taps_back'\n",
    "story_insights = []\n",
    "for obj_id in tqdm(story_ids):\n",
    "    story_insights.append(requests.get(f'https://graph.facebook.com/v4.0/{obj_id}/insights?metric={story_metrics}&access_token={user_access_token}').text)\n",
    "    time.sleep(1.25)\n",
    "    if len(story_insights) % 100 == 0:\n",
    "        print(len(story_insights))"
   ]
  },
  {
   "cell_type": "code",
   "execution_count": 148,
   "metadata": {},
   "outputs": [
    {
     "data": {
      "text/plain": [
       "['exits: Number of times someone exited the carousel',\n",
       " 'impressions: Total number of times the media object has been seen',\n",
       " 'reach: Total number of unique accounts that have seen the media object',\n",
       " 'replies: Total number of replies to the carousel',\n",
       " \"taps_forward: Total number of taps to see this story's next photo or video\",\n",
       " \"taps_back: Total number of taps to see this story's previous photo or video\"]"
      ]
     },
     "execution_count": 148,
     "metadata": {},
     "output_type": "execute_result"
    }
   ],
   "source": [
    "story_insights_json = [json.loads(obj) for obj in story_insights]\n",
    "story_insight_fields = [story['name'] for story in story_insights_json[0]['data']]\n",
    "#Bring relevant data together into a dict of lists \n",
    "story_insight_data = {field: [story['data'][i]['values'][0]['value'] for story in story_insights_json[:-1]]   for i, field in enumerate(story_insight_fields)}\n",
    "#Add timestamp column\n",
    "story_insight_data['timestamp'] = [json.loads(stamp)['timestamp'] for stamp in story_timestamps[:-1]]\n",
    "#Description of story insight fields\n",
    "story_insight_field_descriptions = [obj['name'] + ': ' + obj['description'] for obj in story_insights_json[0]['data']]\n",
    "story_insight_field_descriptions"
   ]
  },
  {
   "cell_type": "code",
   "execution_count": 149,
   "metadata": {},
   "outputs": [],
   "source": [
    "#build pandas data frame to look at data\n",
    "story_df = pd.DataFrame(story_insight_data)\n",
    "story_df.set_index(pd.to_datetime(story_df['timestamp']), inplace = True)\n",
    "story_df.drop(['timestamp'], axis = 1, inplace = True)\n",
    "story_df.sort_index(axis = 0, ascending = True, inplace = True)"
   ]
  },
  {
   "cell_type": "code",
   "execution_count": 150,
   "metadata": {},
   "outputs": [
    {
     "data": {
      "text/html": [
       "<div>\n",
       "<style scoped>\n",
       "    .dataframe tbody tr th:only-of-type {\n",
       "        vertical-align: middle;\n",
       "    }\n",
       "\n",
       "    .dataframe tbody tr th {\n",
       "        vertical-align: top;\n",
       "    }\n",
       "\n",
       "    .dataframe thead th {\n",
       "        text-align: right;\n",
       "    }\n",
       "</style>\n",
       "<table border=\"1\" class=\"dataframe\">\n",
       "  <thead>\n",
       "    <tr style=\"text-align: right;\">\n",
       "      <th></th>\n",
       "      <th>exits</th>\n",
       "      <th>impressions</th>\n",
       "      <th>reach</th>\n",
       "      <th>replies</th>\n",
       "      <th>taps_forward</th>\n",
       "      <th>taps_back</th>\n",
       "    </tr>\n",
       "    <tr>\n",
       "      <th>timestamp</th>\n",
       "      <th></th>\n",
       "      <th></th>\n",
       "      <th></th>\n",
       "      <th></th>\n",
       "      <th></th>\n",
       "      <th></th>\n",
       "    </tr>\n",
       "  </thead>\n",
       "  <tbody>\n",
       "    <tr>\n",
       "      <th>2019-10-10 19:15:14</th>\n",
       "      <td>5</td>\n",
       "      <td>577</td>\n",
       "      <td>375</td>\n",
       "      <td>1</td>\n",
       "      <td>93</td>\n",
       "      <td>5</td>\n",
       "    </tr>\n",
       "    <tr>\n",
       "      <th>2019-10-11 13:30:48</th>\n",
       "      <td>6</td>\n",
       "      <td>237</td>\n",
       "      <td>100</td>\n",
       "      <td>0</td>\n",
       "      <td>53</td>\n",
       "      <td>4</td>\n",
       "    </tr>\n",
       "    <tr>\n",
       "      <th>2019-10-11 13:38:47</th>\n",
       "      <td>1</td>\n",
       "      <td>113</td>\n",
       "      <td>101</td>\n",
       "      <td>0</td>\n",
       "      <td>51</td>\n",
       "      <td>6</td>\n",
       "    </tr>\n",
       "    <tr>\n",
       "      <th>2019-10-11 13:41:46</th>\n",
       "      <td>0</td>\n",
       "      <td>112</td>\n",
       "      <td>107</td>\n",
       "      <td>0</td>\n",
       "      <td>46</td>\n",
       "      <td>3</td>\n",
       "    </tr>\n",
       "    <tr>\n",
       "      <th>2019-10-11 13:43:33</th>\n",
       "      <td>2</td>\n",
       "      <td>109</td>\n",
       "      <td>107</td>\n",
       "      <td>0</td>\n",
       "      <td>47</td>\n",
       "      <td>0</td>\n",
       "    </tr>\n",
       "    <tr>\n",
       "      <th>2019-10-11 13:46:04</th>\n",
       "      <td>2</td>\n",
       "      <td>184</td>\n",
       "      <td>162</td>\n",
       "      <td>0</td>\n",
       "      <td>43</td>\n",
       "      <td>1</td>\n",
       "    </tr>\n",
       "  </tbody>\n",
       "</table>\n",
       "</div>"
      ],
      "text/plain": [
       "                     exits  impressions  reach  replies  taps_forward  \\\n",
       "timestamp                                                               \n",
       "2019-10-10 19:15:14      5          577    375        1            93   \n",
       "2019-10-11 13:30:48      6          237    100        0            53   \n",
       "2019-10-11 13:38:47      1          113    101        0            51   \n",
       "2019-10-11 13:41:46      0          112    107        0            46   \n",
       "2019-10-11 13:43:33      2          109    107        0            47   \n",
       "2019-10-11 13:46:04      2          184    162        0            43   \n",
       "\n",
       "                     taps_back  \n",
       "timestamp                       \n",
       "2019-10-10 19:15:14          5  \n",
       "2019-10-11 13:30:48          4  \n",
       "2019-10-11 13:38:47          6  \n",
       "2019-10-11 13:41:46          3  \n",
       "2019-10-11 13:43:33          0  \n",
       "2019-10-11 13:46:04          1  "
      ]
     },
     "execution_count": 150,
     "metadata": {},
     "output_type": "execute_result"
    }
   ],
   "source": [
    "story_df"
   ]
  },
  {
   "cell_type": "code",
   "execution_count": 152,
   "metadata": {},
   "outputs": [],
   "source": [
    "story_df.to_csv('story_insights.csv')"
   ]
  },
  {
   "cell_type": "markdown",
   "metadata": {},
   "source": [
    "# Image insights"
   ]
  },
  {
   "cell_type": "code",
   "execution_count": 19,
   "metadata": {
    "collapsed": true
   },
   "outputs": [
    {
     "data": {
      "application/vnd.jupyter.widget-view+json": {
       "model_id": "8b3882f9ce034f7195e1e53738ce3204",
       "version_major": 2,
       "version_minor": 0
      },
      "text/plain": [
       "HBox(children=(IntProgress(value=0, max=1210), HTML(value='')))"
      ]
     },
     "metadata": {},
     "output_type": "display_data"
    },
    {
     "name": "stdout",
     "output_type": "stream",
     "text": [
      "100\n",
      "200\n",
      "300\n",
      "400\n",
      "500\n",
      "600\n",
      "700\n",
      "800\n",
      "900\n",
      "1000\n",
      "1100\n",
      "1200\n",
      "\n"
     ]
    }
   ],
   "source": [
    "#Get image insights\n",
    "# image_metrics = 'engagement,impressions,reach,saved'\n",
    "# image_ids = df[df['media_type'] == 'IMAGE']['id'].values\n",
    "# image_insights = []\n",
    "# for obj_id in tqdm(image_ids):\n",
    "#     image_insights.append(requests.get(f'https://graph.facebook.com/v4.0/{obj_id}/insights?metric={image_metrics}&access_token={user_access_token}').text)\n",
    "#     time.sleep(1.25)"
   ]
  },
  {
   "cell_type": "code",
   "execution_count": 27,
   "metadata": {},
   "outputs": [],
   "source": [
    "# Write JSON file\n",
    "# with io.open('image_insights.json', 'w', encoding='utf8') as outfile:\n",
    "#     str_ = json.dumps(image_insights,\n",
    "#                       indent=4, sort_keys=True,\n",
    "#                       separators=(',', ': '), ensure_ascii=False)\n",
    "#     outfile.write(to_unicode(str_))"
   ]
  },
  {
   "cell_type": "markdown",
   "metadata": {},
   "source": [
    "### Resume here to read in local file"
   ]
  },
  {
   "cell_type": "code",
   "execution_count": 12,
   "metadata": {},
   "outputs": [],
   "source": [
    "# Read JSON file\n",
    "with open('image_insights.json') as data_file:\n",
    "    image_insights_json = json.load(data_file)\n",
    "    #Entries from before index 658 returned errors because the account wasn't a business account yet\n",
    "    image_insights = [json.loads(obj) for obj in image_insights_json[658:]]"
   ]
  },
  {
   "cell_type": "code",
   "execution_count": 25,
   "metadata": {},
   "outputs": [
    {
     "data": {
      "text/plain": [
       "['engagement: Total number of likes and comments on the media object',\n",
       " 'impressions: Total number of times the media object has been seen',\n",
       " 'reach: Total number of unique accounts that have seen the media object',\n",
       " 'saved: Total number of unique accounts that have saved the media object']"
      ]
     },
     "execution_count": 25,
     "metadata": {},
     "output_type": "execute_result"
    }
   ],
   "source": [
    "image_insight_field_descriptions = [obj['name'] + ': ' + obj['description'] for obj in image_insights[0]['data']]\n",
    "image_insight_field_descriptions"
   ]
  },
  {
   "cell_type": "code",
   "execution_count": 13,
   "metadata": {},
   "outputs": [],
   "source": [
    "image_insight_fields = [obj['name'] for obj in image_insights[0]['data']]\n",
    "#Bring relevant data together into a dict of lists \n",
    "image_insight_data = {field: [obj['data'][i]['values'][0]['value'] for obj in image_insights]\\\n",
    "                          for i, field in enumerate(image_insight_fields)}\n",
    "#Get ids for images with insights\n",
    "image_insight_ids_raw = [obj['data'][0]['id'] for obj in image_insights]\n",
    "image_insight_ids = [_id.split('/')[0] for _id in image_insight_ids_raw]\n",
    "image_insight_data['id'] = image_insight_ids\n",
    "#Get timestamps from main df to match image insights by id\n",
    "image_insight_data['timestamp'] = [df[df['id'] == _id].index.values[0] for _id in image_insight_ids]\n",
    "image_insight_data['like_count'] = [df[df['id'] == _id]['like_count'].values[0] for _id in image_insight_ids]\n",
    "#Build df\n",
    "image_insight_df = pd.DataFrame(image_insight_data)\n",
    "#Rest index to timestamp\n",
    "image_insight_df.set_index(pd.to_datetime(image_insight_df['timestamp']), inplace = True)\n",
    "image_insight_df.drop(['timestamp'], axis = 1, inplace = True)"
   ]
  },
  {
   "cell_type": "code",
   "execution_count": 14,
   "metadata": {},
   "outputs": [
    {
     "data": {
      "text/html": [
       "<div>\n",
       "<style scoped>\n",
       "    .dataframe tbody tr th:only-of-type {\n",
       "        vertical-align: middle;\n",
       "    }\n",
       "\n",
       "    .dataframe tbody tr th {\n",
       "        vertical-align: top;\n",
       "    }\n",
       "\n",
       "    .dataframe thead th {\n",
       "        text-align: right;\n",
       "    }\n",
       "</style>\n",
       "<table border=\"1\" class=\"dataframe\">\n",
       "  <thead>\n",
       "    <tr style=\"text-align: right;\">\n",
       "      <th></th>\n",
       "      <th>engagement</th>\n",
       "      <th>impressions</th>\n",
       "      <th>reach</th>\n",
       "      <th>saved</th>\n",
       "      <th>id</th>\n",
       "      <th>like_count</th>\n",
       "    </tr>\n",
       "    <tr>\n",
       "      <th>timestamp</th>\n",
       "      <th></th>\n",
       "      <th></th>\n",
       "      <th></th>\n",
       "      <th></th>\n",
       "      <th></th>\n",
       "      <th></th>\n",
       "    </tr>\n",
       "  </thead>\n",
       "  <tbody>\n",
       "    <tr>\n",
       "      <th>2016-10-18 14:02:18</th>\n",
       "      <td>104</td>\n",
       "      <td>0</td>\n",
       "      <td>0</td>\n",
       "      <td>0</td>\n",
       "      <td>17855236483077308</td>\n",
       "      <td>99</td>\n",
       "    </tr>\n",
       "    <tr>\n",
       "      <th>2016-10-19 15:25:36</th>\n",
       "      <td>67</td>\n",
       "      <td>0</td>\n",
       "      <td>0</td>\n",
       "      <td>0</td>\n",
       "      <td>17853984304117237</td>\n",
       "      <td>58</td>\n",
       "    </tr>\n",
       "    <tr>\n",
       "      <th>2016-10-20 14:31:27</th>\n",
       "      <td>101</td>\n",
       "      <td>0</td>\n",
       "      <td>0</td>\n",
       "      <td>0</td>\n",
       "      <td>17843459995192371</td>\n",
       "      <td>94</td>\n",
       "    </tr>\n",
       "    <tr>\n",
       "      <th>2016-10-21 14:08:46</th>\n",
       "      <td>38</td>\n",
       "      <td>0</td>\n",
       "      <td>0</td>\n",
       "      <td>0</td>\n",
       "      <td>17863294771038670</td>\n",
       "      <td>37</td>\n",
       "    </tr>\n",
       "    <tr>\n",
       "      <th>2016-10-24 23:45:52</th>\n",
       "      <td>85</td>\n",
       "      <td>0</td>\n",
       "      <td>0</td>\n",
       "      <td>0</td>\n",
       "      <td>17864120158037953</td>\n",
       "      <td>81</td>\n",
       "    </tr>\n",
       "  </tbody>\n",
       "</table>\n",
       "</div>"
      ],
      "text/plain": [
       "                     engagement  impressions  reach  saved                 id  \\\n",
       "timestamp                                                                       \n",
       "2016-10-18 14:02:18         104            0      0      0  17855236483077308   \n",
       "2016-10-19 15:25:36          67            0      0      0  17853984304117237   \n",
       "2016-10-20 14:31:27         101            0      0      0  17843459995192371   \n",
       "2016-10-21 14:08:46          38            0      0      0  17863294771038670   \n",
       "2016-10-24 23:45:52          85            0      0      0  17864120158037953   \n",
       "\n",
       "                     like_count  \n",
       "timestamp                        \n",
       "2016-10-18 14:02:18          99  \n",
       "2016-10-19 15:25:36          58  \n",
       "2016-10-20 14:31:27          94  \n",
       "2016-10-21 14:08:46          37  \n",
       "2016-10-24 23:45:52          81  "
      ]
     },
     "execution_count": 14,
     "metadata": {},
     "output_type": "execute_result"
    }
   ],
   "source": [
    "image_insight_df.head()"
   ]
  },
  {
   "cell_type": "code",
   "execution_count": 17,
   "metadata": {},
   "outputs": [
    {
     "data": {
      "text/html": [
       "<div>\n",
       "<style scoped>\n",
       "    .dataframe tbody tr th:only-of-type {\n",
       "        vertical-align: middle;\n",
       "    }\n",
       "\n",
       "    .dataframe tbody tr th {\n",
       "        vertical-align: top;\n",
       "    }\n",
       "\n",
       "    .dataframe thead th {\n",
       "        text-align: right;\n",
       "    }\n",
       "</style>\n",
       "<table border=\"1\" class=\"dataframe\">\n",
       "  <thead>\n",
       "    <tr style=\"text-align: right;\">\n",
       "      <th></th>\n",
       "      <th>like_count</th>\n",
       "      <th>engagement</th>\n",
       "    </tr>\n",
       "    <tr>\n",
       "      <th>timestamp</th>\n",
       "      <th></th>\n",
       "      <th></th>\n",
       "    </tr>\n",
       "  </thead>\n",
       "  <tbody>\n",
       "    <tr>\n",
       "      <th>2016-10-18 14:02:18</th>\n",
       "      <td>99</td>\n",
       "      <td>104</td>\n",
       "    </tr>\n",
       "    <tr>\n",
       "      <th>2016-10-19 15:25:36</th>\n",
       "      <td>58</td>\n",
       "      <td>67</td>\n",
       "    </tr>\n",
       "    <tr>\n",
       "      <th>2016-10-20 14:31:27</th>\n",
       "      <td>94</td>\n",
       "      <td>101</td>\n",
       "    </tr>\n",
       "    <tr>\n",
       "      <th>2016-10-21 14:08:46</th>\n",
       "      <td>37</td>\n",
       "      <td>38</td>\n",
       "    </tr>\n",
       "    <tr>\n",
       "      <th>2016-10-24 23:45:52</th>\n",
       "      <td>81</td>\n",
       "      <td>85</td>\n",
       "    </tr>\n",
       "    <tr>\n",
       "      <th>2016-10-27 12:40:06</th>\n",
       "      <td>88</td>\n",
       "      <td>106</td>\n",
       "    </tr>\n",
       "    <tr>\n",
       "      <th>2016-10-28 12:27:04</th>\n",
       "      <td>39</td>\n",
       "      <td>39</td>\n",
       "    </tr>\n",
       "    <tr>\n",
       "      <th>2016-10-28 18:44:46</th>\n",
       "      <td>56</td>\n",
       "      <td>63</td>\n",
       "    </tr>\n",
       "    <tr>\n",
       "      <th>2016-10-29 20:37:24</th>\n",
       "      <td>55</td>\n",
       "      <td>58</td>\n",
       "    </tr>\n",
       "    <tr>\n",
       "      <th>2016-10-31 14:08:59</th>\n",
       "      <td>61</td>\n",
       "      <td>68</td>\n",
       "    </tr>\n",
       "    <tr>\n",
       "      <th>2016-11-02 03:29:46</th>\n",
       "      <td>39</td>\n",
       "      <td>45</td>\n",
       "    </tr>\n",
       "    <tr>\n",
       "      <th>2016-11-02 21:18:31</th>\n",
       "      <td>50</td>\n",
       "      <td>51</td>\n",
       "    </tr>\n",
       "    <tr>\n",
       "      <th>2016-11-03 13:27:18</th>\n",
       "      <td>63</td>\n",
       "      <td>70</td>\n",
       "    </tr>\n",
       "    <tr>\n",
       "      <th>2016-11-04 21:28:30</th>\n",
       "      <td>92</td>\n",
       "      <td>94</td>\n",
       "    </tr>\n",
       "    <tr>\n",
       "      <th>2016-11-05 15:51:24</th>\n",
       "      <td>51</td>\n",
       "      <td>53</td>\n",
       "    </tr>\n",
       "    <tr>\n",
       "      <th>2016-11-07 19:26:47</th>\n",
       "      <td>107</td>\n",
       "      <td>112</td>\n",
       "    </tr>\n",
       "    <tr>\n",
       "      <th>2016-11-08 19:24:03</th>\n",
       "      <td>61</td>\n",
       "      <td>62</td>\n",
       "    </tr>\n",
       "    <tr>\n",
       "      <th>2016-11-09 15:21:14</th>\n",
       "      <td>42</td>\n",
       "      <td>45</td>\n",
       "    </tr>\n",
       "    <tr>\n",
       "      <th>2016-11-11 16:25:58</th>\n",
       "      <td>88</td>\n",
       "      <td>91</td>\n",
       "    </tr>\n",
       "    <tr>\n",
       "      <th>2016-11-14 13:57:22</th>\n",
       "      <td>67</td>\n",
       "      <td>69</td>\n",
       "    </tr>\n",
       "    <tr>\n",
       "      <th>2016-11-16 22:30:14</th>\n",
       "      <td>62</td>\n",
       "      <td>63</td>\n",
       "    </tr>\n",
       "    <tr>\n",
       "      <th>2016-11-18 03:38:15</th>\n",
       "      <td>60</td>\n",
       "      <td>65</td>\n",
       "    </tr>\n",
       "    <tr>\n",
       "      <th>2016-11-18 13:38:56</th>\n",
       "      <td>107</td>\n",
       "      <td>121</td>\n",
       "    </tr>\n",
       "    <tr>\n",
       "      <th>2016-11-19 22:31:29</th>\n",
       "      <td>49</td>\n",
       "      <td>49</td>\n",
       "    </tr>\n",
       "    <tr>\n",
       "      <th>2016-11-21 13:34:29</th>\n",
       "      <td>73</td>\n",
       "      <td>75</td>\n",
       "    </tr>\n",
       "    <tr>\n",
       "      <th>2016-11-23 03:26:21</th>\n",
       "      <td>80</td>\n",
       "      <td>82</td>\n",
       "    </tr>\n",
       "    <tr>\n",
       "      <th>2016-11-23 14:29:41</th>\n",
       "      <td>76</td>\n",
       "      <td>80</td>\n",
       "    </tr>\n",
       "    <tr>\n",
       "      <th>2016-11-24 21:04:16</th>\n",
       "      <td>92</td>\n",
       "      <td>93</td>\n",
       "    </tr>\n",
       "    <tr>\n",
       "      <th>2016-11-25 13:35:21</th>\n",
       "      <td>66</td>\n",
       "      <td>71</td>\n",
       "    </tr>\n",
       "    <tr>\n",
       "      <th>2016-11-26 16:00:25</th>\n",
       "      <td>70</td>\n",
       "      <td>73</td>\n",
       "    </tr>\n",
       "    <tr>\n",
       "      <th>...</th>\n",
       "      <td>...</td>\n",
       "      <td>...</td>\n",
       "    </tr>\n",
       "    <tr>\n",
       "      <th>2019-08-30 00:57:38</th>\n",
       "      <td>66</td>\n",
       "      <td>70</td>\n",
       "    </tr>\n",
       "    <tr>\n",
       "      <th>2019-08-30 20:16:13</th>\n",
       "      <td>51</td>\n",
       "      <td>56</td>\n",
       "    </tr>\n",
       "    <tr>\n",
       "      <th>2019-08-31 20:31:05</th>\n",
       "      <td>59</td>\n",
       "      <td>62</td>\n",
       "    </tr>\n",
       "    <tr>\n",
       "      <th>2019-09-01 22:52:09</th>\n",
       "      <td>123</td>\n",
       "      <td>133</td>\n",
       "    </tr>\n",
       "    <tr>\n",
       "      <th>2019-09-03 17:04:08</th>\n",
       "      <td>83</td>\n",
       "      <td>95</td>\n",
       "    </tr>\n",
       "    <tr>\n",
       "      <th>2019-09-06 00:57:04</th>\n",
       "      <td>37</td>\n",
       "      <td>46</td>\n",
       "    </tr>\n",
       "    <tr>\n",
       "      <th>2019-09-07 01:04:06</th>\n",
       "      <td>138</td>\n",
       "      <td>155</td>\n",
       "    </tr>\n",
       "    <tr>\n",
       "      <th>2019-09-07 20:31:04</th>\n",
       "      <td>102</td>\n",
       "      <td>107</td>\n",
       "    </tr>\n",
       "    <tr>\n",
       "      <th>2019-09-08 22:52:09</th>\n",
       "      <td>155</td>\n",
       "      <td>171</td>\n",
       "    </tr>\n",
       "    <tr>\n",
       "      <th>2019-09-09 15:45:20</th>\n",
       "      <td>203</td>\n",
       "      <td>219</td>\n",
       "    </tr>\n",
       "    <tr>\n",
       "      <th>2019-09-10 17:04:15</th>\n",
       "      <td>59</td>\n",
       "      <td>61</td>\n",
       "    </tr>\n",
       "    <tr>\n",
       "      <th>2019-09-12 00:38:15</th>\n",
       "      <td>48</td>\n",
       "      <td>50</td>\n",
       "    </tr>\n",
       "    <tr>\n",
       "      <th>2019-09-13 00:57:20</th>\n",
       "      <td>55</td>\n",
       "      <td>57</td>\n",
       "    </tr>\n",
       "    <tr>\n",
       "      <th>2019-09-14 01:04:57</th>\n",
       "      <td>78</td>\n",
       "      <td>87</td>\n",
       "    </tr>\n",
       "    <tr>\n",
       "      <th>2019-09-14 20:31:13</th>\n",
       "      <td>46</td>\n",
       "      <td>47</td>\n",
       "    </tr>\n",
       "    <tr>\n",
       "      <th>2019-09-15 22:52:09</th>\n",
       "      <td>187</td>\n",
       "      <td>202</td>\n",
       "    </tr>\n",
       "    <tr>\n",
       "      <th>2019-09-16 15:45:42</th>\n",
       "      <td>63</td>\n",
       "      <td>71</td>\n",
       "    </tr>\n",
       "    <tr>\n",
       "      <th>2019-09-17 17:04:06</th>\n",
       "      <td>41</td>\n",
       "      <td>44</td>\n",
       "    </tr>\n",
       "    <tr>\n",
       "      <th>2019-09-18 19:23:37</th>\n",
       "      <td>42</td>\n",
       "      <td>44</td>\n",
       "    </tr>\n",
       "    <tr>\n",
       "      <th>2019-09-20 00:57:07</th>\n",
       "      <td>96</td>\n",
       "      <td>103</td>\n",
       "    </tr>\n",
       "    <tr>\n",
       "      <th>2019-09-21 01:04:16</th>\n",
       "      <td>42</td>\n",
       "      <td>47</td>\n",
       "    </tr>\n",
       "    <tr>\n",
       "      <th>2019-09-21 20:31:23</th>\n",
       "      <td>52</td>\n",
       "      <td>58</td>\n",
       "    </tr>\n",
       "    <tr>\n",
       "      <th>2019-09-22 22:52:07</th>\n",
       "      <td>134</td>\n",
       "      <td>147</td>\n",
       "    </tr>\n",
       "    <tr>\n",
       "      <th>2019-09-23 15:45:19</th>\n",
       "      <td>35</td>\n",
       "      <td>36</td>\n",
       "    </tr>\n",
       "    <tr>\n",
       "      <th>2019-09-24 17:04:27</th>\n",
       "      <td>90</td>\n",
       "      <td>98</td>\n",
       "    </tr>\n",
       "    <tr>\n",
       "      <th>2019-09-25 18:44:06</th>\n",
       "      <td>46</td>\n",
       "      <td>53</td>\n",
       "    </tr>\n",
       "    <tr>\n",
       "      <th>2019-09-26 17:41:57</th>\n",
       "      <td>112</td>\n",
       "      <td>121</td>\n",
       "    </tr>\n",
       "    <tr>\n",
       "      <th>2019-09-30 18:21:39</th>\n",
       "      <td>68</td>\n",
       "      <td>78</td>\n",
       "    </tr>\n",
       "    <tr>\n",
       "      <th>2019-10-02 17:44:23</th>\n",
       "      <td>116</td>\n",
       "      <td>138</td>\n",
       "    </tr>\n",
       "    <tr>\n",
       "      <th>2019-10-08 20:09:25</th>\n",
       "      <td>37</td>\n",
       "      <td>56</td>\n",
       "    </tr>\n",
       "  </tbody>\n",
       "</table>\n",
       "<p>552 rows × 2 columns</p>\n",
       "</div>"
      ],
      "text/plain": [
       "                     like_count  engagement\n",
       "timestamp                                  \n",
       "2016-10-18 14:02:18          99         104\n",
       "2016-10-19 15:25:36          58          67\n",
       "2016-10-20 14:31:27          94         101\n",
       "2016-10-21 14:08:46          37          38\n",
       "2016-10-24 23:45:52          81          85\n",
       "2016-10-27 12:40:06          88         106\n",
       "2016-10-28 12:27:04          39          39\n",
       "2016-10-28 18:44:46          56          63\n",
       "2016-10-29 20:37:24          55          58\n",
       "2016-10-31 14:08:59          61          68\n",
       "2016-11-02 03:29:46          39          45\n",
       "2016-11-02 21:18:31          50          51\n",
       "2016-11-03 13:27:18          63          70\n",
       "2016-11-04 21:28:30          92          94\n",
       "2016-11-05 15:51:24          51          53\n",
       "2016-11-07 19:26:47         107         112\n",
       "2016-11-08 19:24:03          61          62\n",
       "2016-11-09 15:21:14          42          45\n",
       "2016-11-11 16:25:58          88          91\n",
       "2016-11-14 13:57:22          67          69\n",
       "2016-11-16 22:30:14          62          63\n",
       "2016-11-18 03:38:15          60          65\n",
       "2016-11-18 13:38:56         107         121\n",
       "2016-11-19 22:31:29          49          49\n",
       "2016-11-21 13:34:29          73          75\n",
       "2016-11-23 03:26:21          80          82\n",
       "2016-11-23 14:29:41          76          80\n",
       "2016-11-24 21:04:16          92          93\n",
       "2016-11-25 13:35:21          66          71\n",
       "2016-11-26 16:00:25          70          73\n",
       "...                         ...         ...\n",
       "2019-08-30 00:57:38          66          70\n",
       "2019-08-30 20:16:13          51          56\n",
       "2019-08-31 20:31:05          59          62\n",
       "2019-09-01 22:52:09         123         133\n",
       "2019-09-03 17:04:08          83          95\n",
       "2019-09-06 00:57:04          37          46\n",
       "2019-09-07 01:04:06         138         155\n",
       "2019-09-07 20:31:04         102         107\n",
       "2019-09-08 22:52:09         155         171\n",
       "2019-09-09 15:45:20         203         219\n",
       "2019-09-10 17:04:15          59          61\n",
       "2019-09-12 00:38:15          48          50\n",
       "2019-09-13 00:57:20          55          57\n",
       "2019-09-14 01:04:57          78          87\n",
       "2019-09-14 20:31:13          46          47\n",
       "2019-09-15 22:52:09         187         202\n",
       "2019-09-16 15:45:42          63          71\n",
       "2019-09-17 17:04:06          41          44\n",
       "2019-09-18 19:23:37          42          44\n",
       "2019-09-20 00:57:07          96         103\n",
       "2019-09-21 01:04:16          42          47\n",
       "2019-09-21 20:31:23          52          58\n",
       "2019-09-22 22:52:07         134         147\n",
       "2019-09-23 15:45:19          35          36\n",
       "2019-09-24 17:04:27          90          98\n",
       "2019-09-25 18:44:06          46          53\n",
       "2019-09-26 17:41:57         112         121\n",
       "2019-09-30 18:21:39          68          78\n",
       "2019-10-02 17:44:23         116         138\n",
       "2019-10-08 20:09:25          37          56\n",
       "\n",
       "[552 rows x 2 columns]"
      ]
     },
     "execution_count": 17,
     "metadata": {},
     "output_type": "execute_result"
    }
   ],
   "source": [
    "image_insight_df[['like_count', 'engagement']]"
   ]
  },
  {
   "cell_type": "code",
   "execution_count": 16,
   "metadata": {},
   "outputs": [],
   "source": [
    "#Write image insights df to csv for testing with spyre\n",
    "image_insight_df.to_csv('image_insights.csv')"
   ]
  },
  {
   "cell_type": "code",
   "execution_count": 153,
   "metadata": {},
   "outputs": [
    {
     "data": {
      "image/png": "[encoded data removed]",
      "text/plain": [
       "<Figure size 1008x576 with 1 Axes>"
      ]
     },
     "metadata": {
      "needs_background": "light"
     },
     "output_type": "display_data"
    }
   ],
   "source": [
    "fig = plt.figure(figsize = (14,8))\n",
    "plt.plot(image_insight_df.index, image_insight_df['like_count'], label = 'likes count')\n",
    "plt.plot(image_insight_df.index, image_insight_df['engagement'], label = 'engagement')\n",
    "plt.plot(image_insight_df.index, image_insight_df['saved'], label = 'saved')\n",
    "plt.axvspan('6/1/2018','5/16/2019', color ='lightgrey', label = 'Start and end of boostio')\n",
    "plt.title('Image insights: engagement and saved')\n",
    "plt.legend()\n",
    "plt.show()"
   ]
  },
  {
   "cell_type": "code",
   "execution_count": 154,
   "metadata": {
    "scrolled": false
   },
   "outputs": [
    {
     "data": {
      "image/png": "[encoded data removed]",
      "text/plain": [
       "<Figure size 1008x576 with 1 Axes>"
      ]
     },
     "metadata": {
      "needs_background": "light"
     },
     "output_type": "display_data"
    }
   ],
   "source": [
    "fig = plt.figure(figsize = (14,8))\n",
    "plt.plot(image_insight_df.index, image_insight_df['like_count'], label = 'likes count')\n",
    "plt.plot(image_insight_df.index, image_insight_df['impressions'], label = 'impressions')\n",
    "plt.plot(image_insight_df.index, image_insight_df['reach'], label = 'reach')\n",
    "plt.axvspan('6/1/2018','5/16/2019', color ='lightgrey', label = 'Start and end of boostio')\n",
    "plt.legend()\n",
    "plt.title('Image insights: impressions and reach')\n",
    "plt.show()"
   ]
  },
  {
   "cell_type": "markdown",
   "metadata": {},
   "source": [
    "# Video insights"
   ]
  },
  {
   "cell_type": "code",
   "execution_count": 15,
   "metadata": {},
   "outputs": [],
   "source": [
    "video_metrics = photo_metrics + 'video_views'\n",
    "video_ids = df[df['media_type'] == 'VIDEO']['id'].values"
   ]
  },
  {
   "cell_type": "code",
   "execution_count": null,
   "metadata": {},
   "outputs": [],
   "source": [
    "#Get video ids\n",
    "stories = f'https://graph.facebook.com/v4.0/{insta_id}/stories?access_token={user_access_token}&limit=2000'\n",
    "response = requests.get(stories)\n",
    "story_ids = [obj['id'] for obj in json.loads(response.text)['data']]"
   ]
  },
  {
   "cell_type": "markdown",
   "metadata": {},
   "source": [
    "# Album insights"
   ]
  },
  {
   "cell_type": "code",
   "execution_count": 16,
   "metadata": {},
   "outputs": [],
   "source": [
    "album_metrics = 'carousel_album_engagement,carousel_album_impressions,carousel_album_reach,carousel_album_saved,carousel_album_video_views'\n",
    "album_ids = df[df['media_type'] == 'CAROUSEL_ALBUM']['id'].values"
   ]
  },
  {
   "cell_type": "code",
   "execution_count": null,
   "metadata": {},
   "outputs": [],
   "source": []
  },
  {
   "cell_type": "code",
   "execution_count": null,
   "metadata": {},
   "outputs": [],
   "source": []
  },
  {
   "cell_type": "code",
   "execution_count": null,
   "metadata": {},
   "outputs": [],
   "source": []
  },
  {
   "cell_type": "code",
   "execution_count": null,
   "metadata": {},
   "outputs": [],
   "source": []
  },
  {
   "cell_type": "code",
   "execution_count": null,
   "metadata": {},
   "outputs": [],
   "source": []
  },
  {
   "cell_type": "code",
   "execution_count": null,
   "metadata": {},
   "outputs": [],
   "source": []
  }
 ],
 "metadata": {
  "kernelspec": {
   "display_name": "Python 3",
   "language": "python",
   "name": "python3"
  },
  "language_info": {
   "codemirror_mode": {
    "name": "ipython",
    "version": 3
   },
   "file_extension": ".py",
   "mimetype": "text/x-python",
   "name": "python",
   "nbconvert_exporter": "python",
   "pygments_lexer": "ipython3",
   "version": "3.6.8"
  }
 },
 "nbformat": 4,
 "nbformat_minor": 2
}
