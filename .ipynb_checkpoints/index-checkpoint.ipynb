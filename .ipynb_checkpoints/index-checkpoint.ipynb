{
 "cells": [
  {
   "cell_type": "markdown",
   "metadata": {},
   "source": [
    "# Contract analytics for Cheese Grotto"
   ]
  },
  {
   "cell_type": "code",
   "execution_count": 1,
   "metadata": {},
   "outputs": [
    {
     "name": "stderr",
     "output_type": "stream",
     "text": [
      "C:\\Users\\Stee\\Anaconda3good\\lib\\site-packages\\tqdm\\autonotebook.py:17: TqdmExperimentalWarning: Using `tqdm.autonotebook.tqdm` in notebook mode. Use `tqdm.tqdm` instead to force console mode (e.g. in jupyter console)\n",
      "  \" (e.g. in jupyter console)\", TqdmExperimentalWarning)\n"
     ]
    }
   ],
   "source": [
    "import numpy as np\n",
    "import pandas as pd\n",
    "import requests\n",
    "import time\n",
    "import matplotlib.pyplot as plt\n",
    "import seaborn as sns\n",
    "from pandasql import sqldf #for manipulating DataFrames with SQL style queries\n",
    "#Write file to machine to work with offline\n",
    "import json\n",
    "\n",
    "#ALL BELOW to export results of API request to local file\n",
    "# Make it work for Python 2+3 and with Unicode\n",
    "import io\n",
    "try:\n",
    "    to_unicode = unicode\n",
    "except NameError:\n",
    "    to_unicode = str\n",
    "    \n",
    "from tqdm.autonotebook import tqdm\n",
    "\n",
    "from datetime import datetime"
   ]
  },
  {
   "cell_type": "code",
   "execution_count": 8,
   "metadata": {},
   "outputs": [],
   "source": [
    "#generated each session by the graph api explorer\n",
    "user_access_token = ''\n",
    "insta_id = ''"
   ]
  },
  {
   "cell_type": "markdown",
   "metadata": {},
   "source": [
    "### Sunday 11/17 work"
   ]
  },
  {
   "cell_type": "code",
   "execution_count": 9,
   "metadata": {},
   "outputs": [],
   "source": [
    "#Get the Instagram Business Account's Media Objects\n",
    "media_objects = f'https://graph.facebook.com/v4.0/{insta_id}/media?access_token={user_access_token}&limit=40'\n",
    "response = requests.get(media_objects)\n",
    "media_object_ids = [object['id'] for object in json.loads(response.text)['data']]"
   ]
  },
  {
   "cell_type": "code",
   "execution_count": 11,
   "metadata": {},
   "outputs": [],
   "source": [
    "media_object_ids.reverse()"
   ]
  },
  {
   "cell_type": "code",
   "execution_count": 16,
   "metadata": {},
   "outputs": [],
   "source": [
    "recent_ids = media_object_ids[:18]"
   ]
  },
  {
   "cell_type": "code",
   "execution_count": 13,
   "metadata": {},
   "outputs": [],
   "source": [
    "#Get insights for these\n",
    "need_insights_ids = ['18032803363216401',\n",
    " '18034086037223399',\n",
    " '17845391998697773',\n",
    " '18059383516197394',\n",
    " '17886173089428401',\n",
    " '18111897763016276',\n",
    " '17878846258446504',\n",
    " '17851175503653148',\n",
    " '17847627493700225',\n",
    " '17923940302338156',\n",
    " '17887647805425413',\n",
    " '17913761125362647',]"
   ]
  },
  {
   "cell_type": "code",
   "execution_count": 22,
   "metadata": {
    "scrolled": true
   },
   "outputs": [
    {
     "data": {
      "text/html": [
       "<div>\n",
       "<style scoped>\n",
       "    .dataframe tbody tr th:only-of-type {\n",
       "        vertical-align: middle;\n",
       "    }\n",
       "\n",
       "    .dataframe tbody tr th {\n",
       "        vertical-align: top;\n",
       "    }\n",
       "\n",
       "    .dataframe thead th {\n",
       "        text-align: right;\n",
       "    }\n",
       "</style>\n",
       "<table border=\"1\" class=\"dataframe\">\n",
       "  <thead>\n",
       "    <tr style=\"text-align: right;\">\n",
       "      <th></th>\n",
       "      <th>caption</th>\n",
       "      <th>comments</th>\n",
       "      <th>comments_count</th>\n",
       "      <th>media_type</th>\n",
       "      <th>media_url</th>\n",
       "      <th>like_count</th>\n",
       "      <th>id</th>\n",
       "    </tr>\n",
       "    <tr>\n",
       "      <th>timestamp</th>\n",
       "      <th></th>\n",
       "      <th></th>\n",
       "      <th></th>\n",
       "      <th></th>\n",
       "      <th></th>\n",
       "      <th></th>\n",
       "      <th></th>\n",
       "    </tr>\n",
       "  </thead>\n",
       "  <tbody>\n",
       "    <tr>\n",
       "      <th>2019-09-15 22:52:09+00:00</th>\n",
       "      <td>👌🏿 The composition of this board by @saycheese...</td>\n",
       "      <td>{'data': [{'timestamp': '2019-09-20T01:27:29+0...</td>\n",
       "      <td>4</td>\n",
       "      <td>IMAGE</td>\n",
       "      <td>https://scontent.xx.fbcdn.net/v/t51.2885-15/69...</td>\n",
       "      <td>187</td>\n",
       "      <td>18075810949122427</td>\n",
       "    </tr>\n",
       "    <tr>\n",
       "      <th>2019-09-16 15:45:42+00:00</th>\n",
       "      <td>👋 It was #nationalcheesetoastday yesterday, an...</td>\n",
       "      <td>{'data': [{'timestamp': '2019-09-17T18:45:29+0...</td>\n",
       "      <td>4</td>\n",
       "      <td>IMAGE</td>\n",
       "      <td>https://scontent.xx.fbcdn.net/v/t51.2885-15/69...</td>\n",
       "      <td>63</td>\n",
       "      <td>17865395935482791</td>\n",
       "    </tr>\n",
       "    <tr>\n",
       "      <th>2019-09-17 02:55:39+00:00</th>\n",
       "      <td>🌠 About tonight....\\n🌠 Big thanks to @cherrybo...</td>\n",
       "      <td>{'data': [{'timestamp': '2019-09-21T00:24:12+0...</td>\n",
       "      <td>12</td>\n",
       "      <td>VIDEO</td>\n",
       "      <td>https://scontent.xx.fbcdn.net/v/t50.2886-16/71...</td>\n",
       "      <td>379</td>\n",
       "      <td>18070954975136875</td>\n",
       "    </tr>\n",
       "    <tr>\n",
       "      <th>2019-09-17 17:04:06+00:00</th>\n",
       "      <td>🤓 Fun fact: Did you know ceramics and cheese a...</td>\n",
       "      <td>{'data': [{'timestamp': '2019-09-17T17:04:21+0...</td>\n",
       "      <td>1</td>\n",
       "      <td>IMAGE</td>\n",
       "      <td>https://scontent.xx.fbcdn.net/v/t51.2885-15/69...</td>\n",
       "      <td>41</td>\n",
       "      <td>18100520470038394</td>\n",
       "    </tr>\n",
       "    <tr>\n",
       "      <th>2019-09-18 19:23:37+00:00</th>\n",
       "      <td>🍔 Happy National Cheeseburger Day with this ep...</td>\n",
       "      <td>{'data': [{'timestamp': '2019-09-19T18:45:40+0...</td>\n",
       "      <td>2</td>\n",
       "      <td>IMAGE</td>\n",
       "      <td>https://scontent.xx.fbcdn.net/v/t51.2885-15/69...</td>\n",
       "      <td>42</td>\n",
       "      <td>18055362448173931</td>\n",
       "    </tr>\n",
       "    <tr>\n",
       "      <th>2019-09-20 00:57:07+00:00</th>\n",
       "      <td>💡 Try your hand at cheesemaking by making a si...</td>\n",
       "      <td>{'data': [{'timestamp': '2019-09-20T00:57:26+0...</td>\n",
       "      <td>1</td>\n",
       "      <td>IMAGE</td>\n",
       "      <td>https://scontent.xx.fbcdn.net/v/t51.2885-15/69...</td>\n",
       "      <td>96</td>\n",
       "      <td>18021463672227534</td>\n",
       "    </tr>\n",
       "    <tr>\n",
       "      <th>2019-09-21 01:04:16+00:00</th>\n",
       "      <td>😉 Our Grotto Fresco, cheese, @milene.jardine.c...</td>\n",
       "      <td>{'data': [{'timestamp': '2019-09-21T17:52:26+0...</td>\n",
       "      <td>2</td>\n",
       "      <td>IMAGE</td>\n",
       "      <td>https://scontent.xx.fbcdn.net/v/t51.2885-15/70...</td>\n",
       "      <td>42</td>\n",
       "      <td>18081650977103857</td>\n",
       "    </tr>\n",
       "    <tr>\n",
       "      <th>2019-09-21 20:31:23+00:00</th>\n",
       "      <td>🍕The season of melty cheese is upon us.⁣\\n🧀 Ou...</td>\n",
       "      <td>{'data': [{'timestamp': '2019-09-21T20:31:36+0...</td>\n",
       "      <td>1</td>\n",
       "      <td>IMAGE</td>\n",
       "      <td>https://scontent.xx.fbcdn.net/v/t51.2885-15/71...</td>\n",
       "      <td>52</td>\n",
       "      <td>17925461323325721</td>\n",
       "    </tr>\n",
       "    <tr>\n",
       "      <th>2019-09-22 22:52:07+00:00</th>\n",
       "      <td>🍇 Holding on to the last remnants of summer wi...</td>\n",
       "      <td>{'data': [{'timestamp': '2019-09-30T18:08:35+0...</td>\n",
       "      <td>2</td>\n",
       "      <td>IMAGE</td>\n",
       "      <td>https://scontent.xx.fbcdn.net/v/t51.2885-15/70...</td>\n",
       "      <td>134</td>\n",
       "      <td>18102793507050522</td>\n",
       "    </tr>\n",
       "    <tr>\n",
       "      <th>2019-09-23 15:45:19+00:00</th>\n",
       "      <td>⭐ This board is truly one-of-a-kind and an abs...</td>\n",
       "      <td>{'data': [{'timestamp': '2019-09-24T14:11:21+0...</td>\n",
       "      <td>1</td>\n",
       "      <td>IMAGE</td>\n",
       "      <td>https://scontent.xx.fbcdn.net/v/t51.2885-15/69...</td>\n",
       "      <td>35</td>\n",
       "      <td>17891953969400236</td>\n",
       "    </tr>\n",
       "    <tr>\n",
       "      <th>2019-09-24 17:04:27+00:00</th>\n",
       "      <td>🐐 Name that cheese...</td>\n",
       "      <td>{'data': [{'timestamp': '2019-09-25T02:57:52+0...</td>\n",
       "      <td>5</td>\n",
       "      <td>IMAGE</td>\n",
       "      <td>https://scontent.xx.fbcdn.net/v/t51.2885-15/71...</td>\n",
       "      <td>90</td>\n",
       "      <td>18071445424082465</td>\n",
       "    </tr>\n",
       "    <tr>\n",
       "      <th>2019-09-25 18:44:06+00:00</th>\n",
       "      <td>Who eats the rind on the cheese? 🙋‍♂️👹</td>\n",
       "      <td>{'data': [{'timestamp': '2019-09-26T01:14:08+0...</td>\n",
       "      <td>2</td>\n",
       "      <td>IMAGE</td>\n",
       "      <td>https://scontent.xx.fbcdn.net/v/t51.2885-15/69...</td>\n",
       "      <td>46</td>\n",
       "      <td>18020234569240353</td>\n",
       "    </tr>\n",
       "    <tr>\n",
       "      <th>2019-09-26 17:41:57+00:00</th>\n",
       "      <td>🌠 Up close &amp; personal Gorgonzola Dolce looking...</td>\n",
       "      <td>{'data': [{'timestamp': '2019-10-01T02:55:04+0...</td>\n",
       "      <td>6</td>\n",
       "      <td>IMAGE</td>\n",
       "      <td>https://scontent.xx.fbcdn.net/v/t51.2885-15/71...</td>\n",
       "      <td>112</td>\n",
       "      <td>17858060266550471</td>\n",
       "    </tr>\n",
       "    <tr>\n",
       "      <th>2019-09-29 20:15:29+00:00</th>\n",
       "      <td>🍁 Brie Fermier Jouvence - the excellent hiking...</td>\n",
       "      <td>{'data': [{'timestamp': '2019-10-01T12:43:20+0...</td>\n",
       "      <td>10</td>\n",
       "      <td>CAROUSEL_ALBUM</td>\n",
       "      <td>https://scontent.xx.fbcdn.net/v/t51.2885-15/69...</td>\n",
       "      <td>180</td>\n",
       "      <td>17926363090316727</td>\n",
       "    </tr>\n",
       "    <tr>\n",
       "      <th>2019-09-30 18:21:39+00:00</th>\n",
       "      <td>👨‍👩‍👧‍👧 Tomorrow, our Cheese Grotto Family of ...</td>\n",
       "      <td>{'data': [{'timestamp': '2019-10-02T23:59:05+0...</td>\n",
       "      <td>4</td>\n",
       "      <td>IMAGE</td>\n",
       "      <td>https://scontent.xx.fbcdn.net/v/t51.2885-15/70...</td>\n",
       "      <td>68</td>\n",
       "      <td>17859003490547765</td>\n",
       "    </tr>\n",
       "    <tr>\n",
       "      <th>2019-10-01 19:41:51+00:00</th>\n",
       "      <td>🎉 Our brand new Cheese Grotto Piatto has offic...</td>\n",
       "      <td>{'data': [{'timestamp': '2019-10-01T21:08:56+0...</td>\n",
       "      <td>5</td>\n",
       "      <td>VIDEO</td>\n",
       "      <td>https://scontent.xx.fbcdn.net/v/t50.2886-16/72...</td>\n",
       "      <td>75</td>\n",
       "      <td>18072965824089304</td>\n",
       "    </tr>\n",
       "    <tr>\n",
       "      <th>2019-10-02 17:44:23+00:00</th>\n",
       "      <td>October is American Cheese Month. \\nWhat's you...</td>\n",
       "      <td>{'data': [{'timestamp': '2019-10-04T16:10:39+0...</td>\n",
       "      <td>15</td>\n",
       "      <td>IMAGE</td>\n",
       "      <td>https://scontent.xx.fbcdn.net/v/t51.2885-15/72...</td>\n",
       "      <td>116</td>\n",
       "      <td>17964564394293625</td>\n",
       "    </tr>\n",
       "    <tr>\n",
       "      <th>2019-10-03 16:14:59+00:00</th>\n",
       "      <td>🦄 What's your Cheese Personality?\\n☝🏽 Take our...</td>\n",
       "      <td>{'data': [{'timestamp': '2019-10-03T16:17:47+0...</td>\n",
       "      <td>1</td>\n",
       "      <td>CAROUSEL_ALBUM</td>\n",
       "      <td>https://scontent.xx.fbcdn.net/v/t51.2885-15/71...</td>\n",
       "      <td>30</td>\n",
       "      <td>18093778192075666</td>\n",
       "    </tr>\n",
       "    <tr>\n",
       "      <th>2019-10-06 19:15:54+00:00</th>\n",
       "      <td>🍁 Have you made a raclette dinner at home? 🍁 R...</td>\n",
       "      <td>{'data': [{'timestamp': '2019-10-06T19:18:32+0...</td>\n",
       "      <td>1</td>\n",
       "      <td>VIDEO</td>\n",
       "      <td>https://scontent.xx.fbcdn.net/v/t50.2886-16/72...</td>\n",
       "      <td>99</td>\n",
       "      <td>18084417472117793</td>\n",
       "    </tr>\n",
       "    <tr>\n",
       "      <th>2019-10-08 20:09:25+00:00</th>\n",
       "      <td>Is it too early in the week to pair cheese and...</td>\n",
       "      <td>{'data': [{'timestamp': '2019-10-08T22:03:57+0...</td>\n",
       "      <td>2</td>\n",
       "      <td>IMAGE</td>\n",
       "      <td>https://scontent.xx.fbcdn.net/v/t51.2885-15/72...</td>\n",
       "      <td>37</td>\n",
       "      <td>18032803363216401</td>\n",
       "    </tr>\n",
       "  </tbody>\n",
       "</table>\n",
       "</div>"
      ],
      "text/plain": [
       "                                                                     caption  \\\n",
       "timestamp                                                                      \n",
       "2019-09-15 22:52:09+00:00  👌🏿 The composition of this board by @saycheese...   \n",
       "2019-09-16 15:45:42+00:00  👋 It was #nationalcheesetoastday yesterday, an...   \n",
       "2019-09-17 02:55:39+00:00  🌠 About tonight....\\n🌠 Big thanks to @cherrybo...   \n",
       "2019-09-17 17:04:06+00:00  🤓 Fun fact: Did you know ceramics and cheese a...   \n",
       "2019-09-18 19:23:37+00:00  🍔 Happy National Cheeseburger Day with this ep...   \n",
       "2019-09-20 00:57:07+00:00  💡 Try your hand at cheesemaking by making a si...   \n",
       "2019-09-21 01:04:16+00:00  😉 Our Grotto Fresco, cheese, @milene.jardine.c...   \n",
       "2019-09-21 20:31:23+00:00  🍕The season of melty cheese is upon us.⁣\\n🧀 Ou...   \n",
       "2019-09-22 22:52:07+00:00  🍇 Holding on to the last remnants of summer wi...   \n",
       "2019-09-23 15:45:19+00:00  ⭐ This board is truly one-of-a-kind and an abs...   \n",
       "2019-09-24 17:04:27+00:00                              🐐 Name that cheese...   \n",
       "2019-09-25 18:44:06+00:00             Who eats the rind on the cheese? 🙋‍♂️👹   \n",
       "2019-09-26 17:41:57+00:00  🌠 Up close & personal Gorgonzola Dolce looking...   \n",
       "2019-09-29 20:15:29+00:00  🍁 Brie Fermier Jouvence - the excellent hiking...   \n",
       "2019-09-30 18:21:39+00:00  👨‍👩‍👧‍👧 Tomorrow, our Cheese Grotto Family of ...   \n",
       "2019-10-01 19:41:51+00:00  🎉 Our brand new Cheese Grotto Piatto has offic...   \n",
       "2019-10-02 17:44:23+00:00  October is American Cheese Month. \\nWhat's you...   \n",
       "2019-10-03 16:14:59+00:00  🦄 What's your Cheese Personality?\\n☝🏽 Take our...   \n",
       "2019-10-06 19:15:54+00:00  🍁 Have you made a raclette dinner at home? 🍁 R...   \n",
       "2019-10-08 20:09:25+00:00  Is it too early in the week to pair cheese and...   \n",
       "\n",
       "                                                                    comments  \\\n",
       "timestamp                                                                      \n",
       "2019-09-15 22:52:09+00:00  {'data': [{'timestamp': '2019-09-20T01:27:29+0...   \n",
       "2019-09-16 15:45:42+00:00  {'data': [{'timestamp': '2019-09-17T18:45:29+0...   \n",
       "2019-09-17 02:55:39+00:00  {'data': [{'timestamp': '2019-09-21T00:24:12+0...   \n",
       "2019-09-17 17:04:06+00:00  {'data': [{'timestamp': '2019-09-17T17:04:21+0...   \n",
       "2019-09-18 19:23:37+00:00  {'data': [{'timestamp': '2019-09-19T18:45:40+0...   \n",
       "2019-09-20 00:57:07+00:00  {'data': [{'timestamp': '2019-09-20T00:57:26+0...   \n",
       "2019-09-21 01:04:16+00:00  {'data': [{'timestamp': '2019-09-21T17:52:26+0...   \n",
       "2019-09-21 20:31:23+00:00  {'data': [{'timestamp': '2019-09-21T20:31:36+0...   \n",
       "2019-09-22 22:52:07+00:00  {'data': [{'timestamp': '2019-09-30T18:08:35+0...   \n",
       "2019-09-23 15:45:19+00:00  {'data': [{'timestamp': '2019-09-24T14:11:21+0...   \n",
       "2019-09-24 17:04:27+00:00  {'data': [{'timestamp': '2019-09-25T02:57:52+0...   \n",
       "2019-09-25 18:44:06+00:00  {'data': [{'timestamp': '2019-09-26T01:14:08+0...   \n",
       "2019-09-26 17:41:57+00:00  {'data': [{'timestamp': '2019-10-01T02:55:04+0...   \n",
       "2019-09-29 20:15:29+00:00  {'data': [{'timestamp': '2019-10-01T12:43:20+0...   \n",
       "2019-09-30 18:21:39+00:00  {'data': [{'timestamp': '2019-10-02T23:59:05+0...   \n",
       "2019-10-01 19:41:51+00:00  {'data': [{'timestamp': '2019-10-01T21:08:56+0...   \n",
       "2019-10-02 17:44:23+00:00  {'data': [{'timestamp': '2019-10-04T16:10:39+0...   \n",
       "2019-10-03 16:14:59+00:00  {'data': [{'timestamp': '2019-10-03T16:17:47+0...   \n",
       "2019-10-06 19:15:54+00:00  {'data': [{'timestamp': '2019-10-06T19:18:32+0...   \n",
       "2019-10-08 20:09:25+00:00  {'data': [{'timestamp': '2019-10-08T22:03:57+0...   \n",
       "\n",
       "                           comments_count      media_type  \\\n",
       "timestamp                                                   \n",
       "2019-09-15 22:52:09+00:00               4           IMAGE   \n",
       "2019-09-16 15:45:42+00:00               4           IMAGE   \n",
       "2019-09-17 02:55:39+00:00              12           VIDEO   \n",
       "2019-09-17 17:04:06+00:00               1           IMAGE   \n",
       "2019-09-18 19:23:37+00:00               2           IMAGE   \n",
       "2019-09-20 00:57:07+00:00               1           IMAGE   \n",
       "2019-09-21 01:04:16+00:00               2           IMAGE   \n",
       "2019-09-21 20:31:23+00:00               1           IMAGE   \n",
       "2019-09-22 22:52:07+00:00               2           IMAGE   \n",
       "2019-09-23 15:45:19+00:00               1           IMAGE   \n",
       "2019-09-24 17:04:27+00:00               5           IMAGE   \n",
       "2019-09-25 18:44:06+00:00               2           IMAGE   \n",
       "2019-09-26 17:41:57+00:00               6           IMAGE   \n",
       "2019-09-29 20:15:29+00:00              10  CAROUSEL_ALBUM   \n",
       "2019-09-30 18:21:39+00:00               4           IMAGE   \n",
       "2019-10-01 19:41:51+00:00               5           VIDEO   \n",
       "2019-10-02 17:44:23+00:00              15           IMAGE   \n",
       "2019-10-03 16:14:59+00:00               1  CAROUSEL_ALBUM   \n",
       "2019-10-06 19:15:54+00:00               1           VIDEO   \n",
       "2019-10-08 20:09:25+00:00               2           IMAGE   \n",
       "\n",
       "                                                                   media_url  \\\n",
       "timestamp                                                                      \n",
       "2019-09-15 22:52:09+00:00  https://scontent.xx.fbcdn.net/v/t51.2885-15/69...   \n",
       "2019-09-16 15:45:42+00:00  https://scontent.xx.fbcdn.net/v/t51.2885-15/69...   \n",
       "2019-09-17 02:55:39+00:00  https://scontent.xx.fbcdn.net/v/t50.2886-16/71...   \n",
       "2019-09-17 17:04:06+00:00  https://scontent.xx.fbcdn.net/v/t51.2885-15/69...   \n",
       "2019-09-18 19:23:37+00:00  https://scontent.xx.fbcdn.net/v/t51.2885-15/69...   \n",
       "2019-09-20 00:57:07+00:00  https://scontent.xx.fbcdn.net/v/t51.2885-15/69...   \n",
       "2019-09-21 01:04:16+00:00  https://scontent.xx.fbcdn.net/v/t51.2885-15/70...   \n",
       "2019-09-21 20:31:23+00:00  https://scontent.xx.fbcdn.net/v/t51.2885-15/71...   \n",
       "2019-09-22 22:52:07+00:00  https://scontent.xx.fbcdn.net/v/t51.2885-15/70...   \n",
       "2019-09-23 15:45:19+00:00  https://scontent.xx.fbcdn.net/v/t51.2885-15/69...   \n",
       "2019-09-24 17:04:27+00:00  https://scontent.xx.fbcdn.net/v/t51.2885-15/71...   \n",
       "2019-09-25 18:44:06+00:00  https://scontent.xx.fbcdn.net/v/t51.2885-15/69...   \n",
       "2019-09-26 17:41:57+00:00  https://scontent.xx.fbcdn.net/v/t51.2885-15/71...   \n",
       "2019-09-29 20:15:29+00:00  https://scontent.xx.fbcdn.net/v/t51.2885-15/69...   \n",
       "2019-09-30 18:21:39+00:00  https://scontent.xx.fbcdn.net/v/t51.2885-15/70...   \n",
       "2019-10-01 19:41:51+00:00  https://scontent.xx.fbcdn.net/v/t50.2886-16/72...   \n",
       "2019-10-02 17:44:23+00:00  https://scontent.xx.fbcdn.net/v/t51.2885-15/72...   \n",
       "2019-10-03 16:14:59+00:00  https://scontent.xx.fbcdn.net/v/t51.2885-15/71...   \n",
       "2019-10-06 19:15:54+00:00  https://scontent.xx.fbcdn.net/v/t50.2886-16/72...   \n",
       "2019-10-08 20:09:25+00:00  https://scontent.xx.fbcdn.net/v/t51.2885-15/72...   \n",
       "\n",
       "                           like_count                 id  \n",
       "timestamp                                                 \n",
       "2019-09-15 22:52:09+00:00         187  18075810949122427  \n",
       "2019-09-16 15:45:42+00:00          63  17865395935482791  \n",
       "2019-09-17 02:55:39+00:00         379  18070954975136875  \n",
       "2019-09-17 17:04:06+00:00          41  18100520470038394  \n",
       "2019-09-18 19:23:37+00:00          42  18055362448173931  \n",
       "2019-09-20 00:57:07+00:00          96  18021463672227534  \n",
       "2019-09-21 01:04:16+00:00          42  18081650977103857  \n",
       "2019-09-21 20:31:23+00:00          52  17925461323325721  \n",
       "2019-09-22 22:52:07+00:00         134  18102793507050522  \n",
       "2019-09-23 15:45:19+00:00          35  17891953969400236  \n",
       "2019-09-24 17:04:27+00:00          90  18071445424082465  \n",
       "2019-09-25 18:44:06+00:00          46  18020234569240353  \n",
       "2019-09-26 17:41:57+00:00         112  17858060266550471  \n",
       "2019-09-29 20:15:29+00:00         180  17926363090316727  \n",
       "2019-09-30 18:21:39+00:00          68  17859003490547765  \n",
       "2019-10-01 19:41:51+00:00          75  18072965824089304  \n",
       "2019-10-02 17:44:23+00:00         116  17964564394293625  \n",
       "2019-10-03 16:14:59+00:00          30  18093778192075666  \n",
       "2019-10-06 19:15:54+00:00          99  18084417472117793  \n",
       "2019-10-08 20:09:25+00:00          37  18032803363216401  "
      ]
     },
     "execution_count": 22,
     "metadata": {},
     "output_type": "execute_result"
    }
   ],
   "source": [
    "#df taken from below\n",
    "df.tail(20)"
   ]
  },
  {
   "cell_type": "code",
   "execution_count": 17,
   "metadata": {},
   "outputs": [],
   "source": [
    "#Get basic data for recent ids \n",
    "media_objects_recent = []\n",
    "for obj_id in recent_ids:\n",
    "    media_objects_recent.append(requests.get(f'https://graph.facebook.com/v4.0/{obj_id}?fields=caption,comments,comments_count,media_type,media_url,like_count,timestamp&access_token={user_access_token}').text)\n",
    "    time.sleep(1.25)"
   ]
  },
  {
   "cell_type": "code",
   "execution_count": 18,
   "metadata": {
    "scrolled": true
   },
   "outputs": [
    {
     "data": {
      "text/plain": [
       "'{\"caption\":\"\\\\ud83d\\\\udc4b It was #nationalcheesetoastday yesterday, and we were too distracted drooling over cheese boards to post about it!\\\\u2063\\\\n\\\\ud83d\\\\udc4b In anticipation for fall flavors, here\\'s a classic - homemade mozzarella, roasted butternut squash, fried sage, balsamic reduction, and some crunchy sea salt.\",\"comments\":{\"data\":[{\"timestamp\":\"2019-09-17T18:45:29+0000\",\"text\":\"Beautiful!\\\\ud83e\\\\uddc0\\\\u2764\\\\ufe0f\\\\ud83e\\\\uddc0\",\"id\":\"18070051405089611\"},{\"timestamp\":\"2019-09-16T16:38:11+0000\",\"text\":\"This looks so good \\\\ud83d\\\\udc4d\",\"id\":\"17865478354484887\"},{\"timestamp\":\"2019-09-16T15:45:58+0000\",\"text\":\"#avantrevivalists #ruralistmodern #howiseeluxury #howisummer #winecellar #rawmilkcheese #cheeseforlife #wineandcheese #creativityfound #makersgonnamake #cheesemaking #cheeseknife #thatcheeseplate #doitfortheprocess #mycommontable #abmlifeissweet #buzzfeedtasty #mybeautifulmess #tastemade #foundforaged #bedeeplyrooted #thatcolorproject #howyouglow #theblogissue #makeitdelicious #abmathome #makeyousmilestyle #bandofun #mydomaine\",\"id\":\"17875069246449362\"}]},\"comments_count\":4,\"media_type\":\"IMAGE\",\"media_url\":\"https:\\\\/\\\\/scontent.xx.fbcdn.net\\\\/v\\\\/t51.2885-15\\\\/69874512_420349778831416_2316626310007002549_n.jpg?_nc_cat=111&_nc_oc=AQlXjj2_CeeOIEZigWfscsecmdJFZ6jR7POqSHRxt2JTw2HsMfJInn1qjK4YjB8kDgE&_nc_ht=scontent.xx&oh=55c32c4caf87d98799566a05398423f7&oe=5E5195BC\",\"like_count\":67,\"timestamp\":\"2019-09-16T15:45:42+0000\",\"id\":\"17865395935482791\"}'"
      ]
     },
     "execution_count": 18,
     "metadata": {},
     "output_type": "execute_result"
    }
   ],
   "source": [
    "media_objects_recent[0]"
   ]
  },
  {
   "cell_type": "code",
   "execution_count": 23,
   "metadata": {},
   "outputs": [],
   "source": [
    "recents = [json.loads(obj) for obj in media_objects_recent]"
   ]
  },
  {
   "cell_type": "code",
   "execution_count": 25,
   "metadata": {},
   "outputs": [],
   "source": [
    "columns = (list(recents[0].keys()))"
   ]
  },
  {
   "cell_type": "code",
   "execution_count": 26,
   "metadata": {},
   "outputs": [
    {
     "data": {
      "text/plain": [
       "['caption',\n",
       " 'comments',\n",
       " 'comments_count',\n",
       " 'media_type',\n",
       " 'media_url',\n",
       " 'like_count',\n",
       " 'timestamp',\n",
       " 'id']"
      ]
     },
     "execution_count": 26,
     "metadata": {},
     "output_type": "execute_result"
    }
   ],
   "source": [
    "columns"
   ]
  },
  {
   "cell_type": "code",
   "execution_count": 42,
   "metadata": {},
   "outputs": [],
   "source": [
    "data = {col: [obj[col] if col in list(obj.keys()) else None for obj in recents] for col in columns}"
   ]
  },
  {
   "cell_type": "code",
   "execution_count": 43,
   "metadata": {},
   "outputs": [],
   "source": [
    "\n",
    "#build pandas data frame to look at data\n",
    "df_recents = pd.DataFrame(data)\n",
    "df_recents.set_index(pd.to_datetime(df_recents['timestamp']), inplace = True)\n",
    "df_recents.drop(['timestamp'], axis = 1, inplace = True)\n",
    "df_recents.sort_index(axis = 0, ascending = True, inplace = True)"
   ]
  },
  {
   "cell_type": "code",
   "execution_count": 44,
   "metadata": {},
   "outputs": [
    {
     "data": {
      "text/html": [
       "<div>\n",
       "<style scoped>\n",
       "    .dataframe tbody tr th:only-of-type {\n",
       "        vertical-align: middle;\n",
       "    }\n",
       "\n",
       "    .dataframe tbody tr th {\n",
       "        vertical-align: top;\n",
       "    }\n",
       "\n",
       "    .dataframe thead th {\n",
       "        text-align: right;\n",
       "    }\n",
       "</style>\n",
       "<table border=\"1\" class=\"dataframe\">\n",
       "  <thead>\n",
       "    <tr style=\"text-align: right;\">\n",
       "      <th></th>\n",
       "      <th>caption</th>\n",
       "      <th>comments</th>\n",
       "      <th>comments_count</th>\n",
       "      <th>media_type</th>\n",
       "      <th>media_url</th>\n",
       "      <th>like_count</th>\n",
       "      <th>id</th>\n",
       "    </tr>\n",
       "    <tr>\n",
       "      <th>timestamp</th>\n",
       "      <th></th>\n",
       "      <th></th>\n",
       "      <th></th>\n",
       "      <th></th>\n",
       "      <th></th>\n",
       "      <th></th>\n",
       "      <th></th>\n",
       "    </tr>\n",
       "  </thead>\n",
       "  <tbody>\n",
       "    <tr>\n",
       "      <th>2019-09-16 15:45:42+00:00</th>\n",
       "      <td>👋 It was #nationalcheesetoastday yesterday, an...</td>\n",
       "      <td>{'data': [{'timestamp': '2019-09-17T18:45:29+0...</td>\n",
       "      <td>4</td>\n",
       "      <td>IMAGE</td>\n",
       "      <td>https://scontent.xx.fbcdn.net/v/t51.2885-15/69...</td>\n",
       "      <td>67</td>\n",
       "      <td>17865395935482791</td>\n",
       "    </tr>\n",
       "    <tr>\n",
       "      <th>2019-09-17 02:55:39+00:00</th>\n",
       "      <td>🌠 About tonight....\\n🌠 Big thanks to @cherrybo...</td>\n",
       "      <td>{'data': [{'timestamp': '2019-09-21T00:24:12+0...</td>\n",
       "      <td>12</td>\n",
       "      <td>VIDEO</td>\n",
       "      <td>https://scontent.xx.fbcdn.net/v/t50.2886-16/71...</td>\n",
       "      <td>379</td>\n",
       "      <td>18070954975136875</td>\n",
       "    </tr>\n",
       "    <tr>\n",
       "      <th>2019-09-17 17:04:06+00:00</th>\n",
       "      <td>🤓 Fun fact: Did you know ceramics and cheese a...</td>\n",
       "      <td>{'data': [{'timestamp': '2019-09-17T17:04:21+0...</td>\n",
       "      <td>1</td>\n",
       "      <td>IMAGE</td>\n",
       "      <td>https://scontent.xx.fbcdn.net/v/t51.2885-15/69...</td>\n",
       "      <td>41</td>\n",
       "      <td>18100520470038394</td>\n",
       "    </tr>\n",
       "    <tr>\n",
       "      <th>2019-09-18 19:23:37+00:00</th>\n",
       "      <td>🍔 Happy National Cheeseburger Day with this ep...</td>\n",
       "      <td>{'data': [{'timestamp': '2019-09-19T18:45:40+0...</td>\n",
       "      <td>2</td>\n",
       "      <td>IMAGE</td>\n",
       "      <td>https://scontent.xx.fbcdn.net/v/t51.2885-15/69...</td>\n",
       "      <td>42</td>\n",
       "      <td>18055362448173931</td>\n",
       "    </tr>\n",
       "    <tr>\n",
       "      <th>2019-09-20 00:57:07+00:00</th>\n",
       "      <td>💡 Try your hand at cheesemaking by making a si...</td>\n",
       "      <td>{'data': [{'timestamp': '2019-09-20T00:57:26+0...</td>\n",
       "      <td>1</td>\n",
       "      <td>IMAGE</td>\n",
       "      <td>https://scontent.xx.fbcdn.net/v/t51.2885-15/69...</td>\n",
       "      <td>98</td>\n",
       "      <td>18021463672227534</td>\n",
       "    </tr>\n",
       "  </tbody>\n",
       "</table>\n",
       "</div>"
      ],
      "text/plain": [
       "                                                                     caption  \\\n",
       "timestamp                                                                      \n",
       "2019-09-16 15:45:42+00:00  👋 It was #nationalcheesetoastday yesterday, an...   \n",
       "2019-09-17 02:55:39+00:00  🌠 About tonight....\\n🌠 Big thanks to @cherrybo...   \n",
       "2019-09-17 17:04:06+00:00  🤓 Fun fact: Did you know ceramics and cheese a...   \n",
       "2019-09-18 19:23:37+00:00  🍔 Happy National Cheeseburger Day with this ep...   \n",
       "2019-09-20 00:57:07+00:00  💡 Try your hand at cheesemaking by making a si...   \n",
       "\n",
       "                                                                    comments  \\\n",
       "timestamp                                                                      \n",
       "2019-09-16 15:45:42+00:00  {'data': [{'timestamp': '2019-09-17T18:45:29+0...   \n",
       "2019-09-17 02:55:39+00:00  {'data': [{'timestamp': '2019-09-21T00:24:12+0...   \n",
       "2019-09-17 17:04:06+00:00  {'data': [{'timestamp': '2019-09-17T17:04:21+0...   \n",
       "2019-09-18 19:23:37+00:00  {'data': [{'timestamp': '2019-09-19T18:45:40+0...   \n",
       "2019-09-20 00:57:07+00:00  {'data': [{'timestamp': '2019-09-20T00:57:26+0...   \n",
       "\n",
       "                           comments_count media_type  \\\n",
       "timestamp                                              \n",
       "2019-09-16 15:45:42+00:00               4      IMAGE   \n",
       "2019-09-17 02:55:39+00:00              12      VIDEO   \n",
       "2019-09-17 17:04:06+00:00               1      IMAGE   \n",
       "2019-09-18 19:23:37+00:00               2      IMAGE   \n",
       "2019-09-20 00:57:07+00:00               1      IMAGE   \n",
       "\n",
       "                                                                   media_url  \\\n",
       "timestamp                                                                      \n",
       "2019-09-16 15:45:42+00:00  https://scontent.xx.fbcdn.net/v/t51.2885-15/69...   \n",
       "2019-09-17 02:55:39+00:00  https://scontent.xx.fbcdn.net/v/t50.2886-16/71...   \n",
       "2019-09-17 17:04:06+00:00  https://scontent.xx.fbcdn.net/v/t51.2885-15/69...   \n",
       "2019-09-18 19:23:37+00:00  https://scontent.xx.fbcdn.net/v/t51.2885-15/69...   \n",
       "2019-09-20 00:57:07+00:00  https://scontent.xx.fbcdn.net/v/t51.2885-15/69...   \n",
       "\n",
       "                           like_count                 id  \n",
       "timestamp                                                 \n",
       "2019-09-16 15:45:42+00:00          67  17865395935482791  \n",
       "2019-09-17 02:55:39+00:00         379  18070954975136875  \n",
       "2019-09-17 17:04:06+00:00          41  18100520470038394  \n",
       "2019-09-18 19:23:37+00:00          42  18055362448173931  \n",
       "2019-09-20 00:57:07+00:00          98  18021463672227534  "
      ]
     },
     "execution_count": 44,
     "metadata": {},
     "output_type": "execute_result"
    }
   ],
   "source": [
    "df_recents.head()"
   ]
  },
  {
   "cell_type": "code",
   "execution_count": null,
   "metadata": {},
   "outputs": [],
   "source": [
    "#Getting one list of ids"
   ]
  },
  {
   "cell_type": "code",
   "execution_count": 49,
   "metadata": {},
   "outputs": [],
   "source": [
    "all_ids = df['id'].values"
   ]
  },
  {
   "cell_type": "code",
   "execution_count": 53,
   "metadata": {},
   "outputs": [
    {
     "data": {
      "text/plain": [
       "array(['18071445424082465', '18020234569240353', '17858060266550471',\n",
       "       '17926363090316727', '17859003490547765', '18072965824089304',\n",
       "       '17964564394293625', '18093778192075666', '18084417472117793',\n",
       "       '18032803363216401'], dtype=object)"
      ]
     },
     "execution_count": 53,
     "metadata": {},
     "output_type": "execute_result"
    }
   ],
   "source": [
    "all_ids[-10:]"
   ]
  },
  {
   "cell_type": "code",
   "execution_count": 66,
   "metadata": {},
   "outputs": [],
   "source": [
    "ids = list(all_ids[:-1])"
   ]
  },
  {
   "cell_type": "code",
   "execution_count": 67,
   "metadata": {},
   "outputs": [],
   "source": [
    "ids.extend(need_insights_ids)"
   ]
  },
  {
   "cell_type": "code",
   "execution_count": 70,
   "metadata": {},
   "outputs": [
    {
     "data": {
      "text/plain": [
       "'17913761125362647'"
      ]
     },
     "execution_count": 70,
     "metadata": {},
     "output_type": "execute_result"
    }
   ],
   "source": [
    "ids[-1]"
   ]
  },
  {
   "cell_type": "code",
   "execution_count": 77,
   "metadata": {},
   "outputs": [],
   "source": [
    "types = pd.read_csv('types.csv')"
   ]
  },
  {
   "cell_type": "code",
   "execution_count": 75,
   "metadata": {},
   "outputs": [],
   "source": [
    "types = list(types.values)"
   ]
  },
  {
   "cell_type": "code",
   "execution_count": 84,
   "metadata": {},
   "outputs": [
    {
     "data": {
      "text/plain": [
       "array(['IMAGE'], dtype=object)"
      ]
     },
     "execution_count": 84,
     "metadata": {},
     "output_type": "execute_result"
    }
   ],
   "source": [
    "types.values[0]"
   ]
  },
  {
   "cell_type": "code",
   "execution_count": 85,
   "metadata": {},
   "outputs": [],
   "source": [
    "types_list = [type[0] for type in types.values]"
   ]
  },
  {
   "cell_type": "code",
   "execution_count": 87,
   "metadata": {},
   "outputs": [
    {
     "data": {
      "text/plain": [
       "1327"
      ]
     },
     "execution_count": 87,
     "metadata": {},
     "output_type": "execute_result"
    }
   ],
   "source": [
    "len(types_list)"
   ]
  },
  {
   "cell_type": "code",
   "execution_count": 88,
   "metadata": {},
   "outputs": [
    {
     "data": {
      "text/plain": [
       "1328"
      ]
     },
     "execution_count": 88,
     "metadata": {},
     "output_type": "execute_result"
    }
   ],
   "source": [
    "len(ids)"
   ]
  },
  {
   "cell_type": "code",
   "execution_count": 89,
   "metadata": {},
   "outputs": [
    {
     "data": {
      "text/plain": [
       "['17845391998697773',\n",
       " '18059383516197394',\n",
       " '17886173089428401',\n",
       " '18111897763016276',\n",
       " '17878846258446504',\n",
       " '17851175503653148',\n",
       " '17847627493700225',\n",
       " '17923940302338156',\n",
       " '17887647805425413',\n",
       " '17913761125362647']"
      ]
     },
     "execution_count": 89,
     "metadata": {},
     "output_type": "execute_result"
    }
   ],
   "source": [
    "ids[-10:]"
   ]
  },
  {
   "cell_type": "code",
   "execution_count": 137,
   "metadata": {},
   "outputs": [
    {
     "data": {
      "text/plain": [
       "670"
      ]
     },
     "execution_count": 137,
     "metadata": {},
     "output_type": "execute_result"
    }
   ],
   "source": [
    "ids.index('17855236483077308')"
   ]
  },
  {
   "cell_type": "code",
   "execution_count": 139,
   "metadata": {},
   "outputs": [
    {
     "data": {
      "application/vnd.jupyter.widget-view+json": {
       "model_id": "994d308582024309964689961d1771bf",
       "version_major": 2,
       "version_minor": 0
      },
      "text/plain": [
       "HBox(children=(IntProgress(value=0, max=658), HTML(value='')))"
      ]
     },
     "metadata": {},
     "output_type": "display_data"
    },
    {
     "ename": "KeyError",
     "evalue": "'media_type'",
     "output_type": "error",
     "traceback": [
      "\u001b[1;31m---------------------------------------------------------------------------\u001b[0m",
      "\u001b[1;31mKeyError\u001b[0m                                  Traceback (most recent call last)",
      "\u001b[1;32m<ipython-input-139-2c70546647cb>\u001b[0m in \u001b[0;36m<module>\u001b[1;34m\u001b[0m\n\u001b[0;32m      3\u001b[0m \u001b[0mtypes\u001b[0m \u001b[1;33m=\u001b[0m \u001b[1;33m[\u001b[0m\u001b[1;33m]\u001b[0m\u001b[1;33m\u001b[0m\u001b[1;33m\u001b[0m\u001b[0m\n\u001b[0;32m      4\u001b[0m \u001b[1;32mfor\u001b[0m \u001b[0mobj_id\u001b[0m \u001b[1;32min\u001b[0m \u001b[0mtqdm\u001b[0m\u001b[1;33m(\u001b[0m\u001b[0mids\u001b[0m\u001b[1;33m[\u001b[0m\u001b[1;36m670\u001b[0m\u001b[1;33m:\u001b[0m\u001b[1;33m]\u001b[0m\u001b[1;33m)\u001b[0m\u001b[1;33m:\u001b[0m\u001b[1;33m\u001b[0m\u001b[1;33m\u001b[0m\u001b[0m\n\u001b[1;32m----> 5\u001b[1;33m     \u001b[0m_type\u001b[0m \u001b[1;33m=\u001b[0m \u001b[0mjson\u001b[0m\u001b[1;33m.\u001b[0m\u001b[0mloads\u001b[0m\u001b[1;33m(\u001b[0m\u001b[0mrequests\u001b[0m\u001b[1;33m.\u001b[0m\u001b[0mget\u001b[0m\u001b[1;33m(\u001b[0m\u001b[1;34mf'https://graph.facebook.com/v4.0/{obj_id}?fields=media_type&access_token={user_access_token}'\u001b[0m\u001b[1;33m)\u001b[0m\u001b[1;33m.\u001b[0m\u001b[0mtext\u001b[0m\u001b[1;33m)\u001b[0m\u001b[1;33m[\u001b[0m\u001b[1;34m'media_type'\u001b[0m\u001b[1;33m]\u001b[0m\u001b[1;33m\u001b[0m\u001b[1;33m\u001b[0m\u001b[0m\n\u001b[0m\u001b[0;32m      6\u001b[0m     \u001b[0mtypes\u001b[0m\u001b[1;33m.\u001b[0m\u001b[0mappend\u001b[0m\u001b[1;33m(\u001b[0m\u001b[0m_type\u001b[0m\u001b[1;33m)\u001b[0m\u001b[1;33m\u001b[0m\u001b[1;33m\u001b[0m\u001b[0m\n\u001b[0;32m      7\u001b[0m     \u001b[1;32mif\u001b[0m \u001b[0m_type\u001b[0m \u001b[1;33m==\u001b[0m \u001b[1;34m'IMAGE'\u001b[0m\u001b[1;33m:\u001b[0m\u001b[1;33m\u001b[0m\u001b[1;33m\u001b[0m\u001b[0m\n",
      "\u001b[1;31mKeyError\u001b[0m: 'media_type'"
     ]
    }
   ],
   "source": [
    "#Get basic data for recent ids \n",
    "insights = []\n",
    "types = []\n",
    "for obj_id in tqdm(ids[670:]):\n",
    "    _type = json.loads(requests.get(f'https://graph.facebook.com/v4.0/{obj_id}?fields=media_type&access_token={user_access_token}').text)['media_type']\n",
    "    types.append(_type)\n",
    "    if _type == 'IMAGE':\n",
    "        metrics = \"engagement,impressions,reach,saved,\"\n",
    "    elif _type == 'VIDEO':\n",
    "        metrics = \"engagement,impressions,reach,saved,video_views\"\n",
    "    elif _type == 'CAROUSEL_ALBUM':\n",
    "         metrics = \"carousel_album_engagement,carousel_album_impressions,carousel_album_reach,carousel_album_saved,carousel_album_video_views\"\n",
    "    insights_request = \"https://graph.facebook.com/v4.0/\" + obj_id + \"/insights?metric=\" + metrics + \"&access_token=\" + user_access_token;\n",
    "    insight_response = json.loads(requests.get(insights_request).text)['data']\n",
    "    insights.append((obj_id, [metric['values'][0]['value'] for metric in insight_response]))\n",
    "    time.sleep(1.25)"
   ]
  },
  {
   "cell_type": "code",
   "execution_count": 141,
   "metadata": {},
   "outputs": [
    {
     "data": {
      "text/plain": [
       "'17842103041041130'"
      ]
     },
     "execution_count": 141,
     "metadata": {},
     "output_type": "execute_result"
    }
   ],
   "source": [
    "ids[218] #RESUME HERE TOMORROW"
   ]
  },
  {
   "cell_type": "code",
   "execution_count": null,
   "metadata": {},
   "outputs": [],
   "source": [
    "#Get basic data for recent ids \n",
    "insights = []\n",
    "types = []\n",
    "for obj_id in tqdm(ids[670:]):\n",
    "    _type = json.loads(requests.get(f'https://graph.facebook.com/v4.0/{obj_id}?fields=media_type&access_token={user_access_token}').text)['media_type']\n",
    "    types.append(_type)\n",
    "    if _type == 'IMAGE':\n",
    "        metrics = \"engagement,impressions,reach,saved,\"\n",
    "    elif _type == 'VIDEO':\n",
    "        metrics = \"engagement,impressions,reach,saved,video_views\"\n",
    "    elif _type == 'CAROUSEL_ALBUM':\n",
    "         metrics = \"carousel_album_engagement,carousel_album_impressions,carousel_album_reach,carousel_album_saved,carousel_album_video_views\"\n",
    "    insights_request = \"https://graph.facebook.com/v4.0/\" + obj_id + \"/insights?metric=\" + metrics + \"&access_token=\" + user_access_token;\n",
    "    insight_response = json.loads(requests.get(insights_request).text)['data']\n",
    "    insights.append((obj_id, [metric['values'][0]['value'] for metric in insight_response]))\n",
    "    time.sleep(1.25)"
   ]
  },
  {
   "cell_type": "code",
   "execution_count": 144,
   "metadata": {},
   "outputs": [
    {
     "ename": "KeyError",
     "evalue": "'media_type'",
     "output_type": "error",
     "traceback": [
      "\u001b[1;31m---------------------------------------------------------------------------\u001b[0m",
      "\u001b[1;31mKeyError\u001b[0m                                  Traceback (most recent call last)",
      "\u001b[1;32m<ipython-input-144-24cfaac833f3>\u001b[0m in \u001b[0;36m<module>\u001b[1;34m\u001b[0m\n\u001b[0;32m      2\u001b[0m \u001b[1;33m\u001b[0m\u001b[0m\n\u001b[0;32m      3\u001b[0m \u001b[1;32mfor\u001b[0m \u001b[0mobj_id\u001b[0m \u001b[1;32min\u001b[0m \u001b[1;33m[\u001b[0m\u001b[1;36m218\u001b[0m\u001b[1;33m]\u001b[0m\u001b[1;33m:\u001b[0m\u001b[1;33m\u001b[0m\u001b[1;33m\u001b[0m\u001b[0m\n\u001b[1;32m----> 4\u001b[1;33m     \u001b[0m_type\u001b[0m \u001b[1;33m=\u001b[0m \u001b[0mjson\u001b[0m\u001b[1;33m.\u001b[0m\u001b[0mloads\u001b[0m\u001b[1;33m(\u001b[0m\u001b[0mrequests\u001b[0m\u001b[1;33m.\u001b[0m\u001b[0mget\u001b[0m\u001b[1;33m(\u001b[0m\u001b[1;34mf'https://graph.facebook.com/v4.0/{obj_id}?fields=media_type&access_token={user_access_token}'\u001b[0m\u001b[1;33m)\u001b[0m\u001b[1;33m.\u001b[0m\u001b[0mtext\u001b[0m\u001b[1;33m)\u001b[0m\u001b[1;33m[\u001b[0m\u001b[1;34m'media_type'\u001b[0m\u001b[1;33m]\u001b[0m\u001b[1;33m\u001b[0m\u001b[1;33m\u001b[0m\u001b[0m\n\u001b[0m\u001b[0;32m      5\u001b[0m     \u001b[1;31m#types.append(_type)\u001b[0m\u001b[1;33m\u001b[0m\u001b[1;33m\u001b[0m\u001b[1;33m\u001b[0m\u001b[0m\n\u001b[0;32m      6\u001b[0m     \u001b[1;32mif\u001b[0m \u001b[0m_type\u001b[0m \u001b[1;33m==\u001b[0m \u001b[1;34m'IMAGE'\u001b[0m\u001b[1;33m:\u001b[0m\u001b[1;33m\u001b[0m\u001b[1;33m\u001b[0m\u001b[0m\n",
      "\u001b[1;31mKeyError\u001b[0m: 'media_type'"
     ]
    }
   ],
   "source": [
    "#Get basic data for recent ids \n",
    "\n",
    "for obj_id in [218]:\n",
    "    _type = json.loads(requests.get(f'https://graph.facebook.com/v4.0/{obj_id}?fields=media_type&access_token={user_access_token}').text)['media_type']\n",
    "    #types.append(_type)\n",
    "    if _type == 'IMAGE':\n",
    "        metrics = \"engagement,impressions,reach,saved,\"\n",
    "    elif _type == 'VIDEO':\n",
    "        metrics = \"engagement,impressions,reach,saved,video_views\"\n",
    "    elif _type == 'CAROUSEL_ALBUM':\n",
    "         metrics = \"carousel_album_engagement,carousel_album_impressions,carousel_album_reach,carousel_album_saved,carousel_album_video_views\"\n",
    "    insights_request = \"https://graph.facebook.com/v4.0/\" + obj_id + \"/insights?metric=\" + metrics + \"&access_token=\" + user_access_token;\n",
    "    insight_response = json.loads(requests.get(insights_request).text)['data']\n",
    "    test_insight = (obj_id, [metric['values'][0]['value'] for metric in insight_response])\n",
    "    time.sleep(1.25)"
   ]
  },
  {
   "cell_type": "code",
   "execution_count": 145,
   "metadata": {},
   "outputs": [
    {
     "data": {
      "text/plain": [
       "'{\"error\":{\"message\":\"(#4) Application request limit reached\",\"type\":\"OAuthException\",\"is_transient\":true,\"code\":4,\"fbtrace_id\":\"A3CuEPzuMYxo4np8z6PYnqh\"}}'"
      ]
     },
     "execution_count": 145,
     "metadata": {},
     "output_type": "execute_result"
    }
   ],
   "source": [
    "requests.get(f'https://graph.facebook.com/v4.0/17842103041041130?fields=media_type&access_token={user_access_token}').text"
   ]
  },
  {
   "cell_type": "code",
   "execution_count": null,
   "metadata": {},
   "outputs": [],
   "source": [
    "#for obj_id in tqdm(story_ids):"
   ]
  },
  {
   "cell_type": "code",
   "execution_count": 140,
   "metadata": {
    "collapsed": true
   },
   "outputs": [
    {
     "data": {
      "text/plain": [
       "[('17855236483077308', [104, 0, 0, 0]),\n",
       " ('17853984304117237', [67, 0, 0, 0]),\n",
       " ('17843459995192371', [101, 0, 0, 0]),\n",
       " ('17863294771038670', [38, 0, 0, 0]),\n",
       " ('17864120158037953', [85, 0, 0, 0]),\n",
       " ('17864049496035750', [106, 0, 0, 0]),\n",
       " ('17858408956071207', [39, 0, 0, 0]),\n",
       " ('17843708674155733', [63, 0, 0, 0]),\n",
       " ('17858627830065107', [58, 0, 0, 0]),\n",
       " ('17856088999076825', [38, 0, 0, 0, 205]),\n",
       " ('17865348127039629', [68, 0, 0, 0]),\n",
       " ('17865117949044238', [45, 0, 0, 0]),\n",
       " ('17854896958099289', [51, 0, 0, 0]),\n",
       " ('17867571406030559', [70, 0, 0, 0]),\n",
       " ('17844865813133010', [94, 0, 0, 0]),\n",
       " ('17856279349073959', [53, 0, 0, 0]),\n",
       " ('17854190062092273', [112, 0, 0, 0]),\n",
       " ('17844109843163291', [62, 0, 0, 0]),\n",
       " ('17844113848179220', [45, 0, 0, 0]),\n",
       " ('17855789644105822', [91, 0, 0, 0]),\n",
       " ('17859536245064709', [34, 0, 0, 1, 202]),\n",
       " ('17864849041053469', [69, 0, 0, 0]),\n",
       " ('17844440518174401', [63, 0, 0, 0]),\n",
       " ('17866295143002812', [65, 0, 0, 1]),\n",
       " ('17854666465080258', [121, 0, 0, 4]),\n",
       " ('17844749791142526', [49, 0, 0, 0]),\n",
       " ('17867620429056477', [75, 0, 0, 0]),\n",
       " ('17844663901157657', [82, 0, 0, 0]),\n",
       " ('17844664384154038', [80, 0, 0, 1]),\n",
       " ('17844729142175449', [93, 0, 0, 0]),\n",
       " ('17864862550011474', [71, 0, 0, 0]),\n",
       " ('17844778615159081', [73, 0, 0, 0]),\n",
       " ('17844877801191391', [46, 0, 0, 0]),\n",
       " ('17866850302061350', [12, 0, 0, 0]),\n",
       " ('17844929980180573', [46, 0, 0, 0]),\n",
       " ('17858037718072497', [69, 0, 0, 0]),\n",
       " ('17856194800112590', [75, 0, 0, 0]),\n",
       " ('17860277242069409', [47, 0, 0, 0]),\n",
       " ('17855333650094577', [67, 0, 0, 1]),\n",
       " ('17845717291143255', [65, 0, 0, 1]),\n",
       " ('17867703946022421', [75, 0, 0, 0]),\n",
       " ('17856950074129711', [49, 0, 0, 0]),\n",
       " ('17856499582122653', [68, 0, 0, 1]),\n",
       " ('17845542814182998', [31, 0, 0, 0]),\n",
       " ('17845606507177844', [42, 0, 0, 2]),\n",
       " ('17845673656147002', [115, 0, 0, 1]),\n",
       " ('17845737730190607', [90, 0, 0, 0]),\n",
       " ('17846105614179197', [51, 0, 0, 1]),\n",
       " ('17847373828136107', [72, 0, 0, 0]),\n",
       " ('17862915817065331', [46, 0, 0, 0]),\n",
       " ('17846521369161914', [64, 0, 0, 0]),\n",
       " ('17869147534047700', [137, 0, 0, 5]),\n",
       " ('17857113235088978', [97, 0, 0, 4]),\n",
       " ('17846791129184000', [161, 0, 0, 0]),\n",
       " ('17846901691180699', [75, 0, 0, 1]),\n",
       " ('17848785682132209', [52, 0, 0, 0]),\n",
       " ('17869557586024115', [43, 0, 0, 0]),\n",
       " ('17863880371066011', [153, 0, 0, 2]),\n",
       " ('17847373045161299', [86, 0, 0, 0]),\n",
       " ('17857914286086967', [87, 0, 0, 2]),\n",
       " ('17847736738166921', [64, 0, 0, 0]),\n",
       " ('17847678583188926', [45, 0, 0, 0]),\n",
       " ('17870785498009457', [81, 0, 0, 3]),\n",
       " ('17881431289051230', [112, 0, 0, 0]),\n",
       " ('17870478622042103', [88, 0, 0, 1]),\n",
       " ('17848406479173235', [112, 0, 0, 3]),\n",
       " ('17865312412070586', [58, 0, 0, 1]),\n",
       " ('17862655198076391', [96, 0, 0, 1]),\n",
       " ('17848554823185333', [44, 0, 0, 1]),\n",
       " ('17861037613098562', [87, 0, 0, 2]),\n",
       " ('17848915483174364', [111, 0, 0, 0]),\n",
       " ('17848910473160017', [119, 0, 0, 2]),\n",
       " ('17850960469138260', [105, 0, 0, 0]),\n",
       " ('17866166143064953', [79, 0, 0, 1]),\n",
       " ('17871749071063260', [90, 0, 0, 2]),\n",
       " ('17859919069090015', [113, 0, 0, 1]),\n",
       " ('17849772316158292', [66, 0, 0, 0]),\n",
       " ('17851613251143204', [91, 0, 0, 0]),\n",
       " ('17873019565008396', [45, 0, 0, 0]),\n",
       " ('17874398377031328', [60, 0, 0, 0, 223]),\n",
       " ('17851912159136291', [26, 0, 0, 0]),\n",
       " ('17873526208026307', [94, 0, 0, 4]),\n",
       " ('17873138128054381', [81, 0, 0, 2]),\n",
       " ('17873755780009562', [52, 0, 0, 3]),\n",
       " ('17852674477135947', [116, 0, 0, 1]),\n",
       " ('17852438230143323', [68, 0, 0, 0]),\n",
       " ('17873580556017358', [85, 0, 0, 0]),\n",
       " ('17874021079043578', [56, 0, 0, 1, 0]),\n",
       " ('17873893651008701', [69, 0, 0, 0]),\n",
       " ('17852021770145219', [54, 0, 0, 0]),\n",
       " ('17850919018189156', [67, 0, 0, 1]),\n",
       " ('17861863474087538', [74, 0, 0, 1]),\n",
       " ('17863824196097323', [123, 0, 0, 0]),\n",
       " ('17862010180095508', [129, 0, 0, 5]),\n",
       " ('17864257207099482', [66, 0, 0, 0]),\n",
       " ('17863997425119429', [186, 0, 0, 8]),\n",
       " ('17875691737041656', [112, 0, 0, 1]),\n",
       " ('17852180125161988', [229, 0, 0, 4]),\n",
       " ('17875998796051063', [61, 0, 0, 1]),\n",
       " ('17867111341072768', [155, 0, 0, 4]),\n",
       " ('17864206495120477', [101, 0, 0, 0]),\n",
       " ('17863054714090831', [115, 0, 0, 2]),\n",
       " ('17865226618112002', [148, 0, 0, 2]),\n",
       " ('17855694901138953', [95, 0, 0, 1]),\n",
       " ('17877246670055156', [122, 0, 0, 1]),\n",
       " ('17866036771111167', [84, 0, 0, 0]),\n",
       " ('17868437704078741', [90, 0, 0, 1]),\n",
       " ('17868899596078562', [124, 0, 0, 5]),\n",
       " ('17866076440117473', [62, 0, 0, 0]),\n",
       " ('17856406189133741', [56, 0, 0, 0]),\n",
       " ('17853944029179343', [40, 0, 0, 1]),\n",
       " ('17878462402028751', [75, 0, 0, 0]),\n",
       " ('17866773205118872', [77, 0, 0, 3]),\n",
       " ('17853928309180208', [48, 0, 0, 0]),\n",
       " ('17855044900154977', [87, 0, 0, 1, 0]),\n",
       " ('17854598275163515', [53, 0, 0, 0]),\n",
       " ('17867596021108062', [73, 0, 0, 2]),\n",
       " ('17873643136065245', [96, 0, 0, 2]),\n",
       " ('17865284008082747', [40, 0, 0, 0]),\n",
       " ('17854459315185987', [30, 0, 0, 1, 187]),\n",
       " ('17855871931157407', [87, 0, 0, 4]),\n",
       " ('17878739923014294', [66, 0, 0, 3]),\n",
       " ('17880343285043909', [32, 0, 0, 1]),\n",
       " ('17855027596173767', [65, 0, 0, 2]),\n",
       " ('17857983718132623', [93, 0, 0, 0]),\n",
       " ('17855619460165888', [74, 0, 0, 1]),\n",
       " ('17868495874106399', [82, 0, 0, 2]),\n",
       " ('17867730895123696', [50, 0, 0, 0, 0]),\n",
       " ('17880029461041057', [57, 0, 0, 1]),\n",
       " ('17868957364118626', [78, 0, 0, 1]),\n",
       " ('17869111015103900', [57, 0, 0, 0]),\n",
       " ('17856129430175563', [68, 0, 0, 0]),\n",
       " ('17869090261112115', [53, 0, 0, 0]),\n",
       " ('17869727656096552', [70, 0, 0, 1]),\n",
       " ('17880956455002538', [47, 0, 0, 0]),\n",
       " ('17867401426082122', [67, 0, 0, 1]),\n",
       " ('17857713274152105', [37, 0, 0, 1]),\n",
       " ('17882546323054127', [82, 0, 0, 1]),\n",
       " ('17857283149167085', [64, 0, 0, 3]),\n",
       " ('17858512411146738', [69, 0, 0, 0]),\n",
       " ('17857606912163426', [47, 0, 0, 0]),\n",
       " ('17868097762085759', [31, 0, 0, 0]),\n",
       " ('17860500976137946', [34, 0, 0, 0]),\n",
       " ('17860531543136501', [44, 0, 0, 0]),\n",
       " ('17882312944057532', [46, 0, 0, 0, 0]),\n",
       " ('17868456685082755', [38, 0, 0, 1, 0]),\n",
       " ('17860785901140517', [40, 0, 0, 2]),\n",
       " ('17871332497098825', [121, 0, 0, 2]),\n",
       " ('17883407959058365', [47, 0, 0, 0]),\n",
       " ('17859265174153459', [31, 0, 0, 0]),\n",
       " ('17874771739077891', [53, 0, 0, 0]),\n",
       " ('17875115014078703', [65, 0, 0, 0]),\n",
       " ('17870082262083964', [65, 0, 0, 1, 0]),\n",
       " ('17885114311028062', [75, 0, 0, 0]),\n",
       " ('17885828515039786', [29, 0, 0, 2, 146]),\n",
       " ('17885965519000495', [81, 0, 0, 0, 0]),\n",
       " ('17884827652044380', [53, 0, 0, 2]),\n",
       " ('17886097168029178', [59, 0, 0, 1]),\n",
       " ('17887071961044655', [58, 0, 0, 4]),\n",
       " ('17861226088179291', [51, 0, 0, 1]),\n",
       " ('17864635090142754', [30, 0, 0, 0]),\n",
       " ('17861613727165631', [79, 0, 0, 2]),\n",
       " ('17875553656129569', [53, 0, 0, 0]),\n",
       " ('17887046782013542', [54, 0, 0, 0]),\n",
       " ('17889200173034203', [48, 0, 0, 1, 0]),\n",
       " ('17873258818088038', [53, 0, 0, 0]),\n",
       " ('17875376404120852', [70, 0, 0, 0]),\n",
       " ('17888909857017728', [57, 0, 0, 1]),\n",
       " ('17877631384118162', [53, 0, 0, 0]),\n",
       " ('17877333367101068', [46, 0, 0, 1]),\n",
       " ('17864510164176632', [114, 0, 0, 4]),\n",
       " ('17884104073065983', [28, 0, 0, 0, 158]),\n",
       " ('17867313256134017', [49, 0, 0, 0]),\n",
       " ('17891221750061537', [69, 0, 0, 2]),\n",
       " ('17890256653037965', [25, 0, 0, 1]),\n",
       " ('17890380409014258', [41, 0, 0, 0]),\n",
       " ('17868297130133084', [51, 0, 0, 0]),\n",
       " ('17850726478198098', [78, 0, 0, 2]),\n",
       " ('17890615294019910', [24, 0, 0, 2]),\n",
       " ('17877086635086044', [58, 0, 0, 1]),\n",
       " ('17892982213036446', [73, 0, 0, 4]),\n",
       " ('17852038324198285', [30, 0, 0, 1, 188]),\n",
       " ('17866147702192340', [128, 0, 0, 3]),\n",
       " ('17878049488095503', [74, 0, 0, 0]),\n",
       " ('17881151149111354', [64, 0, 0, 1, 0]),\n",
       " ('17870992315131650', [66, 0, 0, 0]),\n",
       " ('17894738707031272', [100, 0, 0, 1]),\n",
       " ('17882539948113715', [79, 0, 0, 1]),\n",
       " ('17901033820044077', [49, 0, 0, 3]),\n",
       " ('17894547103029460', [37, 0, 0, 1]),\n",
       " ('17882384284102282', [53, 0, 0, 0]),\n",
       " ('17872050658141067', [74, 0, 0, 0]),\n",
       " ('17881807537127714', [64, 0, 0, 0]),\n",
       " ('17887074658072901', [46, 0, 0, 0]),\n",
       " ('17895257218019294', [59, 0, 0, 4, 0]),\n",
       " ('17882413003127222', [73, 0, 0, 2]),\n",
       " ('17871707674178819', [23, 0, 0, 0, 137]),\n",
       " ('17884556239100122', [107, 0, 0, 4]),\n",
       " ('17887918591073093', [85, 0, 0, 6]),\n",
       " ('17872452322153293', [53, 0, 0, 1, 0]),\n",
       " ('17870752588163467', [60, 0, 0, 0]),\n",
       " ('17872819516148202', [70, 0, 0, 1]),\n",
       " ('17872582786191727', [116, 0, 0, 1]),\n",
       " ('17870179315169461', [46, 0, 0, 0]),\n",
       " ('17872826122180808', [86, 0, 0, 2]),\n",
       " ('17883203809090763', [48, 0, 0, 2]),\n",
       " ('17899660273050000', [56, 0, 0, 0]),\n",
       " ('17883464701090676', [85, 0, 0, 4]),\n",
       " ('17899387762026959', [64, 0, 0, 1]),\n",
       " ('17892498154073445', [69, 0, 0, 1]),\n",
       " ('17877005215143038', [44, 0, 0, 0]),\n",
       " ('17892162316078693', [37, 0, 0, 0, 0]),\n",
       " ('17892209203076926', [178, 0, 0, 7]),\n",
       " ('17874675514182240', [75, 0, 0, 1]),\n",
       " ('17885277694084592', [45, 0, 0, 0]),\n",
       " ('17900008747010852', [43, 0, 0, 1]),\n",
       " ('17886759067089599', [65, 0, 0, 1]),\n",
       " ('17902225687056690', [99, 0, 0, 2])]"
      ]
     },
     "execution_count": 140,
     "metadata": {},
     "output_type": "execute_result"
    }
   ],
   "source": [
    "insights"
   ]
  },
  {
   "cell_type": "code",
   "execution_count": 143,
   "metadata": {},
   "outputs": [],
   "source": [
    "pd.DataFrame(insights).to_csv('insights_so_far.csv')"
   ]
  },
  {
   "cell_type": "code",
   "execution_count": null,
   "metadata": {},
   "outputs": [],
   "source": []
  },
  {
   "cell_type": "code",
   "execution_count": null,
   "metadata": {},
   "outputs": [],
   "source": []
  },
  {
   "cell_type": "code",
   "execution_count": null,
   "metadata": {},
   "outputs": [],
   "source": [
    "#Get just insights for those intermittent ones \n",
    "#CHANGE QUERY\n",
    "insights = []\n",
    "for id in ids:\n",
    "    insights_recent.append(requests.get(f'https://graph.facebook.com/v4.0/{id}?fields=caption,comments,comments_count,media_type,media_url,like_count,timestamp&access_token={user_access_token}').text)\n",
    "    time.sleep(1.25)"
   ]
  },
  {
   "cell_type": "markdown",
   "metadata": {},
   "source": [
    "# Instagram graph api"
   ]
  },
  {
   "cell_type": "code",
   "execution_count": null,
   "metadata": {},
   "outputs": [],
   "source": []
  },
  {
   "cell_type": "code",
   "execution_count": null,
   "metadata": {},
   "outputs": [],
   "source": [
    "#Get the user's pages\n",
    "#For better security these must all be derived after a new user access token is created by the person logged \n",
    "#into the fb business account\n",
    "user_pages = f'https://graph.facebook.com/v4.0/me/accounts?access_token={user_access_token}'\n",
    "response = requests.get(user_pages)\n",
    "page_id = json.loads(response.text)['data'][0]['id']\n",
    "\n",
    "#Get the page's instagram business account id\n",
    "insta_biz_account = f'https://graph.facebook.com/v4.0/{page_id}?fields=instagram_business_account&access_token={user_access_token}'\n",
    "response = requests.get(insta_biz_account)\n",
    "insta_id = json.loads(response.text)['instagram_business_account']['id']"
   ]
  },
  {
   "cell_type": "code",
   "execution_count": null,
   "metadata": {},
   "outputs": [],
   "source": [
    "#Get the Instagram Business Account's Media Objects\n",
    "media_objects = f'https://graph.facebook.com/v4.0/{insta_id}/media?access_token={user_access_token}&limit=2000'\n",
    "response = requests.get(media_objects)\n",
    "media_object_ids = [object['id'] for object in json.loads(response.text)['data']]"
   ]
  },
  {
   "cell_type": "code",
   "execution_count": null,
   "metadata": {},
   "outputs": [],
   "source": [
    "len(json.loads(response.text)['data'])"
   ]
  },
  {
   "cell_type": "code",
   "execution_count": null,
   "metadata": {},
   "outputs": [],
   "source": [
    "# media_objects = []\n",
    "# for obj_id in media_object_ids:\n",
    "#     media_objects.append(requests.get(f'https://graph.facebook.com/v4.0/{obj_id}?fields=comments,like_count,timestamp&access_token={user_access_token}').text)\n",
    "#     time.sleep(1.5)"
   ]
  },
  {
   "cell_type": "code",
   "execution_count": null,
   "metadata": {},
   "outputs": [],
   "source": []
  },
  {
   "cell_type": "code",
   "execution_count": null,
   "metadata": {},
   "outputs": [],
   "source": [
    "#Get basic data on all media objects\n",
    "media_objects_all = []\n",
    "for obj_id in media_object_ids:\n",
    "    media_objects_all.append(requests.get(f'https://graph.facebook.com/v4.0/{obj_id}?fields=caption,comments,comments_count,media_type,media_url,like_count,timestamp&access_token={user_access_token}').text)\n",
    "    time.sleep(1.25)\n",
    "    if len(media_objects_all) % 100 == 0:\n",
    "        print(len(media_objects_all))"
   ]
  },
  {
   "cell_type": "code",
   "execution_count": null,
   "metadata": {},
   "outputs": [],
   "source": [
    "len(media_objects_all)"
   ]
  },
  {
   "cell_type": "code",
   "execution_count": null,
   "metadata": {},
   "outputs": [],
   "source": [
    "#SEe for more fields: https://developers.facebook.com/docs/instagram-api/reference/media/\n",
    "\n",
    "requests.get(f'https://graph.facebook.com/v4.0/{media_object_ids[0]}?fields=caption,comments,comments_count,media_type,media_url,like_count,timestamp&access_token={user_access_token}').text\n",
    "#/?fields={fields}"
   ]
  },
  {
   "cell_type": "code",
   "execution_count": null,
   "metadata": {},
   "outputs": [],
   "source": [
    "# Write JSON file\n",
    "with io.open('media_objects.json', 'w', encoding='utf8') as outfile:\n",
    "    str_ = json.dumps(media_objects_all,\n",
    "                      indent=4, sort_keys=True,\n",
    "                      separators=(',', ': '), ensure_ascii=False)\n",
    "    outfile.write(to_unicode(str_))"
   ]
  },
  {
   "cell_type": "markdown",
   "metadata": {},
   "source": [
    "# Start here to get local data for df"
   ]
  },
  {
   "cell_type": "code",
   "execution_count": 3,
   "metadata": {},
   "outputs": [],
   "source": [
    "# Read JSON file\n",
    "with open('media_objects.json') as data_file:\n",
    "    media_objects_json = json.load(data_file)"
   ]
  },
  {
   "cell_type": "code",
   "execution_count": null,
   "metadata": {},
   "outputs": [],
   "source": [
    "media_objects_json[-1]"
   ]
  },
  {
   "cell_type": "code",
   "execution_count": null,
   "metadata": {},
   "outputs": [],
   "source": [
    "#Only one thing has no caption?\n",
    "[obj  for obj in media_objects_dicts if not 'caption' in list(obj.keys())]"
   ]
  },
  {
   "cell_type": "code",
   "execution_count": 45,
   "metadata": {},
   "outputs": [],
   "source": [
    "#Get columns of data from json to build dataframe\n",
    "media_objects_dicts = [json.loads(obj) for obj in media_objects_json]\n",
    "columns = (list(media_objects_dicts[0].keys()))\n",
    "data = {col: [obj[col] if col in list(obj.keys()) else None for obj in media_objects_dicts] for col in columns}\n",
    "\n",
    "#build pandas data frame to look at data\n",
    "df = pd.DataFrame(data)\n",
    "df.set_index(pd.to_datetime(df['timestamp']), inplace = True)\n",
    "#df['date_ordinal'] = pd.to_datetime(df['timestamp']).apply(lambda date: date.toordinal())\n",
    "df.drop(['timestamp'], axis = 1, inplace = True)\n",
    "df.sort_index(axis = 0, ascending = True, inplace = True)"
   ]
  },
  {
   "cell_type": "code",
   "execution_count": 46,
   "metadata": {},
   "outputs": [
    {
     "data": {
      "text/html": [
       "<div>\n",
       "<style scoped>\n",
       "    .dataframe tbody tr th:only-of-type {\n",
       "        vertical-align: middle;\n",
       "    }\n",
       "\n",
       "    .dataframe tbody tr th {\n",
       "        vertical-align: top;\n",
       "    }\n",
       "\n",
       "    .dataframe thead th {\n",
       "        text-align: right;\n",
       "    }\n",
       "</style>\n",
       "<table border=\"1\" class=\"dataframe\">\n",
       "  <thead>\n",
       "    <tr style=\"text-align: right;\">\n",
       "      <th></th>\n",
       "      <th>caption</th>\n",
       "      <th>comments</th>\n",
       "      <th>comments_count</th>\n",
       "      <th>media_type</th>\n",
       "      <th>media_url</th>\n",
       "      <th>like_count</th>\n",
       "      <th>id</th>\n",
       "    </tr>\n",
       "    <tr>\n",
       "      <th>timestamp</th>\n",
       "      <th></th>\n",
       "      <th></th>\n",
       "      <th></th>\n",
       "      <th></th>\n",
       "      <th></th>\n",
       "      <th></th>\n",
       "      <th></th>\n",
       "    </tr>\n",
       "  </thead>\n",
       "  <tbody>\n",
       "    <tr>\n",
       "      <th>2014-11-10 22:47:02+00:00</th>\n",
       "      <td>@CheeseGrotto on a crisp fall eve, in a Manhat...</td>\n",
       "      <td>{'data': [{'timestamp': '2014-11-11T00:20:51+0...</td>\n",
       "      <td>1</td>\n",
       "      <td>IMAGE</td>\n",
       "      <td>https://scontent.xx.fbcdn.net/v/t51.2885-15/10...</td>\n",
       "      <td>8</td>\n",
       "      <td>17841922594041130</td>\n",
       "    </tr>\n",
       "    <tr>\n",
       "      <th>2014-11-10 22:52:51+00:00</th>\n",
       "      <td>Our #cheesesafe is a beautiful, simple gift fo...</td>\n",
       "      <td>None</td>\n",
       "      <td>0</td>\n",
       "      <td>IMAGE</td>\n",
       "      <td>https://scontent.xx.fbcdn.net/v/t51.2885-15/10...</td>\n",
       "      <td>6</td>\n",
       "      <td>17841735106041130</td>\n",
       "    </tr>\n",
       "    <tr>\n",
       "      <th>2014-11-10 23:04:47+00:00</th>\n",
       "      <td>This rich bloomy rind cheese was made in a @Ch...</td>\n",
       "      <td>{'data': [{'timestamp': '2016-09-09T03:22:34+0...</td>\n",
       "      <td>2</td>\n",
       "      <td>IMAGE</td>\n",
       "      <td>https://scontent.xx.fbcdn.net/v/t51.2885-15/10...</td>\n",
       "      <td>10</td>\n",
       "      <td>17843576941041130</td>\n",
       "    </tr>\n",
       "    <tr>\n",
       "      <th>2014-11-10 23:19:00+00:00</th>\n",
       "      <td>Our #cheesesafe with an awesome leather handle...</td>\n",
       "      <td>None</td>\n",
       "      <td>0</td>\n",
       "      <td>IMAGE</td>\n",
       "      <td>https://scontent.xx.fbcdn.net/v/t51.2885-15/10...</td>\n",
       "      <td>8</td>\n",
       "      <td>17841735103041130</td>\n",
       "    </tr>\n",
       "    <tr>\n",
       "      <th>2014-11-10 23:43:33+00:00</th>\n",
       "      <td>The goats want to know.....where's the @Cheese...</td>\n",
       "      <td>None</td>\n",
       "      <td>0</td>\n",
       "      <td>IMAGE</td>\n",
       "      <td>https://scontent.xx.fbcdn.net/v/t51.2885-15/10...</td>\n",
       "      <td>1</td>\n",
       "      <td>17843576947041130</td>\n",
       "    </tr>\n",
       "  </tbody>\n",
       "</table>\n",
       "</div>"
      ],
      "text/plain": [
       "                                                                     caption  \\\n",
       "timestamp                                                                      \n",
       "2014-11-10 22:47:02+00:00  @CheeseGrotto on a crisp fall eve, in a Manhat...   \n",
       "2014-11-10 22:52:51+00:00  Our #cheesesafe is a beautiful, simple gift fo...   \n",
       "2014-11-10 23:04:47+00:00  This rich bloomy rind cheese was made in a @Ch...   \n",
       "2014-11-10 23:19:00+00:00  Our #cheesesafe with an awesome leather handle...   \n",
       "2014-11-10 23:43:33+00:00  The goats want to know.....where's the @Cheese...   \n",
       "\n",
       "                                                                    comments  \\\n",
       "timestamp                                                                      \n",
       "2014-11-10 22:47:02+00:00  {'data': [{'timestamp': '2014-11-11T00:20:51+0...   \n",
       "2014-11-10 22:52:51+00:00                                               None   \n",
       "2014-11-10 23:04:47+00:00  {'data': [{'timestamp': '2016-09-09T03:22:34+0...   \n",
       "2014-11-10 23:19:00+00:00                                               None   \n",
       "2014-11-10 23:43:33+00:00                                               None   \n",
       "\n",
       "                           comments_count media_type  \\\n",
       "timestamp                                              \n",
       "2014-11-10 22:47:02+00:00               1      IMAGE   \n",
       "2014-11-10 22:52:51+00:00               0      IMAGE   \n",
       "2014-11-10 23:04:47+00:00               2      IMAGE   \n",
       "2014-11-10 23:19:00+00:00               0      IMAGE   \n",
       "2014-11-10 23:43:33+00:00               0      IMAGE   \n",
       "\n",
       "                                                                   media_url  \\\n",
       "timestamp                                                                      \n",
       "2014-11-10 22:47:02+00:00  https://scontent.xx.fbcdn.net/v/t51.2885-15/10...   \n",
       "2014-11-10 22:52:51+00:00  https://scontent.xx.fbcdn.net/v/t51.2885-15/10...   \n",
       "2014-11-10 23:04:47+00:00  https://scontent.xx.fbcdn.net/v/t51.2885-15/10...   \n",
       "2014-11-10 23:19:00+00:00  https://scontent.xx.fbcdn.net/v/t51.2885-15/10...   \n",
       "2014-11-10 23:43:33+00:00  https://scontent.xx.fbcdn.net/v/t51.2885-15/10...   \n",
       "\n",
       "                           like_count                 id  \n",
       "timestamp                                                 \n",
       "2014-11-10 22:47:02+00:00           8  17841922594041130  \n",
       "2014-11-10 22:52:51+00:00           6  17841735106041130  \n",
       "2014-11-10 23:04:47+00:00          10  17843576941041130  \n",
       "2014-11-10 23:19:00+00:00           8  17841735103041130  \n",
       "2014-11-10 23:43:33+00:00           1  17843576947041130  "
      ]
     },
     "execution_count": 46,
     "metadata": {},
     "output_type": "execute_result"
    }
   ],
   "source": [
    "df.head()"
   ]
  },
  {
   "cell_type": "code",
   "execution_count": null,
   "metadata": {},
   "outputs": [],
   "source": [
    "fig = plt.figure(figsize = (14,8))\n",
    "plt.scatter(df.index, df['like_count'])\n",
    "plt.title('Number of likes on posts over time')"
   ]
  },
  {
   "cell_type": "code",
   "execution_count": null,
   "metadata": {},
   "outputs": [],
   "source": [
    "# fig = plt.figure(figsize = (8,6))\n",
    "# plt.scatter(df.index, df['comments_count'])\n",
    "# plt.title('Number of comments on posts over time')"
   ]
  },
  {
   "cell_type": "code",
   "execution_count": null,
   "metadata": {},
   "outputs": [],
   "source": [
    "boostio = df['6/1/2018': '5/16/2019']\n",
    "not_boostio = df.drop(boostio.index, axis = 0)"
   ]
  },
  {
   "cell_type": "code",
   "execution_count": null,
   "metadata": {},
   "outputs": [],
   "source": []
  },
  {
   "cell_type": "code",
   "execution_count": null,
   "metadata": {},
   "outputs": [],
   "source": [
    "#Drop the outliers that float higher than the rest\n",
    "not_boostio = not_boostio[not_boostio['like_count'] < 350]\n",
    "#Plot the plot\n",
    "fig = plt.figure(figsize = (14,8))\n",
    "plt.scatter(not_boostio.index, not_boostio['like_count'])\n",
    "plt.title('Number of likes on posts over time, without Boostio')"
   ]
  },
  {
   "cell_type": "code",
   "execution_count": null,
   "metadata": {},
   "outputs": [],
   "source": []
  },
  {
   "cell_type": "markdown",
   "metadata": {},
   "source": [
    "first use of boostio: august 5 2018\n",
    "\n",
    "last use of boostio: april 13. probably mid may"
   ]
  },
  {
   "cell_type": "code",
   "execution_count": null,
   "metadata": {},
   "outputs": [],
   "source": [
    "#Drop the outliers that float lower than the rest\n",
    "boostio = boostio[boostio['like_count'] > 200]\n",
    "fig = plt.figure(figsize = (12,6))\n",
    "plt.scatter(boostio.index, boostio['like_count'])\n",
    "plt.title('Number of likes on posts over time with Boostio')"
   ]
  },
  {
   "cell_type": "code",
   "execution_count": null,
   "metadata": {},
   "outputs": [],
   "source": [
    "boostio.describe()"
   ]
  },
  {
   "cell_type": "code",
   "execution_count": null,
   "metadata": {},
   "outputs": [],
   "source": [
    "not_boostio.describe()"
   ]
  },
  {
   "cell_type": "code",
   "execution_count": null,
   "metadata": {},
   "outputs": [],
   "source": [
    "#Show trend over time\n",
    "not_b_index = np.arange(not_boostio['like_count'].values.shape[0])\n",
    "fig = plt.figure(figsize = (16,8))\n",
    "sns.regplot(x = not_b_index, \n",
    "            y = not_boostio['like_count'].values,\n",
    "           scatter_kws=None, line_kws={'color':'red'})\n",
    "plt.title('Likes over time, excluding Boostio')"
   ]
  },
  {
   "cell_type": "markdown",
   "metadata": {},
   "source": [
    "# Caption feature engineering"
   ]
  },
  {
   "cell_type": "code",
   "execution_count": null,
   "metadata": {},
   "outputs": [],
   "source": [
    "# boostio = df['6/1/2018': '5/16/2019']\n",
    "# not_boostio = df.drop(boostio.index, axis = 0)"
   ]
  },
  {
   "cell_type": "code",
   "execution_count": null,
   "metadata": {},
   "outputs": [],
   "source": [
    "df.head()"
   ]
  },
  {
   "cell_type": "code",
   "execution_count": null,
   "metadata": {},
   "outputs": [],
   "source": [
    "df['10-11-2014':'10-11-2014']['caption']"
   ]
  },
  {
   "cell_type": "code",
   "execution_count": null,
   "metadata": {},
   "outputs": [],
   "source": [
    "df['11-10-2014':'11-10-2014']['caption']"
   ]
  },
  {
   "cell_type": "code",
   "execution_count": null,
   "metadata": {},
   "outputs": [],
   "source": [
    "df['11-10-2014':'11-10-2014'].index"
   ]
  },
  {
   "cell_type": "code",
   "execution_count": null,
   "metadata": {},
   "outputs": [],
   "source": [
    "df[:'2014-11-10 23:53:32']['caption'].values"
   ]
  },
  {
   "cell_type": "code",
   "execution_count": null,
   "metadata": {},
   "outputs": [],
   "source": []
  },
  {
   "cell_type": "markdown",
   "metadata": {},
   "source": [
    "# Insights on media objects"
   ]
  },
  {
   "cell_type": "code",
   "execution_count": null,
   "metadata": {},
   "outputs": [],
   "source": [
    "df['media_type'].value_counts()"
   ]
  },
  {
   "cell_type": "markdown",
   "metadata": {},
   "source": [
    "# Story insights"
   ]
  },
  {
   "cell_type": "code",
   "execution_count": null,
   "metadata": {},
   "outputs": [],
   "source": [
    "#Attempt to get stories\n",
    "stories = f'https://graph.facebook.com/v4.0/{insta_id}/stories?access_token={user_access_token}&limit=2000'\n",
    "response = requests.get(stories)\n",
    "story_ids = [obj['id'] for obj in json.loads(response.text)['data']]"
   ]
  },
  {
   "cell_type": "code",
   "execution_count": null,
   "metadata": {},
   "outputs": [],
   "source": [
    "#GEt timestamps on stories\n",
    "story_timestamps = []\n",
    "for obj_id in tqdm(story_ids):\n",
    "    story_timestamps.append(requests.get(f'https://graph.facebook.com/v4.0/{obj_id}?fields=timestamp&access_token={user_access_token}').text)\n",
    "    time.sleep(1.25)\n",
    "    if len(story_timestamps) % 100 == 0:\n",
    "        print(len(story_timestamps))"
   ]
  },
  {
   "cell_type": "code",
   "execution_count": null,
   "metadata": {},
   "outputs": [],
   "source": [
    "#Get insights on stories\n",
    "story_metrics = 'exits,impressions,reach,replies,taps_forward,taps_back'\n",
    "story_insights = []\n",
    "for obj_id in tqdm(story_ids):\n",
    "    story_insights.append(requests.get(f'https://graph.facebook.com/v4.0/{obj_id}/insights?metric={story_metrics}&access_token={user_access_token}').text)\n",
    "    time.sleep(1.25)\n",
    "    if len(story_insights) % 100 == 0:\n",
    "        print(len(story_insights))"
   ]
  },
  {
   "cell_type": "code",
   "execution_count": null,
   "metadata": {},
   "outputs": [],
   "source": [
    "story_insights_json = [json.loads(obj) for obj in story_insights]\n",
    "story_insight_fields = [story['name'] for story in story_insights_json[0]['data']]\n",
    "#Bring relevant data together into a dict of lists \n",
    "story_insight_data = {field: [story['data'][i]['values'][0]['value'] for story in story_insights_json[:-1]]   for i, field in enumerate(story_insight_fields)}\n",
    "#Add timestamp column\n",
    "story_insight_data['timestamp'] = [json.loads(stamp)['timestamp'] for stamp in story_timestamps[:-1]]\n",
    "#Description of story insight fields\n",
    "story_insight_field_descriptions = [obj['name'] + ': ' + obj['description'] for obj in story_insights_json[0]['data']]\n",
    "story_insight_field_descriptions"
   ]
  },
  {
   "cell_type": "code",
   "execution_count": null,
   "metadata": {},
   "outputs": [],
   "source": [
    "#build pandas data frame to look at data\n",
    "story_df = pd.DataFrame(story_insight_data)\n",
    "story_df.set_index(pd.to_datetime(story_df['timestamp']), inplace = True)\n",
    "story_df.drop(['timestamp'], axis = 1, inplace = True)\n",
    "story_df.sort_index(axis = 0, ascending = True, inplace = True)"
   ]
  },
  {
   "cell_type": "code",
   "execution_count": null,
   "metadata": {},
   "outputs": [],
   "source": [
    "story_df"
   ]
  },
  {
   "cell_type": "code",
   "execution_count": null,
   "metadata": {},
   "outputs": [],
   "source": [
    "story_df.to_csv('story_insights.csv')"
   ]
  },
  {
   "cell_type": "markdown",
   "metadata": {},
   "source": [
    "# Image insights"
   ]
  },
  {
   "cell_type": "code",
   "execution_count": null,
   "metadata": {},
   "outputs": [],
   "source": [
    "#Get image insights\n",
    "# image_metrics = 'engagement,impressions,reach,saved'\n",
    "# image_ids = df[df['media_type'] == 'IMAGE']['id'].values\n",
    "# image_insights = []\n",
    "# for obj_id in tqdm(image_ids):\n",
    "#     image_insights.append(requests.get(f'https://graph.facebook.com/v4.0/{obj_id}/insights?metric={image_metrics}&access_token={user_access_token}').text)\n",
    "#     time.sleep(1.25)"
   ]
  },
  {
   "cell_type": "code",
   "execution_count": null,
   "metadata": {},
   "outputs": [],
   "source": [
    "# Write JSON file\n",
    "# with io.open('image_insights.json', 'w', encoding='utf8') as outfile:\n",
    "#     str_ = json.dumps(image_insights,\n",
    "#                       indent=4, sort_keys=True,\n",
    "#                       separators=(',', ': '), ensure_ascii=False)\n",
    "#     outfile.write(to_unicode(str_))"
   ]
  },
  {
   "cell_type": "markdown",
   "metadata": {},
   "source": [
    "### Resume here to read in local file"
   ]
  },
  {
   "cell_type": "code",
   "execution_count": null,
   "metadata": {},
   "outputs": [],
   "source": [
    "# Read JSON file\n",
    "with open('image_insights.json') as data_file:\n",
    "    image_insights_json = json.load(data_file)\n",
    "    #Entries from before index 658 returned errors because the account wasn't a business account yet\n",
    "    image_insights = [json.loads(obj) for obj in image_insights_json[658:]]"
   ]
  },
  {
   "cell_type": "code",
   "execution_count": null,
   "metadata": {},
   "outputs": [],
   "source": [
    "image_insight_field_descriptions = [obj['name'] + ': ' + obj['description'] for obj in image_insights[0]['data']]\n",
    "image_insight_field_descriptions"
   ]
  },
  {
   "cell_type": "code",
   "execution_count": null,
   "metadata": {},
   "outputs": [],
   "source": [
    "image_insight_fields = [obj['name'] for obj in image_insights[0]['data']]\n",
    "#Bring relevant data together into a dict of lists \n",
    "image_insight_data = {field: [obj['data'][i]['values'][0]['value'] for obj in image_insights]\\\n",
    "                          for i, field in enumerate(image_insight_fields)}\n",
    "#Get ids for images with insights\n",
    "image_insight_ids_raw = [obj['data'][0]['id'] for obj in image_insights]\n",
    "image_insight_ids = [_id.split('/')[0] for _id in image_insight_ids_raw]\n",
    "image_insight_data['id'] = image_insight_ids\n",
    "#Get timestamps from main df to match image insights by id\n",
    "image_insight_data['timestamp'] = [df[df['id'] == _id].index.values[0] for _id in image_insight_ids]\n",
    "image_insight_data['like_count'] = [df[df['id'] == _id]['like_count'].values[0] for _id in image_insight_ids]\n",
    "#Build df\n",
    "image_insight_df = pd.DataFrame(image_insight_data)\n",
    "#Rest index to timestamp\n",
    "image_insight_df.set_index(pd.to_datetime(image_insight_df['timestamp']), inplace = True)\n",
    "image_insight_df.drop(['timestamp'], axis = 1, inplace = True)"
   ]
  },
  {
   "cell_type": "code",
   "execution_count": null,
   "metadata": {},
   "outputs": [],
   "source": [
    "image_insight_df.head()"
   ]
  },
  {
   "cell_type": "code",
   "execution_count": null,
   "metadata": {},
   "outputs": [],
   "source": [
    "image_insight_df[['like_count', 'engagement']]"
   ]
  },
  {
   "cell_type": "code",
   "execution_count": null,
   "metadata": {},
   "outputs": [],
   "source": [
    "#Write image insights df to csv for testing with spyre\n",
    "image_insight_df.to_csv('image_insights.csv')"
   ]
  },
  {
   "cell_type": "code",
   "execution_count": null,
   "metadata": {},
   "outputs": [],
   "source": [
    "fig = plt.figure(figsize = (14,8))\n",
    "plt.plot(image_insight_df.index, image_insight_df['like_count'], label = 'likes count')\n",
    "plt.plot(image_insight_df.index, image_insight_df['engagement'], label = 'engagement')\n",
    "plt.plot(image_insight_df.index, image_insight_df['saved'], label = 'saved')\n",
    "plt.axvspan('6/1/2018','5/16/2019', color ='lightgrey', label = 'Start and end of boostio')\n",
    "plt.title('Image insights: engagement and saved')\n",
    "plt.legend()\n",
    "plt.show()"
   ]
  },
  {
   "cell_type": "code",
   "execution_count": null,
   "metadata": {},
   "outputs": [],
   "source": [
    "fig = plt.figure(figsize = (14,8))\n",
    "plt.plot(image_insight_df.index, image_insight_df['like_count'], label = 'likes count')\n",
    "plt.plot(image_insight_df.index, image_insight_df['impressions'], label = 'impressions')\n",
    "plt.plot(image_insight_df.index, image_insight_df['reach'], label = 'reach')\n",
    "plt.axvspan('6/1/2018','5/16/2019', color ='lightgrey', label = 'Start and end of boostio')\n",
    "plt.legend()\n",
    "plt.title('Image insights: impressions and reach')\n",
    "plt.show()"
   ]
  },
  {
   "cell_type": "markdown",
   "metadata": {},
   "source": [
    "# Video insights"
   ]
  },
  {
   "cell_type": "code",
   "execution_count": null,
   "metadata": {},
   "outputs": [],
   "source": [
    "video_metrics = photo_metrics + 'video_views'\n",
    "video_ids = df[df['media_type'] == 'VIDEO']['id'].values"
   ]
  },
  {
   "cell_type": "code",
   "execution_count": null,
   "metadata": {},
   "outputs": [],
   "source": [
    "#Get video ids\n",
    "stories = f'https://graph.facebook.com/v4.0/{insta_id}/stories?access_token={user_access_token}&limit=2000'\n",
    "response = requests.get(stories)\n",
    "story_ids = [obj['id'] for obj in json.loads(response.text)['data']]"
   ]
  },
  {
   "cell_type": "markdown",
   "metadata": {},
   "source": [
    "# Album insights"
   ]
  },
  {
   "cell_type": "code",
   "execution_count": null,
   "metadata": {},
   "outputs": [],
   "source": [
    "album_metrics = 'carousel_album_engagement,carousel_album_impressions,carousel_album_reach,carousel_album_saved,carousel_album_video_views'\n",
    "album_ids = df[df['media_type'] == 'CAROUSEL_ALBUM']['id'].values"
   ]
  },
  {
   "cell_type": "markdown",
   "metadata": {},
   "source": [
    "# \"Lifetime\" user insights"
   ]
  },
  {
   "cell_type": "code",
   "execution_count": 46,
   "metadata": {},
   "outputs": [],
   "source": [
    "lifetime_metrics = 'audience_city,audience_country,audience_gender_age,audience_locale,online_followers,'"
   ]
  },
  {
   "cell_type": "code",
   "execution_count": null,
   "metadata": {},
   "outputs": [],
   "source": []
  },
  {
   "cell_type": "code",
   "execution_count": 47,
   "metadata": {},
   "outputs": [],
   "source": [
    "response = requests.get(f'https://graph.facebook.com/v4.0/{insta_id}/insights?metric={lifetime_metrics}&period=lifetime&{user_access_token}')"
   ]
  },
  {
   "cell_type": "code",
   "execution_count": null,
   "metadata": {},
   "outputs": [],
   "source": [
    "response.text"
   ]
  },
  {
   "cell_type": "code",
   "execution_count": 48,
   "metadata": {},
   "outputs": [],
   "source": [
    "lifetime_data = json.loads(response.text)"
   ]
  },
  {
   "cell_type": "code",
   "execution_count": 49,
   "metadata": {
    "collapsed": true
   },
   "outputs": [
    {
     "data": {
      "text/plain": [
       "[{'name': 'audience_city',\n",
       "  'period': 'lifetime',\n",
       "  'values': [{'value': {'Pittsburgh, Pennsylvania': 37,\n",
       "     'Sydney, New South Wales': 76,\n",
       "     'London, England': 107,\n",
       "     'Philadelphia, Pennsylvania': 123,\n",
       "     'São Paulo, São Paulo (state)': 37,\n",
       "     'Atlanta, Georgia': 58,\n",
       "     'Jacksonville, Florida': 30,\n",
       "     'Oakland, California': 32,\n",
       "     'Seattle, Washington': 67,\n",
       "     'Cambridge, Massachusetts': 34,\n",
       "     'Phoenix, Arizona': 50,\n",
       "     'Austin, Texas': 61,\n",
       "     'Izmir, İzmir Province': 33,\n",
       "     'Ahmedabad, Gujarat': 42,\n",
       "     'Moscow, Moscow': 36,\n",
       "     'Chicago, Illinois': 128,\n",
       "     'Jakarta, Jakarta': 73,\n",
       "     'Paris, Île-de-France': 38,\n",
       "     'Buenos Aires, Ciudad Autónoma de Buenos Aires': 40,\n",
       "     'Salt Lake City, Utah': 34,\n",
       "     'Baku, Baku': 75,\n",
       "     'Melbourne, Victoria': 102,\n",
       "     'Delhi, Delhi': 45,\n",
       "     'Los Angeles, California': 236,\n",
       "     'Las Vegas, Nevada': 56,\n",
       "     'Brisbane, Queensland': 34,\n",
       "     'Dallas, Texas': 46,\n",
       "     'Washington, Washington, District of Columbia': 48,\n",
       "     'Denver, Colorado': 57,\n",
       "     'Istanbul, Istanbul Province': 194,\n",
       "     'Orlando, Florida': 34,\n",
       "     'Toronto, Ontario': 101,\n",
       "     'Ankara, Ankara Province': 43,\n",
       "     'San Antonio, Texas': 44,\n",
       "     'Mexico City, Distrito Federal': 31,\n",
       "     'Nashville, Tennessee': 34,\n",
       "     'Houston, Texas': 61,\n",
       "     'Portland, Oregon': 73,\n",
       "     'San Francisco, California': 104,\n",
       "     'New York, New York': 790,\n",
       "     'Charlotte, North Carolina': 36,\n",
       "     'Mumbai, Maharashtra': 90,\n",
       "     'Boston, Massachusetts': 161,\n",
       "     'Miami, Florida': 68,\n",
       "     'San Diego, California': 70},\n",
       "    'end_time': '2019-11-02T07:00:00+0000'}],\n",
       "  'title': 'Audience City',\n",
       "  'description': \"The cities of this profile's followers\",\n",
       "  'id': '17841401233892528/insights/audience_city/lifetime'},\n",
       " {'name': 'audience_country',\n",
       "  'period': 'lifetime',\n",
       "  'values': [{'value': {'DE': 87,\n",
       "     'BE': 45,\n",
       "     'RU': 89,\n",
       "     'PT': 44,\n",
       "     'JP': 41,\n",
       "     'UA': 29,\n",
       "     'NZ': 30,\n",
       "     'FR': 152,\n",
       "     'SA': 38,\n",
       "     'BR': 215,\n",
       "     'SE': 26,\n",
       "     'SG': 25,\n",
       "     'MA': 40,\n",
       "     'DZ': 35,\n",
       "     'GB': 328,\n",
       "     'ID': 455,\n",
       "     'IE': 30,\n",
       "     'CA': 395,\n",
       "     'US': 7744,\n",
       "     'EG': 58,\n",
       "     'CH': 24,\n",
       "     'IN': 830,\n",
       "     'KR': 27,\n",
       "     'ZA': 40,\n",
       "     'IQ': 59,\n",
       "     'IR': 26,\n",
       "     'CL': 44,\n",
       "     'GR': 25,\n",
       "     'MX': 115,\n",
       "     'IT': 233,\n",
       "     'CO': 38,\n",
       "     'MY': 64,\n",
       "     'ES': 172,\n",
       "     'VE': 25,\n",
       "     'AR': 92,\n",
       "     'AU': 325,\n",
       "     'PE': 24,\n",
       "     'PH': 45,\n",
       "     'NG': 32,\n",
       "     'AZ': 97,\n",
       "     'PK': 48,\n",
       "     'PL': 30,\n",
       "     'RO': 34,\n",
       "     'NL': 58,\n",
       "     'TR': 623},\n",
       "    'end_time': '2019-11-02T07:00:00+0000'}],\n",
       "  'title': 'Audience Country',\n",
       "  'description': \"The countries of this profile's followers\",\n",
       "  'id': '17841401233892528/insights/audience_country/lifetime'},\n",
       " {'name': 'audience_gender_age',\n",
       "  'period': 'lifetime',\n",
       "  'values': [{'value': {'U.13-17': 1,\n",
       "     'U.55-64': 15,\n",
       "     'M.55-64': 254,\n",
       "     'U.35-44': 61,\n",
       "     'F.45-54': 1279,\n",
       "     'M.35-44': 1165,\n",
       "     'M.18-24': 1312,\n",
       "     'F.25-34': 3123,\n",
       "     'U.65+': 13,\n",
       "     'U.18-24': 11,\n",
       "     'M.25-34': 1510,\n",
       "     'U.45-54': 35,\n",
       "     'F.13-17': 115,\n",
       "     'F.65+': 261,\n",
       "     'F.55-64': 621,\n",
       "     'M.65+': 131,\n",
       "     'M.13-17': 259,\n",
       "     'F.35-44': 2151,\n",
       "     'U.25-34': 48,\n",
       "     'M.45-54': 646,\n",
       "     'F.18-24': 753},\n",
       "    'end_time': '2019-11-02T07:00:00+0000'}],\n",
       "  'title': 'Gender and Age',\n",
       "  'description': \"The gender and age distribution of this profile's followers\",\n",
       "  'id': '17841401233892528/insights/audience_gender_age/lifetime'},\n",
       " {'name': 'audience_locale',\n",
       "  'period': 'lifetime',\n",
       "  'values': [{'value': {'el_GR': 22,\n",
       "     'ru_RU': 156,\n",
       "     'it_IT': 225,\n",
       "     'pl_PL': 29,\n",
       "     'ro_RO': 29,\n",
       "     'tr_TR': 662,\n",
       "     'hi_IN': 46,\n",
       "     'id_ID': 437,\n",
       "     'mr_IN': 5,\n",
       "     'pt_BR': 224,\n",
       "     'th_TH': 8,\n",
       "     'en_PI': 6,\n",
       "     'he_IL': 9,\n",
       "     'ja_JP': 30,\n",
       "     'fr_FR': 247,\n",
       "     'cs_CZ': 8,\n",
       "     'ca_ES': 8,\n",
       "     'hu_HU': 19,\n",
       "     'de_DE': 86,\n",
       "     'nb_NO': 15,\n",
       "     'ms_MY': 22,\n",
       "     'zh_TW': 19,\n",
       "     'es_ES': 147,\n",
       "     'nl_NL': 59,\n",
       "     'es_LA': 456,\n",
       "     'fr_CA': 16,\n",
       "     'nl_BE': 5,\n",
       "     'sq_AL': 8,\n",
       "     'sv_SE': 18,\n",
       "     'da_DK': 14,\n",
       "     'fa_IR': 15,\n",
       "     'sr_RS': 6,\n",
       "     'bg_BG': 11,\n",
       "     'vi_VN': 13,\n",
       "     'az_AZ': 43,\n",
       "     'fi_FI': 7,\n",
       "     'hr_HR': 19,\n",
       "     'ar_AR': 196,\n",
       "     'en_GB': 1241,\n",
       "     'gu_IN': 11,\n",
       "     'ko_KR': 20,\n",
       "     'en_US': 9040,\n",
       "     'uk_UA': 5,\n",
       "     'zh_CN': 21,\n",
       "     'pt_PT': 39},\n",
       "    'end_time': '2019-11-02T07:00:00+0000'}],\n",
       "  'title': 'Location',\n",
       "  'description': \"The locales by country codes of this profile's followers\",\n",
       "  'id': '17841401233892528/insights/audience_locale/lifetime'},\n",
       " {'name': 'online_followers',\n",
       "  'period': 'lifetime',\n",
       "  'values': [{'value': {}, 'end_time': '2019-11-02T07:00:00+0000'}],\n",
       "  'title': 'Online Followers',\n",
       "  'description': \"Total number of this profile's followers that were online during the specified period\",\n",
       "  'id': '17841401233892528/insights/online_followers/lifetime'}]"
      ]
     },
     "execution_count": 49,
     "metadata": {},
     "output_type": "execute_result"
    }
   ],
   "source": [
    "lifetime_data['data']"
   ]
  },
  {
   "cell_type": "code",
   "execution_count": 71,
   "metadata": {},
   "outputs": [],
   "source": [
    "first_day = 1415577600\n",
    "interval = 2592000\n",
    "today = 1572652800\n",
    "yesterday = 1572566400\n",
    "halloween = 1572480000\n",
    "since = yesterday - interval\n",
    "until = yesterday"
   ]
  },
  {
   "cell_type": "code",
   "execution_count": null,
   "metadata": {},
   "outputs": [],
   "source": []
  },
  {
   "cell_type": "code",
   "execution_count": 72,
   "metadata": {},
   "outputs": [],
   "source": [
    "request = 'https://graph.facebook.com/v4.0/' + insta_id\n",
    "request += '/insights?metric=' + lifetime_metrics\n",
    "request += '&period=lifetime'\n",
    "request += '&since=' + str(halloween - interval)\n",
    "request += '&until=' + str(halloween)\n",
    "request += '&' + user_access_token"
   ]
  },
  {
   "cell_type": "code",
   "execution_count": 73,
   "metadata": {},
   "outputs": [],
   "source": [
    "response = requests.get(request)\n",
    "lifetime_data = json.loads(response.text)"
   ]
  },
  {
   "cell_type": "code",
   "execution_count": 74,
   "metadata": {},
   "outputs": [
    {
     "data": {
      "text/plain": [
       "{'error': {'message': '(#100) (audience_city) metric supports querying data only till yesterday',\n",
       "  'type': 'OAuthException',\n",
       "  'code': 100,\n",
       "  'fbtrace_id': 'A1sSYRZRSgKqQNy4VKG1EBE'}}"
      ]
     },
     "execution_count": 74,
     "metadata": {},
     "output_type": "execute_result"
    }
   ],
   "source": [
    "lifetime_data"
   ]
  },
  {
   "cell_type": "code",
   "execution_count": null,
   "metadata": {},
   "outputs": [],
   "source": []
  },
  {
   "cell_type": "code",
   "execution_count": null,
   "metadata": {},
   "outputs": [],
   "source": []
  },
  {
   "cell_type": "code",
   "execution_count": null,
   "metadata": {},
   "outputs": [],
   "source": []
  },
  {
   "cell_type": "code",
   "execution_count": null,
   "metadata": {},
   "outputs": [],
   "source": []
  },
  {
   "cell_type": "code",
   "execution_count": null,
   "metadata": {},
   "outputs": [],
   "source": [
    "# Write JSON file\n",
    "with io.open('dailies.json', 'w', encoding='utf8') as outfile:\n",
    "    str_ = json.dumps(dailies_complete,\n",
    "                      indent=4, sort_keys=True,\n",
    "                      separators=(',', ': '), ensure_ascii=False)\n",
    "    outfile.write(to_unicode(str_))"
   ]
  },
  {
   "cell_type": "code",
   "execution_count": null,
   "metadata": {},
   "outputs": [],
   "source": []
  },
  {
   "cell_type": "markdown",
   "metadata": {},
   "source": [
    "# \"Daily\" insights"
   ]
  },
  {
   "cell_type": "code",
   "execution_count": null,
   "metadata": {},
   "outputs": [],
   "source": [
    "day_metrics = 'email_contacts,follower_count,get_directions_clicks,impressions,phone_call_clicks,profile_views,reach,text_message_clicks,website_clicks'\n",
    "\n",
    "first_day = 1415577600\n",
    "interval = 2592000\n",
    "today = 1572652800\n",
    "\n",
    "dailies = []\n",
    "\n",
    "since = today - interval\n",
    "until = today\n",
    "while since >= first_day:\n",
    "    request = 'https://graph.facebook.com/' + insta_id\n",
    "    request += '/insights?metric=' + day_metrics\n",
    "    request += '&period=day&since=' + str(since)\n",
    "    request += '&until=' + str(until)\n",
    "    request += '&' + user_access_token\n",
    "    \n",
    "    response = requests.get(request)\n",
    "    \n",
    "    dailies.append(json.loads(response.text))\n",
    "    \n",
    "    until -= interval\n",
    "    since -= interval\n",
    "    \n",
    "    time.sleep(1.5)"
   ]
  },
  {
   "cell_type": "code",
   "execution_count": 3,
   "metadata": {},
   "outputs": [],
   "source": [
    "# Read JSON file\n",
    "with open('dailies.json') as data_file:\n",
    "    dailies_json = json.load(data_file)"
   ]
  },
  {
   "cell_type": "code",
   "execution_count": null,
   "metadata": {},
   "outputs": [],
   "source": [
    "#Create timestamp index\n",
    "dailies_json.reverse()\n",
    "timestamp = []\n",
    "for daily in dailies_json:\n",
    "    timestamp.extend([value['end_time'] for value in daily['data'][0]['values']])"
   ]
  },
  {
   "cell_type": "code",
   "execution_count": 30,
   "metadata": {
    "collapsed": true
   },
   "outputs": [
    {
     "data": {
      "text/plain": [
       "[None,\n",
       " None,\n",
       " None,\n",
       " None,\n",
       " None,\n",
       " None,\n",
       " None,\n",
       " None,\n",
       " None,\n",
       " None,\n",
       " None,\n",
       " None,\n",
       " None,\n",
       " None,\n",
       " None,\n",
       " None,\n",
       " None,\n",
       " None,\n",
       " None,\n",
       " None,\n",
       " None,\n",
       " None,\n",
       " None,\n",
       " None,\n",
       " None,\n",
       " None,\n",
       " None,\n",
       " None,\n",
       " None,\n",
       " None,\n",
       " None,\n",
       " None,\n",
       " None,\n",
       " None,\n",
       " None,\n",
       " None,\n",
       " None,\n",
       " None,\n",
       " None,\n",
       " None,\n",
       " None,\n",
       " None,\n",
       " None,\n",
       " None,\n",
       " None,\n",
       " None,\n",
       " None,\n",
       " None,\n",
       " None,\n",
       " None,\n",
       " None,\n",
       " None,\n",
       " None,\n",
       " None,\n",
       " None,\n",
       " None,\n",
       " None,\n",
       " None,\n",
       " None,\n",
       " None,\n",
       " None,\n",
       " None,\n",
       " None,\n",
       " None,\n",
       " None,\n",
       " None,\n",
       " None,\n",
       " None,\n",
       " None,\n",
       " None,\n",
       " None,\n",
       " None,\n",
       " None,\n",
       " None,\n",
       " None,\n",
       " None,\n",
       " None,\n",
       " None,\n",
       " None,\n",
       " None,\n",
       " None,\n",
       " None,\n",
       " None,\n",
       " None,\n",
       " None,\n",
       " None,\n",
       " None,\n",
       " None,\n",
       " None,\n",
       " None,\n",
       " None,\n",
       " None,\n",
       " None,\n",
       " None,\n",
       " None,\n",
       " None,\n",
       " None,\n",
       " None,\n",
       " None,\n",
       " None,\n",
       " None,\n",
       " None,\n",
       " None,\n",
       " None,\n",
       " None,\n",
       " None,\n",
       " None,\n",
       " None,\n",
       " None,\n",
       " None,\n",
       " None,\n",
       " None,\n",
       " None,\n",
       " None,\n",
       " None,\n",
       " None,\n",
       " None,\n",
       " None,\n",
       " None,\n",
       " None,\n",
       " None,\n",
       " None,\n",
       " None,\n",
       " None,\n",
       " None,\n",
       " None,\n",
       " None,\n",
       " None,\n",
       " None,\n",
       " None,\n",
       " None,\n",
       " None,\n",
       " None,\n",
       " None,\n",
       " None,\n",
       " None,\n",
       " None,\n",
       " None,\n",
       " None,\n",
       " None,\n",
       " None,\n",
       " None,\n",
       " None,\n",
       " None,\n",
       " None,\n",
       " None,\n",
       " None,\n",
       " None,\n",
       " None,\n",
       " None,\n",
       " None,\n",
       " None,\n",
       " None,\n",
       " None,\n",
       " None,\n",
       " None,\n",
       " None,\n",
       " None,\n",
       " None,\n",
       " None,\n",
       " None,\n",
       " None,\n",
       " None,\n",
       " None,\n",
       " None,\n",
       " None,\n",
       " None,\n",
       " None,\n",
       " None,\n",
       " None,\n",
       " None,\n",
       " None,\n",
       " None,\n",
       " None,\n",
       " None,\n",
       " None,\n",
       " None,\n",
       " None,\n",
       " None,\n",
       " None,\n",
       " None,\n",
       " None,\n",
       " None,\n",
       " None,\n",
       " None,\n",
       " None,\n",
       " None,\n",
       " None,\n",
       " None,\n",
       " None,\n",
       " None,\n",
       " None,\n",
       " None,\n",
       " None,\n",
       " None,\n",
       " None,\n",
       " None,\n",
       " None,\n",
       " None,\n",
       " None,\n",
       " None,\n",
       " None,\n",
       " None,\n",
       " None,\n",
       " None,\n",
       " None,\n",
       " None,\n",
       " None,\n",
       " None,\n",
       " None,\n",
       " None,\n",
       " None,\n",
       " None,\n",
       " None,\n",
       " None,\n",
       " None,\n",
       " None,\n",
       " None,\n",
       " None,\n",
       " None,\n",
       " None,\n",
       " None,\n",
       " None,\n",
       " None,\n",
       " None]"
      ]
     },
     "execution_count": 30,
     "metadata": {},
     "output_type": "execute_result"
    }
   ],
   "source": [
    "#Get all data to build df\n",
    "metrics = []\n",
    "for metric in dailies_json[0]['data']:\n",
    "    metrics.append(metric['name'])\n",
    "data = {metric: [] for metric in metrics}\n",
    "\n",
    "[data[metric['name']].extend([value['value'] for value in metric['values']]) for daily in dailies_json for metric in daily['data']]"
   ]
  },
  {
   "cell_type": "code",
   "execution_count": 37,
   "metadata": {},
   "outputs": [],
   "source": [
    "#build pandas data frame to look at data\n",
    "dailies_df = pd.DataFrame(data)\n",
    "dailies_df.set_index(pd.to_datetime(timestamp), inplace = True)"
   ]
  },
  {
   "cell_type": "code",
   "execution_count": 39,
   "metadata": {},
   "outputs": [],
   "source": [
    "#Write all dailies to csv to be transferred to google sheet\n",
    "dailies_df['2017-10-31 07:00:00+00:00':].to_csv(path_or_buf = 'dailies.csv')"
   ]
  }
 ],
 "metadata": {
  "kernelspec": {
   "display_name": "Python 3",
   "language": "python",
   "name": "python3"
  },
  "language_info": {
   "codemirror_mode": {
    "name": "ipython",
    "version": 3
   },
   "file_extension": ".py",
   "mimetype": "text/x-python",
   "name": "python",
   "nbconvert_exporter": "python",
   "pygments_lexer": "ipython3",
   "version": "3.6.8"
  }
 },
 "nbformat": 4,
 "nbformat_minor": 2
}
