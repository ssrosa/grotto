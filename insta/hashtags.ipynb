{
 "cells": [
  {
   "cell_type": "markdown",
   "metadata": {},
   "source": [
    "# Hashtags"
   ]
  },
  {
   "cell_type": "code",
   "execution_count": 1,
   "metadata": {},
   "outputs": [],
   "source": [
    "import numpy as np\n",
    "import pandas as pd\n",
    "import matplotlib.pyplot as plt\n",
    "import ast"
   ]
  },
  {
   "cell_type": "markdown",
   "metadata": {},
   "source": [
    "#### Notes\n",
    "\n",
    "To pull hashtags from captions was simple matter of split each caption by space and selecting strings with '#' at index 0.\n",
    "\n",
    "To add on hashtags from first comment:"
   ]
  },
  {
   "cell_type": "code",
   "execution_count": 6,
   "metadata": {},
   "outputs": [],
   "source": [
    "df = pd.read_csv('media_objects1232019.csv')\n",
    "df = df[1:]\n",
    "df.drop(['media_object_id', 'media_url'], axis = 1, inplace = True)"
   ]
  },
  {
   "cell_type": "code",
   "execution_count": 129,
   "metadata": {},
   "outputs": [
    {
     "data": {
      "text/html": [
       "<div>\n",
       "<style scoped>\n",
       "    .dataframe tbody tr th:only-of-type {\n",
       "        vertical-align: middle;\n",
       "    }\n",
       "\n",
       "    .dataframe tbody tr th {\n",
       "        vertical-align: top;\n",
       "    }\n",
       "\n",
       "    .dataframe thead th {\n",
       "        text-align: right;\n",
       "    }\n",
       "</style>\n",
       "<table border=\"1\" class=\"dataframe\">\n",
       "  <thead>\n",
       "    <tr style=\"text-align: right;\">\n",
       "      <th></th>\n",
       "      <th>timestamp</th>\n",
       "      <th>caption</th>\n",
       "      <th>comments</th>\n",
       "      <th>comments_count</th>\n",
       "      <th>media_type</th>\n",
       "      <th>like_count</th>\n",
       "      <th>engagement</th>\n",
       "      <th>impressions</th>\n",
       "      <th>reach</th>\n",
       "      <th>saved</th>\n",
       "      <th>video_views</th>\n",
       "    </tr>\n",
       "  </thead>\n",
       "  <tbody>\n",
       "    <tr>\n",
       "      <th>1</th>\n",
       "      <td>2014-11-10 22:47:02+00:00</td>\n",
       "      <td>@CheeseGrotto on a crisp fall eve, in a Manhat...</td>\n",
       "      <td>{'data': [{'timestamp': '2014-11-11T00:20:51+0...</td>\n",
       "      <td>1.0</td>\n",
       "      <td>IMAGE</td>\n",
       "      <td>8.0</td>\n",
       "      <td>NaN</td>\n",
       "      <td>NaN</td>\n",
       "      <td>NaN</td>\n",
       "      <td>NaN</td>\n",
       "      <td>NaN</td>\n",
       "    </tr>\n",
       "    <tr>\n",
       "      <th>2</th>\n",
       "      <td>2014-11-10 22:52:51+00:00</td>\n",
       "      <td>Our #cheesesafe is a beautiful, simple gift fo...</td>\n",
       "      <td>NaN</td>\n",
       "      <td>0.0</td>\n",
       "      <td>IMAGE</td>\n",
       "      <td>6.0</td>\n",
       "      <td>NaN</td>\n",
       "      <td>NaN</td>\n",
       "      <td>NaN</td>\n",
       "      <td>NaN</td>\n",
       "      <td>NaN</td>\n",
       "    </tr>\n",
       "    <tr>\n",
       "      <th>3</th>\n",
       "      <td>2014-11-10 23:04:47+00:00</td>\n",
       "      <td>This rich bloomy rind cheese was made in a @Ch...</td>\n",
       "      <td>{'data': [{'timestamp': '2016-09-09T03:22:34+0...</td>\n",
       "      <td>2.0</td>\n",
       "      <td>IMAGE</td>\n",
       "      <td>10.0</td>\n",
       "      <td>NaN</td>\n",
       "      <td>NaN</td>\n",
       "      <td>NaN</td>\n",
       "      <td>NaN</td>\n",
       "      <td>NaN</td>\n",
       "    </tr>\n",
       "    <tr>\n",
       "      <th>4</th>\n",
       "      <td>2014-11-10 23:19:00+00:00</td>\n",
       "      <td>Our #cheesesafe with an awesome leather handle...</td>\n",
       "      <td>NaN</td>\n",
       "      <td>0.0</td>\n",
       "      <td>IMAGE</td>\n",
       "      <td>8.0</td>\n",
       "      <td>NaN</td>\n",
       "      <td>NaN</td>\n",
       "      <td>NaN</td>\n",
       "      <td>NaN</td>\n",
       "      <td>NaN</td>\n",
       "    </tr>\n",
       "    <tr>\n",
       "      <th>5</th>\n",
       "      <td>2014-11-10 23:43:33+00:00</td>\n",
       "      <td>The goats want to know.....where's the @Cheese...</td>\n",
       "      <td>NaN</td>\n",
       "      <td>0.0</td>\n",
       "      <td>IMAGE</td>\n",
       "      <td>1.0</td>\n",
       "      <td>NaN</td>\n",
       "      <td>NaN</td>\n",
       "      <td>NaN</td>\n",
       "      <td>NaN</td>\n",
       "      <td>NaN</td>\n",
       "    </tr>\n",
       "  </tbody>\n",
       "</table>\n",
       "</div>"
      ],
      "text/plain": [
       "                   timestamp  \\\n",
       "1  2014-11-10 22:47:02+00:00   \n",
       "2  2014-11-10 22:52:51+00:00   \n",
       "3  2014-11-10 23:04:47+00:00   \n",
       "4  2014-11-10 23:19:00+00:00   \n",
       "5  2014-11-10 23:43:33+00:00   \n",
       "\n",
       "                                             caption  \\\n",
       "1  @CheeseGrotto on a crisp fall eve, in a Manhat...   \n",
       "2  Our #cheesesafe is a beautiful, simple gift fo...   \n",
       "3  This rich bloomy rind cheese was made in a @Ch...   \n",
       "4  Our #cheesesafe with an awesome leather handle...   \n",
       "5  The goats want to know.....where's the @Cheese...   \n",
       "\n",
       "                                            comments  comments_count  \\\n",
       "1  {'data': [{'timestamp': '2014-11-11T00:20:51+0...             1.0   \n",
       "2                                                NaN             0.0   \n",
       "3  {'data': [{'timestamp': '2016-09-09T03:22:34+0...             2.0   \n",
       "4                                                NaN             0.0   \n",
       "5                                                NaN             0.0   \n",
       "\n",
       "  media_type  like_count engagement impressions reach saved  video_views  \n",
       "1      IMAGE         8.0        NaN         NaN   NaN   NaN          NaN  \n",
       "2      IMAGE         6.0        NaN         NaN   NaN   NaN          NaN  \n",
       "3      IMAGE        10.0        NaN         NaN   NaN   NaN          NaN  \n",
       "4      IMAGE         8.0        NaN         NaN   NaN   NaN          NaN  \n",
       "5      IMAGE         1.0        NaN         NaN   NaN   NaN          NaN  "
      ]
     },
     "execution_count": 129,
     "metadata": {},
     "output_type": "execute_result"
    }
   ],
   "source": [
    "df.head()"
   ]
  },
  {
   "cell_type": "code",
   "execution_count": 7,
   "metadata": {},
   "outputs": [],
   "source": [
    "def get_ht(line):\n",
    "    return [word[1:] for word in line.split() if word[0] == '#']\n",
    "\n",
    "#Get hashtags from the caption column\n",
    "fr_cap = [get_ht(line) for line in df['caption'].astype(str).values]\n",
    "#Get hashtags from the first comment in the comments column\n",
    "fr_com = [get_ht(ast.literal_eval(line)['data'][0]['text'])\\\n",
    "                              if type(line) == str else [] for line in df['comments'].values ]\n",
    "#Extend each list in the 'from captions' list by the values in the 'from comments' list\n",
    "[fr_cap[i].extend(fr_com_i) for i, fr_com_i in enumerate(fr_com)]\n",
    "\n",
    "#Add this as a column to the df\n",
    "df['hashtags'] = fr_cap"
   ]
  },
  {
   "cell_type": "code",
   "execution_count": 68,
   "metadata": {},
   "outputs": [
    {
     "data": {
      "text/plain": [
       "94"
      ]
     },
     "execution_count": 68,
     "metadata": {},
     "output_type": "execute_result"
    }
   ],
   "source": [
    "exploded = df.explode('hashtags')\n",
    "hashtags = exploded['hashtags'].value_counts()\n",
    "#94 hashtags end in a period\n",
    "len([value for value in hashtags.index[:-1] if value[-1] == '.'])"
   ]
  },
  {
   "cell_type": "code",
   "execution_count": 75,
   "metadata": {},
   "outputs": [
    {
     "data": {
      "text/plain": [
       "29"
      ]
     },
     "execution_count": 75,
     "metadata": {},
     "output_type": "execute_result"
    }
   ],
   "source": [
    "hashtags['cheesegrotto']"
   ]
  },
  {
   "cell_type": "code",
   "execution_count": 69,
   "metadata": {},
   "outputs": [],
   "source": [
    "exploded['frequency'] = [hashtags[tag] if type(tag) == str else 0 for tag in exploded['hashtags'].values]"
   ]
  },
  {
   "cell_type": "code",
   "execution_count": 70,
   "metadata": {},
   "outputs": [
    {
     "data": {
      "text/html": [
       "<div>\n",
       "<style scoped>\n",
       "    .dataframe tbody tr th:only-of-type {\n",
       "        vertical-align: middle;\n",
       "    }\n",
       "\n",
       "    .dataframe tbody tr th {\n",
       "        vertical-align: top;\n",
       "    }\n",
       "\n",
       "    .dataframe thead th {\n",
       "        text-align: right;\n",
       "    }\n",
       "</style>\n",
       "<table border=\"1\" class=\"dataframe\">\n",
       "  <thead>\n",
       "    <tr style=\"text-align: right;\">\n",
       "      <th></th>\n",
       "      <th>timestamp</th>\n",
       "      <th>caption</th>\n",
       "      <th>comments</th>\n",
       "      <th>comments_count</th>\n",
       "      <th>media_type</th>\n",
       "      <th>like_count</th>\n",
       "      <th>engagement</th>\n",
       "      <th>impressions</th>\n",
       "      <th>reach</th>\n",
       "      <th>saved</th>\n",
       "      <th>video_views</th>\n",
       "      <th>hashtags</th>\n",
       "      <th>frequency</th>\n",
       "    </tr>\n",
       "  </thead>\n",
       "  <tbody>\n",
       "    <tr>\n",
       "      <th>1</th>\n",
       "      <td>2014-11-10 22:47:02+00:00</td>\n",
       "      <td>@CheeseGrotto on a crisp fall eve, in a Manhat...</td>\n",
       "      <td>{'data': [{'timestamp': '2014-11-11T00:20:51+0...</td>\n",
       "      <td>1.0</td>\n",
       "      <td>IMAGE</td>\n",
       "      <td>8.0</td>\n",
       "      <td>NaN</td>\n",
       "      <td>NaN</td>\n",
       "      <td>NaN</td>\n",
       "      <td>NaN</td>\n",
       "      <td>NaN</td>\n",
       "      <td>cheese</td>\n",
       "      <td>45</td>\n",
       "    </tr>\n",
       "    <tr>\n",
       "      <th>1</th>\n",
       "      <td>2014-11-10 22:47:02+00:00</td>\n",
       "      <td>@CheeseGrotto on a crisp fall eve, in a Manhat...</td>\n",
       "      <td>{'data': [{'timestamp': '2014-11-11T00:20:51+0...</td>\n",
       "      <td>1.0</td>\n",
       "      <td>IMAGE</td>\n",
       "      <td>8.0</td>\n",
       "      <td>NaN</td>\n",
       "      <td>NaN</td>\n",
       "      <td>NaN</td>\n",
       "      <td>NaN</td>\n",
       "      <td>NaN</td>\n",
       "      <td>cheesegrotto</td>\n",
       "      <td>29</td>\n",
       "    </tr>\n",
       "    <tr>\n",
       "      <th>1</th>\n",
       "      <td>2014-11-10 22:47:02+00:00</td>\n",
       "      <td>@CheeseGrotto on a crisp fall eve, in a Manhat...</td>\n",
       "      <td>{'data': [{'timestamp': '2014-11-11T00:20:51+0...</td>\n",
       "      <td>1.0</td>\n",
       "      <td>IMAGE</td>\n",
       "      <td>8.0</td>\n",
       "      <td>NaN</td>\n",
       "      <td>NaN</td>\n",
       "      <td>NaN</td>\n",
       "      <td>NaN</td>\n",
       "      <td>NaN</td>\n",
       "      <td>elegance</td>\n",
       "      <td>1</td>\n",
       "    </tr>\n",
       "    <tr>\n",
       "      <th>2</th>\n",
       "      <td>2014-11-10 22:52:51+00:00</td>\n",
       "      <td>Our #cheesesafe is a beautiful, simple gift fo...</td>\n",
       "      <td>NaN</td>\n",
       "      <td>0.0</td>\n",
       "      <td>IMAGE</td>\n",
       "      <td>6.0</td>\n",
       "      <td>NaN</td>\n",
       "      <td>NaN</td>\n",
       "      <td>NaN</td>\n",
       "      <td>NaN</td>\n",
       "      <td>NaN</td>\n",
       "      <td>cheesesafe</td>\n",
       "      <td>13</td>\n",
       "    </tr>\n",
       "    <tr>\n",
       "      <th>2</th>\n",
       "      <td>2014-11-10 22:52:51+00:00</td>\n",
       "      <td>Our #cheesesafe is a beautiful, simple gift fo...</td>\n",
       "      <td>NaN</td>\n",
       "      <td>0.0</td>\n",
       "      <td>IMAGE</td>\n",
       "      <td>6.0</td>\n",
       "      <td>NaN</td>\n",
       "      <td>NaN</td>\n",
       "      <td>NaN</td>\n",
       "      <td>NaN</td>\n",
       "      <td>NaN</td>\n",
       "      <td>cheese</td>\n",
       "      <td>45</td>\n",
       "    </tr>\n",
       "  </tbody>\n",
       "</table>\n",
       "</div>"
      ],
      "text/plain": [
       "                   timestamp  \\\n",
       "1  2014-11-10 22:47:02+00:00   \n",
       "1  2014-11-10 22:47:02+00:00   \n",
       "1  2014-11-10 22:47:02+00:00   \n",
       "2  2014-11-10 22:52:51+00:00   \n",
       "2  2014-11-10 22:52:51+00:00   \n",
       "\n",
       "                                             caption  \\\n",
       "1  @CheeseGrotto on a crisp fall eve, in a Manhat...   \n",
       "1  @CheeseGrotto on a crisp fall eve, in a Manhat...   \n",
       "1  @CheeseGrotto on a crisp fall eve, in a Manhat...   \n",
       "2  Our #cheesesafe is a beautiful, simple gift fo...   \n",
       "2  Our #cheesesafe is a beautiful, simple gift fo...   \n",
       "\n",
       "                                            comments  comments_count  \\\n",
       "1  {'data': [{'timestamp': '2014-11-11T00:20:51+0...             1.0   \n",
       "1  {'data': [{'timestamp': '2014-11-11T00:20:51+0...             1.0   \n",
       "1  {'data': [{'timestamp': '2014-11-11T00:20:51+0...             1.0   \n",
       "2                                                NaN             0.0   \n",
       "2                                                NaN             0.0   \n",
       "\n",
       "  media_type  like_count engagement impressions reach saved  video_views  \\\n",
       "1      IMAGE         8.0        NaN         NaN   NaN   NaN          NaN   \n",
       "1      IMAGE         8.0        NaN         NaN   NaN   NaN          NaN   \n",
       "1      IMAGE         8.0        NaN         NaN   NaN   NaN          NaN   \n",
       "2      IMAGE         6.0        NaN         NaN   NaN   NaN          NaN   \n",
       "2      IMAGE         6.0        NaN         NaN   NaN   NaN          NaN   \n",
       "\n",
       "       hashtags  frequency  \n",
       "1        cheese         45  \n",
       "1  cheesegrotto         29  \n",
       "1      elegance          1  \n",
       "2    cheesesafe         13  \n",
       "2        cheese         45  "
      ]
     },
     "execution_count": 70,
     "metadata": {},
     "output_type": "execute_result"
    }
   ],
   "source": [
    "exploded.head()"
   ]
  },
  {
   "cell_type": "code",
   "execution_count": 59,
   "metadata": {},
   "outputs": [],
   "source": [
    "top_20 = hashtags[:20].index"
   ]
  },
  {
   "cell_type": "markdown",
   "metadata": {},
   "source": [
    "# RESUME HERE. Can get top 20 by reordering exploded df by frequency column somehow. Would be interesting to plot this as a time series.\n",
    "\n",
    "# Then look up efficient ways to consolidate columns by hashtag. Might be a thing in the docs on .explode()."
   ]
  },
  {
   "cell_type": "code",
   "execution_count": null,
   "metadata": {},
   "outputs": [],
   "source": []
  },
  {
   "cell_type": "code",
   "execution_count": null,
   "metadata": {},
   "outputs": [],
   "source": []
  },
  {
   "cell_type": "code",
   "execution_count": null,
   "metadata": {},
   "outputs": [],
   "source": []
  },
  {
   "cell_type": "code",
   "execution_count": 20,
   "metadata": {},
   "outputs": [
    {
     "data": {
      "text/plain": [
       "(5079, 12)"
      ]
     },
     "execution_count": 20,
     "metadata": {},
     "output_type": "execute_result"
    }
   ],
   "source": [
    "ht_df.shape"
   ]
  },
  {
   "cell_type": "code",
   "execution_count": 29,
   "metadata": {},
   "outputs": [
    {
     "data": {
      "text/plain": [
       "Index(['cheeselove', 'cheeseforlife', 'linkinbio', 'fravorites', 'f52grams',\n",
       "       'thatcheeseplate', 'creativityfound', 'feedfeed', 'cheesemaking',\n",
       "       'eeeeeats',\n",
       "       ...\n",
       "       'ineedadrink', 'betterwithbacon', 'wheatfields', 'popup', 'Nice',\n",
       "       'weouthere', 'pawlet', 'beaconnewyork', 'eatseasonal', ''],\n",
       "      dtype='object', length=1296)"
      ]
     },
     "execution_count": 29,
     "metadata": {},
     "output_type": "execute_result"
    }
   ],
   "source": [
    "hashtags.index"
   ]
  },
  {
   "cell_type": "code",
   "execution_count": 51,
   "metadata": {},
   "outputs": [],
   "source": [
    "test = exploded.iloc[0]"
   ]
  },
  {
   "cell_type": "code",
   "execution_count": 48,
   "metadata": {},
   "outputs": [],
   "source": [
    "exploded.reset_index(inplace = True)"
   ]
  },
  {
   "cell_type": "code",
   "execution_count": null,
   "metadata": {},
   "outputs": [],
   "source": [
    "hashtags\n",
    "comments_count\n",
    "like_count\n",
    "engagement\n",
    "impressions\n",
    "reach\n",
    "saved\n",
    "video_views"
   ]
  },
  {
   "cell_type": "code",
   "execution_count": 50,
   "metadata": {},
   "outputs": [
    {
     "data": {
      "text/html": [
       "<div>\n",
       "<style scoped>\n",
       "    .dataframe tbody tr th:only-of-type {\n",
       "        vertical-align: middle;\n",
       "    }\n",
       "\n",
       "    .dataframe tbody tr th {\n",
       "        vertical-align: top;\n",
       "    }\n",
       "\n",
       "    .dataframe thead th {\n",
       "        text-align: right;\n",
       "    }\n",
       "</style>\n",
       "<table border=\"1\" class=\"dataframe\">\n",
       "  <thead>\n",
       "    <tr style=\"text-align: right;\">\n",
       "      <th></th>\n",
       "      <th>index</th>\n",
       "      <th>timestamp</th>\n",
       "      <th>caption</th>\n",
       "      <th>comments</th>\n",
       "      <th>comments_count</th>\n",
       "      <th>media_type</th>\n",
       "      <th>like_count</th>\n",
       "      <th>engagement</th>\n",
       "      <th>impressions</th>\n",
       "      <th>reach</th>\n",
       "      <th>saved</th>\n",
       "      <th>video_views</th>\n",
       "      <th>hashtags</th>\n",
       "    </tr>\n",
       "  </thead>\n",
       "  <tbody>\n",
       "    <tr>\n",
       "      <th>0</th>\n",
       "      <td>1</td>\n",
       "      <td>2014-11-10 22:47:02+00:00</td>\n",
       "      <td>@CheeseGrotto on a crisp fall eve, in a Manhat...</td>\n",
       "      <td>{'data': [{'timestamp': '2014-11-11T00:20:51+0...</td>\n",
       "      <td>1.0</td>\n",
       "      <td>IMAGE</td>\n",
       "      <td>8.0</td>\n",
       "      <td>NaN</td>\n",
       "      <td>NaN</td>\n",
       "      <td>NaN</td>\n",
       "      <td>NaN</td>\n",
       "      <td>NaN</td>\n",
       "      <td>cheese</td>\n",
       "    </tr>\n",
       "    <tr>\n",
       "      <th>1</th>\n",
       "      <td>1</td>\n",
       "      <td>2014-11-10 22:47:02+00:00</td>\n",
       "      <td>@CheeseGrotto on a crisp fall eve, in a Manhat...</td>\n",
       "      <td>{'data': [{'timestamp': '2014-11-11T00:20:51+0...</td>\n",
       "      <td>1.0</td>\n",
       "      <td>IMAGE</td>\n",
       "      <td>8.0</td>\n",
       "      <td>NaN</td>\n",
       "      <td>NaN</td>\n",
       "      <td>NaN</td>\n",
       "      <td>NaN</td>\n",
       "      <td>NaN</td>\n",
       "      <td>cheesegrotto</td>\n",
       "    </tr>\n",
       "    <tr>\n",
       "      <th>2</th>\n",
       "      <td>1</td>\n",
       "      <td>2014-11-10 22:47:02+00:00</td>\n",
       "      <td>@CheeseGrotto on a crisp fall eve, in a Manhat...</td>\n",
       "      <td>{'data': [{'timestamp': '2014-11-11T00:20:51+0...</td>\n",
       "      <td>1.0</td>\n",
       "      <td>IMAGE</td>\n",
       "      <td>8.0</td>\n",
       "      <td>NaN</td>\n",
       "      <td>NaN</td>\n",
       "      <td>NaN</td>\n",
       "      <td>NaN</td>\n",
       "      <td>NaN</td>\n",
       "      <td>elegance</td>\n",
       "    </tr>\n",
       "    <tr>\n",
       "      <th>3</th>\n",
       "      <td>2</td>\n",
       "      <td>2014-11-10 22:52:51+00:00</td>\n",
       "      <td>Our #cheesesafe is a beautiful, simple gift fo...</td>\n",
       "      <td>NaN</td>\n",
       "      <td>0.0</td>\n",
       "      <td>IMAGE</td>\n",
       "      <td>6.0</td>\n",
       "      <td>NaN</td>\n",
       "      <td>NaN</td>\n",
       "      <td>NaN</td>\n",
       "      <td>NaN</td>\n",
       "      <td>NaN</td>\n",
       "      <td>cheesesafe</td>\n",
       "    </tr>\n",
       "    <tr>\n",
       "      <th>4</th>\n",
       "      <td>2</td>\n",
       "      <td>2014-11-10 22:52:51+00:00</td>\n",
       "      <td>Our #cheesesafe is a beautiful, simple gift fo...</td>\n",
       "      <td>NaN</td>\n",
       "      <td>0.0</td>\n",
       "      <td>IMAGE</td>\n",
       "      <td>6.0</td>\n",
       "      <td>NaN</td>\n",
       "      <td>NaN</td>\n",
       "      <td>NaN</td>\n",
       "      <td>NaN</td>\n",
       "      <td>NaN</td>\n",
       "      <td>cheese</td>\n",
       "    </tr>\n",
       "  </tbody>\n",
       "</table>\n",
       "</div>"
      ],
      "text/plain": [
       "   index                  timestamp  \\\n",
       "0      1  2014-11-10 22:47:02+00:00   \n",
       "1      1  2014-11-10 22:47:02+00:00   \n",
       "2      1  2014-11-10 22:47:02+00:00   \n",
       "3      2  2014-11-10 22:52:51+00:00   \n",
       "4      2  2014-11-10 22:52:51+00:00   \n",
       "\n",
       "                                             caption  \\\n",
       "0  @CheeseGrotto on a crisp fall eve, in a Manhat...   \n",
       "1  @CheeseGrotto on a crisp fall eve, in a Manhat...   \n",
       "2  @CheeseGrotto on a crisp fall eve, in a Manhat...   \n",
       "3  Our #cheesesafe is a beautiful, simple gift fo...   \n",
       "4  Our #cheesesafe is a beautiful, simple gift fo...   \n",
       "\n",
       "                                            comments  comments_count  \\\n",
       "0  {'data': [{'timestamp': '2014-11-11T00:20:51+0...             1.0   \n",
       "1  {'data': [{'timestamp': '2014-11-11T00:20:51+0...             1.0   \n",
       "2  {'data': [{'timestamp': '2014-11-11T00:20:51+0...             1.0   \n",
       "3                                                NaN             0.0   \n",
       "4                                                NaN             0.0   \n",
       "\n",
       "  media_type  like_count engagement impressions reach saved  video_views  \\\n",
       "0      IMAGE         8.0        NaN         NaN   NaN   NaN          NaN   \n",
       "1      IMAGE         8.0        NaN         NaN   NaN   NaN          NaN   \n",
       "2      IMAGE         8.0        NaN         NaN   NaN   NaN          NaN   \n",
       "3      IMAGE         6.0        NaN         NaN   NaN   NaN          NaN   \n",
       "4      IMAGE         6.0        NaN         NaN   NaN   NaN          NaN   \n",
       "\n",
       "       hashtags  \n",
       "0        cheese  \n",
       "1  cheesegrotto  \n",
       "2      elegance  \n",
       "3    cheesesafe  \n",
       "4        cheese  "
      ]
     },
     "execution_count": 50,
     "metadata": {},
     "output_type": "execute_result"
    }
   ],
   "source": [
    "exploded.head()"
   ]
  },
  {
   "cell_type": "code",
   "execution_count": null,
   "metadata": {},
   "outputs": [],
   "source": []
  },
  {
   "cell_type": "code",
   "execution_count": null,
   "metadata": {},
   "outputs": [],
   "source": []
  },
  {
   "cell_type": "code",
   "execution_count": null,
   "metadata": {},
   "outputs": [],
   "source": []
  },
  {
   "cell_type": "code",
   "execution_count": null,
   "metadata": {},
   "outputs": [],
   "source": []
  }
 ],
 "metadata": {
  "kernelspec": {
   "display_name": "Python 3",
   "language": "python",
   "name": "python3"
  },
  "language_info": {
   "codemirror_mode": {
    "name": "ipython",
    "version": 3
   },
   "file_extension": ".py",
   "mimetype": "text/x-python",
   "name": "python",
   "nbconvert_exporter": "python",
   "pygments_lexer": "ipython3",
   "version": "3.6.8"
  }
 },
 "nbformat": 4,
 "nbformat_minor": 2
}
