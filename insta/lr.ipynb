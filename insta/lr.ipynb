{
 "cells": [
  {
   "cell_type": "markdown",
   "metadata": {},
   "source": [
    "# Generic linear regression model"
   ]
  },
  {
   "cell_type": "code",
   "execution_count": 3,
   "metadata": {},
   "outputs": [],
   "source": [
    "import numpy as np\n",
    "import pandas as pd\n",
    "import requests\n",
    "import time\n",
    "import matplotlib.pyplot as plt\n",
    "import seaborn as sns\n",
    "from pandasql import sqldf #for manipulating DataFrames with SQL style queries\n",
    "import ast #for literally evaluating strings taht were jsons"
   ]
  },
  {
   "cell_type": "code",
   "execution_count": 14,
   "metadata": {},
   "outputs": [],
   "source": []
  },
  {
   "cell_type": "code",
   "execution_count": 10,
   "metadata": {},
   "outputs": [],
   "source": [
    "df = pd.read_csv('media_objects.csv')\n",
    "df.drop([0], axis = 0, inplace = True) #Drop column descriptors\n",
    "#Drop unnecessary columns\n",
    "df.drop(['media_object_id','timestamp', 'media_url'], axis = 1, inplace = True)"
   ]
  },
  {
   "cell_type": "code",
   "execution_count": 8,
   "metadata": {},
   "outputs": [],
   "source": [
    "#RESET INDEX LATER"
   ]
  },
  {
   "cell_type": "code",
   "execution_count": 11,
   "metadata": {},
   "outputs": [
    {
     "data": {
      "text/html": [
       "<div>\n",
       "<style scoped>\n",
       "    .dataframe tbody tr th:only-of-type {\n",
       "        vertical-align: middle;\n",
       "    }\n",
       "\n",
       "    .dataframe tbody tr th {\n",
       "        vertical-align: top;\n",
       "    }\n",
       "\n",
       "    .dataframe thead th {\n",
       "        text-align: right;\n",
       "    }\n",
       "</style>\n",
       "<table border=\"1\" class=\"dataframe\">\n",
       "  <thead>\n",
       "    <tr style=\"text-align: right;\">\n",
       "      <th></th>\n",
       "      <th>caption</th>\n",
       "      <th>comments</th>\n",
       "      <th>comments_count</th>\n",
       "      <th>media_type</th>\n",
       "      <th>like_count</th>\n",
       "      <th>engagement</th>\n",
       "      <th>impressions</th>\n",
       "      <th>reach</th>\n",
       "      <th>saved</th>\n",
       "      <th>video_views</th>\n",
       "    </tr>\n",
       "  </thead>\n",
       "  <tbody>\n",
       "    <tr>\n",
       "      <th>1</th>\n",
       "      <td>@CheeseGrotto on a crisp fall eve, in a Manhat...</td>\n",
       "      <td>{'data': [{'timestamp': '2014-11-11T00:20:51+0...</td>\n",
       "      <td>1.0</td>\n",
       "      <td>IMAGE</td>\n",
       "      <td>8.0</td>\n",
       "      <td>NaN</td>\n",
       "      <td>NaN</td>\n",
       "      <td>NaN</td>\n",
       "      <td>NaN</td>\n",
       "      <td>NaN</td>\n",
       "    </tr>\n",
       "    <tr>\n",
       "      <th>2</th>\n",
       "      <td>Our #cheesesafe is a beautiful, simple gift fo...</td>\n",
       "      <td>NaN</td>\n",
       "      <td>0.0</td>\n",
       "      <td>IMAGE</td>\n",
       "      <td>6.0</td>\n",
       "      <td>NaN</td>\n",
       "      <td>NaN</td>\n",
       "      <td>NaN</td>\n",
       "      <td>NaN</td>\n",
       "      <td>NaN</td>\n",
       "    </tr>\n",
       "    <tr>\n",
       "      <th>3</th>\n",
       "      <td>This rich bloomy rind cheese was made in a @Ch...</td>\n",
       "      <td>{'data': [{'timestamp': '2016-09-09T03:22:34+0...</td>\n",
       "      <td>2.0</td>\n",
       "      <td>IMAGE</td>\n",
       "      <td>10.0</td>\n",
       "      <td>NaN</td>\n",
       "      <td>NaN</td>\n",
       "      <td>NaN</td>\n",
       "      <td>NaN</td>\n",
       "      <td>NaN</td>\n",
       "    </tr>\n",
       "    <tr>\n",
       "      <th>4</th>\n",
       "      <td>Our #cheesesafe with an awesome leather handle...</td>\n",
       "      <td>NaN</td>\n",
       "      <td>0.0</td>\n",
       "      <td>IMAGE</td>\n",
       "      <td>8.0</td>\n",
       "      <td>NaN</td>\n",
       "      <td>NaN</td>\n",
       "      <td>NaN</td>\n",
       "      <td>NaN</td>\n",
       "      <td>NaN</td>\n",
       "    </tr>\n",
       "    <tr>\n",
       "      <th>5</th>\n",
       "      <td>The goats want to know.....where's the @Cheese...</td>\n",
       "      <td>NaN</td>\n",
       "      <td>0.0</td>\n",
       "      <td>IMAGE</td>\n",
       "      <td>1.0</td>\n",
       "      <td>NaN</td>\n",
       "      <td>NaN</td>\n",
       "      <td>NaN</td>\n",
       "      <td>NaN</td>\n",
       "      <td>NaN</td>\n",
       "    </tr>\n",
       "  </tbody>\n",
       "</table>\n",
       "</div>"
      ],
      "text/plain": [
       "                                             caption  \\\n",
       "1  @CheeseGrotto on a crisp fall eve, in a Manhat...   \n",
       "2  Our #cheesesafe is a beautiful, simple gift fo...   \n",
       "3  This rich bloomy rind cheese was made in a @Ch...   \n",
       "4  Our #cheesesafe with an awesome leather handle...   \n",
       "5  The goats want to know.....where's the @Cheese...   \n",
       "\n",
       "                                            comments  comments_count  \\\n",
       "1  {'data': [{'timestamp': '2014-11-11T00:20:51+0...             1.0   \n",
       "2                                                NaN             0.0   \n",
       "3  {'data': [{'timestamp': '2016-09-09T03:22:34+0...             2.0   \n",
       "4                                                NaN             0.0   \n",
       "5                                                NaN             0.0   \n",
       "\n",
       "  media_type  like_count engagement impressions reach saved  video_views  \n",
       "1      IMAGE         8.0        NaN         NaN   NaN   NaN          NaN  \n",
       "2      IMAGE         6.0        NaN         NaN   NaN   NaN          NaN  \n",
       "3      IMAGE        10.0        NaN         NaN   NaN   NaN          NaN  \n",
       "4      IMAGE         8.0        NaN         NaN   NaN   NaN          NaN  \n",
       "5      IMAGE         1.0        NaN         NaN   NaN   NaN          NaN  "
      ]
     },
     "execution_count": 11,
     "metadata": {},
     "output_type": "execute_result"
    }
   ],
   "source": [
    "df.head()"
   ]
  },
  {
   "cell_type": "markdown",
   "metadata": {},
   "source": [
    "### Engineering features"
   ]
  },
  {
   "cell_type": "code",
   "execution_count": 6,
   "metadata": {},
   "outputs": [],
   "source": [
    "#Get count of hashtags\n",
    "def get_ht(line):\n",
    "    return sum([1 for word in line.split() if word[0] == '#'])\n",
    "\n",
    "#Get hashtags from the caption column\n",
    "fr_cap = [get_ht(line) for line in df['caption'].astype(str).values]\n",
    "\n",
    "#Get hashtags from the first comment in the comments column\n",
    "#Comments are in reverse chronological order\n",
    "\n",
    "#Does not include hashtags by commenter:\n",
    "#fr_com = [get_ht(ast.literal_eval(line)['data'][-1]['text'])\\\n",
    "#                              if type(line) == str else 0 for line in df['comments'].values ]\n",
    "\n",
    "#This includes hashtags by followers. Presumption is that most are by poster\n",
    "fr_com = [sum([get_ht(comment['text']) for comment in ast.literal_eval(line)['data']])\\\n",
    "                              if type(line) == str else 0 for line in df['comments'].values ]\n",
    "\n",
    "df['hashtag_count'] = np.array(fr_cap) + np.array(fr_com)"
   ]
  },
  {
   "cell_type": "code",
   "execution_count": null,
   "metadata": {},
   "outputs": [],
   "source": [
    "#Get yes/no for starting emoji"
   ]
  },
  {
   "cell_type": "code",
   "execution_count": 84,
   "metadata": {},
   "outputs": [],
   "source": [
    "test_text = df['caption'].values[-3]"
   ]
  },
  {
   "cell_type": "code",
   "execution_count": 86,
   "metadata": {},
   "outputs": [
    {
     "data": {
      "text/plain": [
       "'🍓'"
      ]
     },
     "execution_count": 86,
     "metadata": {},
     "output_type": "execute_result"
    }
   ],
   "source": [
    "test_text[0]"
   ]
  },
  {
   "cell_type": "code",
   "execution_count": 80,
   "metadata": {},
   "outputs": [
    {
     "data": {
      "text/plain": [
       "array(['@CheeseGrotto on a crisp fall eve, in a Manhattan garden. #cheese #cheesegrotto #elegance  http://kck.st/1qnfB7U',\n",
       "       'Our #cheesesafe is a beautiful, simple gift for that rustic #cheese lover we all know. @cheesegrotto @kickstarter http://kck.st/1qnfB7U',\n",
       "       \"This rich bloomy rind cheese was made in a @CheeseGrotto. It's raw cow's milk. I call it, The Lowing. #cheesegrotto #cheese #rawmilkcheese\",\n",
       "       ...,\n",
       "       '🍓 It. me. Cheese, chocolate-covered strawberries, and sparkling wine to ring in the New Year.\\u2063\\n🍾 How are you celebrating?',\n",
       "       'Fresh year. Fresh perspective. Fresh cheese. 👋 Try your hand at fresh cheesemaking in 2020, link in bio.',\n",
       "       '🌶 This is grilled cheese weather.\\n.\\n.\\n.\\n.\\n.\\n.\\n.\\n.\\n.\\n☝️Browse our Cooking with Cheese section of the blog for melty grilled cheese wonders like this @gruyere_aop cheese, roasted pepper, kale, and @brinsjam chili pepper jam sandwich. You know where the link is...'],\n",
       "      dtype=object)"
      ]
     },
     "execution_count": 80,
     "metadata": {},
     "output_type": "execute_result"
    }
   ],
   "source": [
    "df['caption'].values"
   ]
  },
  {
   "cell_type": "code",
   "execution_count": null,
   "metadata": {},
   "outputs": [],
   "source": [
    "\n",
    "\n",
    "#Extend each list in the 'from captions' list by the values in the 'from comments' list\n",
    "[fr_cap[i].extend(fr_com_i) for i, fr_com_i in enumerate(fr_com)]\n",
    "\n",
    "#Add this as a column to the df\n",
    "df['hashtags'] = fr_cap"
   ]
  },
  {
   "cell_type": "code",
   "execution_count": null,
   "metadata": {},
   "outputs": [],
   "source": []
  },
  {
   "cell_type": "code",
   "execution_count": null,
   "metadata": {},
   "outputs": [],
   "source": [
    "## FROM STORY STORY\n",
    "\n",
    "\n",
    "#Index the df with datetimes\n",
    "df.set_index(pd.to_datetime(df['timestamp']), inplace = True)\n",
    "#Reset time zone to US Eastern time\n",
    "df.index = df.index.tz_convert('US/Eastern')\n",
    "\n",
    "#Change remaining columns to int type\n",
    "df = df.astype(int)"
   ]
  },
  {
   "cell_type": "code",
   "execution_count": null,
   "metadata": {},
   "outputs": [],
   "source": [
    "## FROM HASHTAGS HASHTAGS\n",
    "\n",
    "def get_ht(line):\n",
    "    return [word[1:] for word in line.split() if word[0] == '#']\n",
    "\n",
    "#Get hashtags from the caption column\n",
    "fr_cap = [get_ht(line) for line in df['caption'].astype(str).values]\n",
    "#Get hashtags from the first comment in the comments column\n",
    "fr_com = [get_ht(ast.literal_eval(line)['data'][0]['text'])\\\n",
    "                              if type(line) == str else [] for line in df['comments'].values ]\n",
    "#Extend each list in the 'from captions' list by the values in the 'from comments' list\n",
    "[fr_cap[i].extend(fr_com_i) for i, fr_com_i in enumerate(fr_com)]\n",
    "\n",
    "#Add this as a column to the df\n",
    "df['hashtags'] = fr_cap"
   ]
  },
  {
   "cell_type": "code",
   "execution_count": null,
   "metadata": {},
   "outputs": [],
   "source": []
  }
 ],
 "metadata": {
  "kernelspec": {
   "display_name": "Python 3",
   "language": "python",
   "name": "python3"
  },
  "language_info": {
   "codemirror_mode": {
    "name": "ipython",
    "version": 3
   },
   "file_extension": ".py",
   "mimetype": "text/x-python",
   "name": "python",
   "nbconvert_exporter": "python",
   "pygments_lexer": "ipython3",
   "version": "3.7.2"
  }
 },
 "nbformat": 4,
 "nbformat_minor": 2
}
