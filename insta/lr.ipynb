{
 "cells": [
  {
   "cell_type": "markdown",
   "metadata": {},
   "source": [
    "# Generic linear regression model"
   ]
  },
  {
   "cell_type": "code",
   "execution_count": 1,
   "metadata": {},
   "outputs": [],
   "source": [
    "import numpy as np\n",
    "import pandas as pd\n",
    "import requests\n",
    "import time\n",
    "import matplotlib.pyplot as plt\n",
    "import seaborn as sns\n",
    "from pandasql import sqldf #for manipulating DataFrames with SQL style queries\n",
    "import ast #for literally evaluating strings taht were jsons\n",
    "\n",
    "#For hypothesis testing:\n",
    "from scipy import stats #To find t and p values with ttests"
   ]
  },
  {
   "cell_type": "code",
   "execution_count": 14,
   "metadata": {},
   "outputs": [],
   "source": []
  },
  {
   "cell_type": "code",
   "execution_count": 2,
   "metadata": {},
   "outputs": [],
   "source": [
    "df = pd.read_csv('media_objects.csv')\n",
    "df.drop([0], axis = 0, inplace = True) #Drop column descriptors\n",
    "df.reset_index(inplace = True)\n",
    "#Drop unnecessary columns\n",
    "df.drop(['index', 'media_object_id','timestamp', 'media_url'], axis = 1, inplace = True)\n",
    "#Correct data type of captions column from which to engineer features\n",
    "df['caption'] = df['caption'].astype(str)\n",
    "#Correct data type of 'object' columns and fill NaNs with 0\n",
    "to_int = ['engagement', 'impressions', 'reach', 'saved', 'video_views']\n",
    "df[to_int] = df[to_int].fillna(0).astype(int)"
   ]
  },
  {
   "cell_type": "code",
   "execution_count": 24,
   "metadata": {},
   "outputs": [
    {
     "data": {
      "text/html": [
       "<div>\n",
       "<style scoped>\n",
       "    .dataframe tbody tr th:only-of-type {\n",
       "        vertical-align: middle;\n",
       "    }\n",
       "\n",
       "    .dataframe tbody tr th {\n",
       "        vertical-align: top;\n",
       "    }\n",
       "\n",
       "    .dataframe thead th {\n",
       "        text-align: right;\n",
       "    }\n",
       "</style>\n",
       "<table border=\"1\" class=\"dataframe\">\n",
       "  <thead>\n",
       "    <tr style=\"text-align: right;\">\n",
       "      <th></th>\n",
       "      <th>caption</th>\n",
       "      <th>comments</th>\n",
       "      <th>comments_count</th>\n",
       "      <th>media_type</th>\n",
       "      <th>like_count</th>\n",
       "      <th>engagement</th>\n",
       "      <th>impressions</th>\n",
       "      <th>reach</th>\n",
       "      <th>saved</th>\n",
       "      <th>video_views</th>\n",
       "    </tr>\n",
       "  </thead>\n",
       "  <tbody>\n",
       "    <tr>\n",
       "      <th>0</th>\n",
       "      <td>@CheeseGrotto on a crisp fall eve, in a Manhat...</td>\n",
       "      <td>{'data': [{'timestamp': '2014-11-11T00:20:51+0...</td>\n",
       "      <td>1.0</td>\n",
       "      <td>IMAGE</td>\n",
       "      <td>8.0</td>\n",
       "      <td>0</td>\n",
       "      <td>0</td>\n",
       "      <td>0</td>\n",
       "      <td>0</td>\n",
       "      <td>0</td>\n",
       "    </tr>\n",
       "    <tr>\n",
       "      <th>1</th>\n",
       "      <td>Our #cheesesafe is a beautiful, simple gift fo...</td>\n",
       "      <td>NaN</td>\n",
       "      <td>0.0</td>\n",
       "      <td>IMAGE</td>\n",
       "      <td>6.0</td>\n",
       "      <td>0</td>\n",
       "      <td>0</td>\n",
       "      <td>0</td>\n",
       "      <td>0</td>\n",
       "      <td>0</td>\n",
       "    </tr>\n",
       "    <tr>\n",
       "      <th>2</th>\n",
       "      <td>This rich bloomy rind cheese was made in a @Ch...</td>\n",
       "      <td>{'data': [{'timestamp': '2016-09-09T03:22:34+0...</td>\n",
       "      <td>2.0</td>\n",
       "      <td>IMAGE</td>\n",
       "      <td>10.0</td>\n",
       "      <td>0</td>\n",
       "      <td>0</td>\n",
       "      <td>0</td>\n",
       "      <td>0</td>\n",
       "      <td>0</td>\n",
       "    </tr>\n",
       "    <tr>\n",
       "      <th>3</th>\n",
       "      <td>Our #cheesesafe with an awesome leather handle...</td>\n",
       "      <td>NaN</td>\n",
       "      <td>0.0</td>\n",
       "      <td>IMAGE</td>\n",
       "      <td>8.0</td>\n",
       "      <td>0</td>\n",
       "      <td>0</td>\n",
       "      <td>0</td>\n",
       "      <td>0</td>\n",
       "      <td>0</td>\n",
       "    </tr>\n",
       "    <tr>\n",
       "      <th>4</th>\n",
       "      <td>The goats want to know.....where's the @Cheese...</td>\n",
       "      <td>NaN</td>\n",
       "      <td>0.0</td>\n",
       "      <td>IMAGE</td>\n",
       "      <td>1.0</td>\n",
       "      <td>0</td>\n",
       "      <td>0</td>\n",
       "      <td>0</td>\n",
       "      <td>0</td>\n",
       "      <td>0</td>\n",
       "    </tr>\n",
       "  </tbody>\n",
       "</table>\n",
       "</div>"
      ],
      "text/plain": [
       "                                             caption  \\\n",
       "0  @CheeseGrotto on a crisp fall eve, in a Manhat...   \n",
       "1  Our #cheesesafe is a beautiful, simple gift fo...   \n",
       "2  This rich bloomy rind cheese was made in a @Ch...   \n",
       "3  Our #cheesesafe with an awesome leather handle...   \n",
       "4  The goats want to know.....where's the @Cheese...   \n",
       "\n",
       "                                            comments  comments_count  \\\n",
       "0  {'data': [{'timestamp': '2014-11-11T00:20:51+0...             1.0   \n",
       "1                                                NaN             0.0   \n",
       "2  {'data': [{'timestamp': '2016-09-09T03:22:34+0...             2.0   \n",
       "3                                                NaN             0.0   \n",
       "4                                                NaN             0.0   \n",
       "\n",
       "  media_type  like_count  engagement  impressions  reach  saved  video_views  \n",
       "0      IMAGE         8.0           0            0      0      0            0  \n",
       "1      IMAGE         6.0           0            0      0      0            0  \n",
       "2      IMAGE        10.0           0            0      0      0            0  \n",
       "3      IMAGE         8.0           0            0      0      0            0  \n",
       "4      IMAGE         1.0           0            0      0      0            0  "
      ]
     },
     "execution_count": 24,
     "metadata": {},
     "output_type": "execute_result"
    }
   ],
   "source": [
    "df.head()"
   ]
  },
  {
   "cell_type": "markdown",
   "metadata": {},
   "source": [
    "## Engineering features\n",
    "### Hashtag  count:"
   ]
  },
  {
   "cell_type": "code",
   "execution_count": 3,
   "metadata": {},
   "outputs": [],
   "source": [
    "#Get count of hashtags\n",
    "def get_ht(line):\n",
    "    return sum([1 for word in line.split() if word[0] == '#'])\n",
    "\n",
    "#Get hashtags from the caption column\n",
    "fr_cap = [get_ht(line) for line in df['caption'].astype(str).values]\n",
    "\n",
    "#Get hashtags from the first comment in the comments column\n",
    "#Comments are in reverse chronological order\n",
    "\n",
    "#Does not include hashtags by commenter:\n",
    "#fr_com = [get_ht(ast.literal_eval(line)['data'][-1]['text'])\\\n",
    "#                              if type(line) == str else 0 for line in df['comments'].values ]\n",
    "\n",
    "#This includes hashtags by followers. Presumption is that most are by poster\n",
    "fr_com = [max([get_ht(comment['text']) for comment in ast.literal_eval(line)['data']])\\\n",
    "                              if type(line) == str else 0 for line in df['comments'].values ]\n",
    "\n",
    "#Engineer new column for count of hashtags\n",
    "df['hashtag_count'] = np.array(fr_cap) + np.array(fr_com)"
   ]
  },
  {
   "cell_type": "markdown",
   "metadata": {},
   "source": [
    "### Caption starts with emoji yes/no"
   ]
  },
  {
   "cell_type": "code",
   "execution_count": 4,
   "metadata": {},
   "outputs": [],
   "source": [
    "def is_emoji(char):\n",
    "    #These are the first characters of most emoji\n",
    "    encodings = ['b\\'\\\\xf0', 'b\\'\\\\xe2']\n",
    "    #If the begining of this string matches those we know are emoji\n",
    "    if str(char.encode(encoding = 'UTF-8'))[:6] in encodings:\n",
    "        return True\n",
    "    else:\n",
    "        return False\n",
    "    \n",
    "df['begins_with_emoji'] = [True if is_emoji(first_char) else False for first_char in df['caption'].str[0]]"
   ]
  },
  {
   "cell_type": "markdown",
   "metadata": {},
   "source": [
    "### Caption contains question yes/no"
   ]
  },
  {
   "cell_type": "code",
   "execution_count": 5,
   "metadata": {},
   "outputs": [],
   "source": [
    "df['has_q'] = df['caption'].str.contains('?', regex = False)"
   ]
  },
  {
   "cell_type": "markdown",
   "metadata": {},
   "source": [
    "### Caption character count and word count"
   ]
  },
  {
   "cell_type": "code",
   "execution_count": 6,
   "metadata": {},
   "outputs": [],
   "source": [
    "#Drop hashtags/usernames from the end of each caption before counting up its characters\n",
    "def cut_tags(line):\n",
    "    words = line.split()\n",
    "    #While list of words isn't empty\n",
    "    while len(words) > 0:\n",
    "        #If first character of last word is hashtag or username\n",
    "        if words[-1][0] in ['#', '@']:\n",
    "            #then drop this word from the list\n",
    "            words.pop()\n",
    "        #Otherwise break\n",
    "        else:\n",
    "            break\n",
    "    #If this list of words is not empty now,    \n",
    "    if len(words) != 0:\n",
    "        #then return it as a trimmed string\n",
    "        return ' '.join(map(str, words))\n",
    "    #Else if the whole caption was just some hashtags, \n",
    "    else:\n",
    "        #then return that caption as it was \n",
    "        return line\n",
    "\n",
    "df['char_count'] = [len(cut_tags(caption)) for caption in df['caption'].values]\n",
    "\n",
    "df['word_count'] = [len(cut_tags(caption).split()) for caption in df['caption'].values]"
   ]
  },
  {
   "cell_type": "markdown",
   "metadata": {},
   "source": [
    "## Looking for correlations"
   ]
  },
  {
   "cell_type": "code",
   "execution_count": 7,
   "metadata": {},
   "outputs": [
    {
     "data": {
      "text/plain": [
       "Index(['caption', 'comments', 'comments_count', 'media_type', 'like_count',\n",
       "       'engagement', 'impressions', 'reach', 'saved', 'video_views',\n",
       "       'hashtag_count', 'begins_with_emoji', 'has_q', 'char_count'],\n",
       "      dtype='object')"
      ]
     },
     "execution_count": 7,
     "metadata": {},
     "output_type": "execute_result"
    }
   ],
   "source": [
    "df.columns"
   ]
  },
  {
   "cell_type": "code",
   "execution_count": 39,
   "metadata": {},
   "outputs": [],
   "source": [
    "features = ['hashtag_count', 'begins_with_emoji', 'has_q', 'char_count', 'word_count']\n",
    "targets = ['comments_count', 'like_count', 'engagement', 'impressions', 'reach', 'saved', 'video_views']\n",
    "feature_df = df[features]\n",
    "target_df = df[targets]"
   ]
  },
  {
   "cell_type": "code",
   "execution_count": 11,
   "metadata": {},
   "outputs": [],
   "source": [
    "#pd.concat([feature_df, target_df], axis = 1)"
   ]
  },
  {
   "cell_type": "markdown",
   "metadata": {},
   "source": [
    "### Correlations with impressions as a target"
   ]
  },
  {
   "cell_type": "code",
   "execution_count": null,
   "metadata": {},
   "outputs": [],
   "source": [
    "impres = df[df['impressions'] != 0]"
   ]
  },
  {
   "cell_type": "code",
   "execution_count": 53,
   "metadata": {},
   "outputs": [
    {
     "data": {
      "text/plain": [
       "1926.2944785276075"
      ]
     },
     "execution_count": 53,
     "metadata": {},
     "output_type": "execute_result"
    }
   ],
   "source": []
  },
  {
   "cell_type": "code",
   "execution_count": 55,
   "metadata": {},
   "outputs": [
    {
     "data": {
      "text/plain": [
       "1561.2299651567944"
      ]
     },
     "execution_count": 55,
     "metadata": {},
     "output_type": "execute_result"
    }
   ],
   "source": [
    "impres['impressions'][(impres['begins_with_emoji'] == False)].mean()"
   ]
  },
  {
   "cell_type": "code",
   "execution_count": 49,
   "metadata": {},
   "outputs": [
    {
     "data": {
      "text/plain": [
       "<matplotlib.legend.Legend at 0xf0ee9e8>"
      ]
     },
     "execution_count": 49,
     "metadata": {},
     "output_type": "execute_result"
    },
    {
     "data": {
      "image/png": "[encoded data removed]",
      "text/plain": [
       "<Figure size 864x864 with 1 Axes>"
      ]
     },
     "metadata": {
      "needs_background": "light"
     },
     "output_type": "display_data"
    }
   ],
   "source": [
    "#'Begins with emoji' and impressions\n",
    "impres['impressions'][(impres['begins_with_emoji'] == True)].hist(bins = 50, figsize = (12,12), label = 'True')\n",
    "impres['impressions'][(impres['begins_with_emoji'] == False)].hist(bins = 50, figsize = (12,12), label = 'False')\n",
    "plt.legend()"
   ]
  },
  {
   "cell_type": "markdown",
   "metadata": {},
   "source": [
    "### Worth doing a hypothesis test on this one:"
   ]
  },
  {
   "cell_type": "code",
   "execution_count": 59,
   "metadata": {},
   "outputs": [],
   "source": [
    "emoji_true_mean = impres['impressions'][(impres['begins_with_emoji'] == True)].mean()\n",
    "emoji_false_mean = impres['impressions'][(impres['begins_with_emoji'] == False)].mean()"
   ]
  },
  {
   "cell_type": "code",
   "execution_count": null,
   "metadata": {},
   "outputs": [],
   "source": [
    "alpha = 0.05\n",
    "\n",
    "#Test Sean's mean using Scipy's one-sample t test\n",
    "test_statistic, pvalue = stats.ttest_1samp(attempts, seans_mean)\n",
    "print('Test statistic:', test_statistic)\n",
    "print('P value:', pvalue)\n",
    "print('Sean\\'s mean:', seans_mean, 'days')\n",
    "print('Sample mean:', attempts.mean(), 'days')\n",
    "print('P less than alpha?', alpha > pvalue"
   ]
  },
  {
   "cell_type": "code",
   "execution_count": null,
   "metadata": {},
   "outputs": [],
   "source": []
  },
  {
   "cell_type": "code",
   "execution_count": null,
   "metadata": {},
   "outputs": [],
   "source": [
    "#FOR RESAMPLING\n",
    "#Build a new distribution using a 1000 means of random samples of size 30 from attempts.\n",
    "sampled_attempts = [np.random.choice(attempts, size = 30, \\\n",
    "                        replace = True).mean() for i in range(1000)]\n",
    "\n",
    "#The upper bound marks the highest possible that an event in the distribution \n",
    "#can have without being statistically significant.\n",
    "upper_bound = np.percentile(sampled_attempts, 97.5)\n",
    "\n",
    "#Mark the x axix from 2 months to 7 months\n",
    "xticks = np.arange(75, 195, 15)\n",
    "xlabels = [str(x) + ' mos' for x in np.arange(2.5, 7, .5)]\n",
    "\n",
    "fig = plt.figure(figsize = (18,8))\n",
    "sns.distplot(sampled_attempts, color = 'red')\n",
    "kwargs = {'c': 'darkgreen',\n",
    "          'label': 'average length',\n",
    "          'linewidth': 10\n",
    "        }\n",
    "plt.axvline(x = attempts.mean(), ymax = 0.9, **kwargs)\n",
    "\n",
    "kwargs = {'c': 'red',\n",
    "          'label': 'alpha',\n",
    "          'linewidth': 10\n",
    "        }\n",
    "plt.axvline(x = upper_bound, ymax = 1, **kwargs)\n",
    "\n",
    "kwargs = {'c': 'lightgreen',\n",
    "          'label': 'Sean\\'s prediction',\n",
    "          'linewidth': 10\n",
    "        }\n",
    "plt.axvline(x = seans_mean, ymax = 0.9, **kwargs)\n",
    "\n",
    "plt.xticks(xticks, xlabels)\n",
    "plt.xlabel('Length of attempt in days')\n",
    "plt.title('Resampled Attempts Distribution')\n",
    "plt.legend()\n",
    "plt.show()"
   ]
  },
  {
   "cell_type": "code",
   "execution_count": 52,
   "metadata": {},
   "outputs": [
    {
     "data": {
      "text/plain": [
       "<matplotlib.legend.Legend at 0xfbec9e8>"
      ]
     },
     "execution_count": 52,
     "metadata": {},
     "output_type": "execute_result"
    },
    {
     "data": {
      "image/png": "[encoded data removed]",
      "text/plain": [
       "<Figure size 864x864 with 1 Axes>"
      ]
     },
     "metadata": {
      "needs_background": "light"
     },
     "output_type": "display_data"
    }
   ],
   "source": [
    "#'Has question' and imperssions\n",
    "impres['impressions'][(df['has_q'] == True)].hist(bins = 50, figsize = (12,12), label = 'True')\n",
    "impres['impressions'][(df['has_q'] == False)].hist(bins = 50, figsize = (12,12), label = 'False')\n",
    "plt.legend()"
   ]
  },
  {
   "cell_type": "code",
   "execution_count": 24,
   "metadata": {},
   "outputs": [],
   "source": [
    "#Log-transform to reduce skew and set a similar scale for each feature\n",
    "def log_tr(sr):\n",
    "    return pd.Series([0 if x == 0 else np.log(x) for x in sr]) #Excludes '-inf' for log of 0"
   ]
  },
  {
   "cell_type": "code",
   "execution_count": null,
   "metadata": {},
   "outputs": [],
   "source": []
  },
  {
   "cell_type": "code",
   "execution_count": 47,
   "metadata": {},
   "outputs": [
    {
     "data": {
      "text/plain": [
       "<matplotlib.legend.Legend at 0xee05358>"
      ]
     },
     "execution_count": 47,
     "metadata": {},
     "output_type": "execute_result"
    },
    {
     "data": {
      "image/png": "[encoded data removed]",
      "text/plain": [
       "<Figure size 576x432 with 1 Axes>"
      ]
     },
     "metadata": {
      "needs_background": "light"
     },
     "output_type": "display_data"
    }
   ],
   "source": [
    "#Impressions and character count\n",
    "fig = plt.figure(figsize = (8, 6))\n",
    "plt.scatter(impres['char_count'], impres['impressions'], label = 'impressions')\n",
    "plt.scatter(impres['char_count'], impres['engagement'], label = 'engagement')\n",
    "plt.legend()"
   ]
  },
  {
   "cell_type": "code",
   "execution_count": 48,
   "metadata": {},
   "outputs": [
    {
     "data": {
      "text/plain": [
       "<matplotlib.legend.Legend at 0xf07cdd8>"
      ]
     },
     "execution_count": 48,
     "metadata": {},
     "output_type": "execute_result"
    },
    {
     "data": {
      "image/png": "[encoded data removed]",
      "text/plain": [
       "<Figure size 576x432 with 1 Axes>"
      ]
     },
     "metadata": {
      "needs_background": "light"
     },
     "output_type": "display_data"
    }
   ],
   "source": [
    "#Impressions and character count, normalized\n",
    "fig = plt.figure(figsize = (8, 6))\n",
    "plt.scatter(log_tr(impres['char_count']), log_tr(impres['impressions']), label = 'impressions')\n",
    "plt.scatter(log_tr(impres['char_count']), log_tr(impres['engagement']), label = 'engagement')\n",
    "plt.legend()"
   ]
  },
  {
   "cell_type": "markdown",
   "metadata": {},
   "source": [
    "Looks like char count doesn't have an upward linear relationship with impressions.\n",
    "Two separate clusters of data for engagement--the higher cluster is probably the bots."
   ]
  },
  {
   "cell_type": "code",
   "execution_count": 56,
   "metadata": {},
   "outputs": [
    {
     "data": {
      "text/plain": [
       "<matplotlib.legend.Legend at 0xfd44fd0>"
      ]
     },
     "execution_count": 56,
     "metadata": {},
     "output_type": "execute_result"
    },
    {
     "data": {
      "image/png": "[encoded data removed]",
      "text/plain": [
       "<Figure size 576x432 with 1 Axes>"
      ]
     },
     "metadata": {
      "needs_background": "light"
     },
     "output_type": "display_data"
    }
   ],
   "source": [
    "#Impressions and word count\n",
    "fig = plt.figure(figsize = (8, 6))\n",
    "plt.scatter(impres['word_count'], impres['impressions'], label = 'impressions')\n",
    "plt.scatter(impres['word_count'], impres['engagement'], label = 'engagement')\n",
    "plt.legend()"
   ]
  },
  {
   "cell_type": "code",
   "execution_count": null,
   "metadata": {},
   "outputs": [],
   "source": []
  },
  {
   "cell_type": "code",
   "execution_count": 58,
   "metadata": {},
   "outputs": [
    {
     "data": {
      "text/plain": [
       "<matplotlib.legend.Legend at 0xfe14e10>"
      ]
     },
     "execution_count": 58,
     "metadata": {},
     "output_type": "execute_result"
    },
    {
     "data": {
      "image/png": "[encoded data removed]",
      "text/plain": [
       "<Figure size 576x432 with 1 Axes>"
      ]
     },
     "metadata": {
      "needs_background": "light"
     },
     "output_type": "display_data"
    }
   ],
   "source": [
    "#Impressions and word count, normalized\n",
    "fig = plt.figure(figsize = (8, 6))\n",
    "plt.scatter(log_tr(impres['word_count']), log_tr(impres['impressions']), label = 'impressions')\n",
    "plt.scatter(log_tr(impres['word_count']), log_tr(impres['engagement']), label = 'engagement')\n",
    "plt.legend()"
   ]
  },
  {
   "cell_type": "code",
   "execution_count": null,
   "metadata": {},
   "outputs": [],
   "source": []
  },
  {
   "cell_type": "code",
   "execution_count": null,
   "metadata": {},
   "outputs": [],
   "source": []
  },
  {
   "cell_type": "code",
   "execution_count": null,
   "metadata": {},
   "outputs": [],
   "source": []
  },
  {
   "cell_type": "code",
   "execution_count": null,
   "metadata": {},
   "outputs": [],
   "source": []
  },
  {
   "cell_type": "code",
   "execution_count": null,
   "metadata": {},
   "outputs": [],
   "source": []
  },
  {
   "cell_type": "code",
   "execution_count": null,
   "metadata": {},
   "outputs": [],
   "source": []
  },
  {
   "cell_type": "code",
   "execution_count": null,
   "metadata": {},
   "outputs": [],
   "source": []
  },
  {
   "cell_type": "code",
   "execution_count": null,
   "metadata": {},
   "outputs": [],
   "source": []
  },
  {
   "cell_type": "code",
   "execution_count": null,
   "metadata": {},
   "outputs": [],
   "source": []
  },
  {
   "cell_type": "code",
   "execution_count": null,
   "metadata": {},
   "outputs": [],
   "source": []
  },
  {
   "cell_type": "code",
   "execution_count": null,
   "metadata": {},
   "outputs": [],
   "source": []
  },
  {
   "cell_type": "code",
   "execution_count": null,
   "metadata": {},
   "outputs": [],
   "source": [
    "#For log transofmrinhg\n",
    "# cols_to_tr = list(features.columns)\n",
    "# cols_to_tr.remove('has_logged_in') #This is a categorical yes/no feature\n",
    "\n",
    "# features_tr = pd.DataFrame({column: log_tr(features[column]) for column in cols_to_tr})\n",
    "# target_tr = log_tr(target)"
   ]
  },
  {
   "cell_type": "code",
   "execution_count": 27,
   "metadata": {
    "scrolled": true
   },
   "outputs": [],
   "source": [
    "#FOR TROUBLESHOOTING EMOJI FEATURE\n",
    "\n",
    "#THIS IS HOW YOU ENCODE AN EMOJI INTO UNICODEb\n",
    "#test_encode = df['caption'].str[0].astype(str)[1362].encode(encoding = 'UTF-8')\n",
    "\n",
    "\n",
    "#begins_with_emoji = [is_emoji(first_char) for first_char in df['caption'].str[0].astype(str)]\n",
    "#comparisons = list(zip(df['caption'].str[0].astype(str), begins_with_emoji))\n",
    "#Here are the ones that arne't being read as emoji.\n",
    "#not_emoji = [tup for tup in comparisons if tup[1] == False]"
   ]
  },
  {
   "cell_type": "code",
   "execution_count": null,
   "metadata": {},
   "outputs": [],
   "source": [
    "## FROM STORY STORY\n",
    "\n",
    "\n",
    "#Index the df with datetimes\n",
    "df.set_index(pd.to_datetime(df['timestamp']), inplace = True)\n",
    "#Reset time zone to US Eastern time\n",
    "df.index = df.index.tz_convert('US/Eastern')\n",
    "\n",
    "#Change remaining columns to int type\n",
    "df = df.astype(int)"
   ]
  },
  {
   "cell_type": "code",
   "execution_count": null,
   "metadata": {},
   "outputs": [],
   "source": [
    "## FROM HASHTAGS HASHTAGS\n",
    "\n",
    "def get_ht(line):\n",
    "    return [word[1:] for word in line.split() if word[0] == '#']\n",
    "\n",
    "#Get hashtags from the caption column\n",
    "fr_cap = [get_ht(line) for line in df['caption'].astype(str).values]\n",
    "#Get hashtags from the first comment in the comments column\n",
    "fr_com = [get_ht(ast.literal_eval(line)['data'][0]['text'])\\\n",
    "                              if type(line) == str else [] for line in df['comments'].values ]\n",
    "#Extend each list in the 'from captions' list by the values in the 'from comments' list\n",
    "[fr_cap[i].extend(fr_com_i) for i, fr_com_i in enumerate(fr_com)]\n",
    "\n",
    "#Add this as a column to the df\n",
    "df['hashtags'] = fr_cap"
   ]
  }
 ],
 "metadata": {
  "kernelspec": {
   "display_name": "Python 3",
   "language": "python",
   "name": "python3"
  },
  "language_info": {
   "codemirror_mode": {
    "name": "ipython",
    "version": 3
   },
   "file_extension": ".py",
   "mimetype": "text/x-python",
   "name": "python",
   "nbconvert_exporter": "python",
   "pygments_lexer": "ipython3",
   "version": "3.6.8"
  }
 },
 "nbformat": 4,
 "nbformat_minor": 2
}
