{
 "cells": [
  {
   "cell_type": "markdown",
   "metadata": {},
   "source": [
    "# Generic linear regression model"
   ]
  },
  {
   "cell_type": "code",
   "execution_count": 1,
   "metadata": {},
   "outputs": [],
   "source": [
    "import numpy as np\n",
    "import pandas as pd\n",
    "import requests\n",
    "import time\n",
    "import matplotlib.pyplot as plt\n",
    "import seaborn as sns\n",
    "from pandasql import sqldf #for manipulating DataFrames with SQL style queries\n",
    "import ast #for literally evaluating strings taht were jsons"
   ]
  },
  {
   "cell_type": "code",
   "execution_count": 14,
   "metadata": {},
   "outputs": [],
   "source": []
  },
  {
   "cell_type": "code",
   "execution_count": 2,
   "metadata": {},
   "outputs": [],
   "source": [
    "df = pd.read_csv('media_objects.csv')\n",
    "df.drop([0], axis = 0, inplace = True) #Drop column descriptors\n",
    "df.reset_index(inplace = True)\n",
    "#Drop unnecessary columns\n",
    "df.drop(['media_object_id','timestamp', 'media_url'], axis = 1, inplace = True)"
   ]
  },
  {
   "cell_type": "code",
   "execution_count": 3,
   "metadata": {},
   "outputs": [
    {
     "data": {
      "text/html": [
       "<div>\n",
       "<style scoped>\n",
       "    .dataframe tbody tr th:only-of-type {\n",
       "        vertical-align: middle;\n",
       "    }\n",
       "\n",
       "    .dataframe tbody tr th {\n",
       "        vertical-align: top;\n",
       "    }\n",
       "\n",
       "    .dataframe thead th {\n",
       "        text-align: right;\n",
       "    }\n",
       "</style>\n",
       "<table border=\"1\" class=\"dataframe\">\n",
       "  <thead>\n",
       "    <tr style=\"text-align: right;\">\n",
       "      <th></th>\n",
       "      <th>index</th>\n",
       "      <th>caption</th>\n",
       "      <th>comments</th>\n",
       "      <th>comments_count</th>\n",
       "      <th>media_type</th>\n",
       "      <th>like_count</th>\n",
       "      <th>engagement</th>\n",
       "      <th>impressions</th>\n",
       "      <th>reach</th>\n",
       "      <th>saved</th>\n",
       "      <th>video_views</th>\n",
       "    </tr>\n",
       "  </thead>\n",
       "  <tbody>\n",
       "    <tr>\n",
       "      <th>0</th>\n",
       "      <td>1</td>\n",
       "      <td>@CheeseGrotto on a crisp fall eve, in a Manhat...</td>\n",
       "      <td>{'data': [{'timestamp': '2014-11-11T00:20:51+0...</td>\n",
       "      <td>1.0</td>\n",
       "      <td>IMAGE</td>\n",
       "      <td>8.0</td>\n",
       "      <td>NaN</td>\n",
       "      <td>NaN</td>\n",
       "      <td>NaN</td>\n",
       "      <td>NaN</td>\n",
       "      <td>NaN</td>\n",
       "    </tr>\n",
       "    <tr>\n",
       "      <th>1</th>\n",
       "      <td>2</td>\n",
       "      <td>Our #cheesesafe is a beautiful, simple gift fo...</td>\n",
       "      <td>NaN</td>\n",
       "      <td>0.0</td>\n",
       "      <td>IMAGE</td>\n",
       "      <td>6.0</td>\n",
       "      <td>NaN</td>\n",
       "      <td>NaN</td>\n",
       "      <td>NaN</td>\n",
       "      <td>NaN</td>\n",
       "      <td>NaN</td>\n",
       "    </tr>\n",
       "    <tr>\n",
       "      <th>2</th>\n",
       "      <td>3</td>\n",
       "      <td>This rich bloomy rind cheese was made in a @Ch...</td>\n",
       "      <td>{'data': [{'timestamp': '2016-09-09T03:22:34+0...</td>\n",
       "      <td>2.0</td>\n",
       "      <td>IMAGE</td>\n",
       "      <td>10.0</td>\n",
       "      <td>NaN</td>\n",
       "      <td>NaN</td>\n",
       "      <td>NaN</td>\n",
       "      <td>NaN</td>\n",
       "      <td>NaN</td>\n",
       "    </tr>\n",
       "    <tr>\n",
       "      <th>3</th>\n",
       "      <td>4</td>\n",
       "      <td>Our #cheesesafe with an awesome leather handle...</td>\n",
       "      <td>NaN</td>\n",
       "      <td>0.0</td>\n",
       "      <td>IMAGE</td>\n",
       "      <td>8.0</td>\n",
       "      <td>NaN</td>\n",
       "      <td>NaN</td>\n",
       "      <td>NaN</td>\n",
       "      <td>NaN</td>\n",
       "      <td>NaN</td>\n",
       "    </tr>\n",
       "    <tr>\n",
       "      <th>4</th>\n",
       "      <td>5</td>\n",
       "      <td>The goats want to know.....where's the @Cheese...</td>\n",
       "      <td>NaN</td>\n",
       "      <td>0.0</td>\n",
       "      <td>IMAGE</td>\n",
       "      <td>1.0</td>\n",
       "      <td>NaN</td>\n",
       "      <td>NaN</td>\n",
       "      <td>NaN</td>\n",
       "      <td>NaN</td>\n",
       "      <td>NaN</td>\n",
       "    </tr>\n",
       "  </tbody>\n",
       "</table>\n",
       "</div>"
      ],
      "text/plain": [
       "   index                                            caption  \\\n",
       "0      1  @CheeseGrotto on a crisp fall eve, in a Manhat...   \n",
       "1      2  Our #cheesesafe is a beautiful, simple gift fo...   \n",
       "2      3  This rich bloomy rind cheese was made in a @Ch...   \n",
       "3      4  Our #cheesesafe with an awesome leather handle...   \n",
       "4      5  The goats want to know.....where's the @Cheese...   \n",
       "\n",
       "                                            comments  comments_count  \\\n",
       "0  {'data': [{'timestamp': '2014-11-11T00:20:51+0...             1.0   \n",
       "1                                                NaN             0.0   \n",
       "2  {'data': [{'timestamp': '2016-09-09T03:22:34+0...             2.0   \n",
       "3                                                NaN             0.0   \n",
       "4                                                NaN             0.0   \n",
       "\n",
       "  media_type  like_count engagement impressions reach saved  video_views  \n",
       "0      IMAGE         8.0        NaN         NaN   NaN   NaN          NaN  \n",
       "1      IMAGE         6.0        NaN         NaN   NaN   NaN          NaN  \n",
       "2      IMAGE        10.0        NaN         NaN   NaN   NaN          NaN  \n",
       "3      IMAGE         8.0        NaN         NaN   NaN   NaN          NaN  \n",
       "4      IMAGE         1.0        NaN         NaN   NaN   NaN          NaN  "
      ]
     },
     "execution_count": 3,
     "metadata": {},
     "output_type": "execute_result"
    }
   ],
   "source": [
    "df.head()"
   ]
  },
  {
   "cell_type": "markdown",
   "metadata": {},
   "source": [
    "### Engineering features"
   ]
  },
  {
   "cell_type": "code",
   "execution_count": 23,
   "metadata": {},
   "outputs": [],
   "source": [
    "#Get count of hashtags\n",
    "def get_ht(line):\n",
    "    return sum([1 for word in line.split() if word[0] == '#'])\n",
    "\n",
    "#Get hashtags from the caption column\n",
    "fr_cap = [get_ht(line) for line in df['caption'].astype(str).values]\n",
    "\n",
    "#Get hashtags from the first comment in the comments column\n",
    "#Comments are in reverse chronological order\n",
    "\n",
    "#Does not include hashtags by commenter:\n",
    "#fr_com = [get_ht(ast.literal_eval(line)['data'][-1]['text'])\\\n",
    "#                              if type(line) == str else 0 for line in df['comments'].values ]\n",
    "\n",
    "#This includes hashtags by followers. Presumption is that most are by poster\n",
    "fr_com = [max([get_ht(comment['text']) for comment in ast.literal_eval(line)['data']])\\\n",
    "                              if type(line) == str else 0 for line in df['comments'].values ]\n",
    "\n",
    "#Engineer new column for count of hashtags\n",
    "df['hashtag_count'] = np.array(fr_cap) + np.array(fr_com)"
   ]
  },
  {
   "cell_type": "code",
   "execution_count": null,
   "metadata": {},
   "outputs": [],
   "source": [
    "#Get yes/no for starting emoji"
   ]
  },
  {
   "cell_type": "code",
   "execution_count": 28,
   "metadata": {},
   "outputs": [],
   "source": [
    "test_text = df['caption'].values[-3]"
   ]
  },
  {
   "cell_type": "code",
   "execution_count": 44,
   "metadata": {},
   "outputs": [
    {
     "name": "stdout",
     "output_type": "stream",
     "text": [
      "<class 'pandas.core.frame.DataFrame'>\n",
      "RangeIndex: 1365 entries, 0 to 1364\n",
      "Data columns (total 12 columns):\n",
      "index             1365 non-null int64\n",
      "caption           1364 non-null object\n",
      "comments          1181 non-null object\n",
      "comments_count    1365 non-null float64\n",
      "media_type        1365 non-null object\n",
      "like_count        1365 non-null float64\n",
      "engagement        695 non-null object\n",
      "impressions       695 non-null object\n",
      "reach             695 non-null object\n",
      "saved             695 non-null object\n",
      "video_views       670 non-null float64\n",
      "hashtag_count     1365 non-null int32\n",
      "dtypes: float64(3), int32(1), int64(1), object(7)\n",
      "memory usage: 122.8+ KB\n"
     ]
    }
   ],
   "source": [
    "df.info()"
   ]
  },
  {
   "cell_type": "code",
   "execution_count": 68,
   "metadata": {},
   "outputs": [],
   "source": [
    "#THIS IS HOW YOU ENCODE AN EMOJI INTO UNICODEb\n",
    "test_encode = df['caption'].str[0].astype(str)[1362].encode(encoding = 'UTF-8')"
   ]
  },
  {
   "cell_type": "code",
   "execution_count": 76,
   "metadata": {},
   "outputs": [
    {
     "data": {
      "text/plain": [
       "b'\\xf0\\x9f\\x8d\\x93'"
      ]
     },
     "execution_count": 76,
     "metadata": {},
     "output_type": "execute_result"
    }
   ],
   "source": [
    "test_encode"
   ]
  },
  {
   "cell_type": "code",
   "execution_count": 69,
   "metadata": {},
   "outputs": [
    {
     "data": {
      "text/plain": [
       "bytes"
      ]
     },
     "execution_count": 69,
     "metadata": {},
     "output_type": "execute_result"
    }
   ],
   "source": [
    "type(test_encode)"
   ]
  },
  {
   "cell_type": "code",
   "execution_count": 79,
   "metadata": {},
   "outputs": [
    {
     "data": {
      "text/plain": [
       "\"b'\\\\xf0\""
      ]
     },
     "execution_count": 79,
     "metadata": {},
     "output_type": "execute_result"
    }
   ],
   "source": [
    "str(test_encode)[:6]"
   ]
  },
  {
   "cell_type": "code",
   "execution_count": 82,
   "metadata": {},
   "outputs": [
    {
     "data": {
      "text/plain": [
       "True"
      ]
     },
     "execution_count": 82,
     "metadata": {},
     "output_type": "execute_result"
    }
   ],
   "source": [
    "str(test_encode)[:6] == 'b\\'\\\\xf0'"
   ]
  },
  {
   "cell_type": "code",
   "execution_count": 91,
   "metadata": {},
   "outputs": [
    {
     "data": {
      "text/plain": [
       "1355    🔎\n",
       "1356    🎁\n",
       "1357    🎁\n",
       "1358    💃\n",
       "1359    🧀\n",
       "1360    😎\n",
       "1361    🤔\n",
       "1362    🍓\n",
       "1363    F\n",
       "1364    🌶\n",
       "Name: caption, dtype: object"
      ]
     },
     "execution_count": 91,
     "metadata": {},
     "output_type": "execute_result"
    }
   ],
   "source": [
    "df['caption'].str[0].astype(str)[-10:]"
   ]
  },
  {
   "cell_type": "code",
   "execution_count": 87,
   "metadata": {},
   "outputs": [],
   "source": [
    "def is_emoji(char):\n",
    "    if str(char.encode(encoding = 'UTF-8'))[:6] == 'b\\'\\\\xf0':\n",
    "        return True\n",
    "    else:\n",
    "        return False\n",
    "    \n",
    "begins_with_emoji = [is_emoji(first_char) for first_char in df['caption'].str[0].astype(str)]"
   ]
  },
  {
   "cell_type": "code",
   "execution_count": 88,
   "metadata": {},
   "outputs": [
    {
     "data": {
      "text/plain": [
       "147"
      ]
     },
     "execution_count": 88,
     "metadata": {},
     "output_type": "execute_result"
    }
   ],
   "source": [
    "sum(begins_with_emoji)"
   ]
  },
  {
   "cell_type": "code",
   "execution_count": 96,
   "metadata": {},
   "outputs": [],
   "source": [
    "comparisons = list(zip(df['caption'].str[0].astype(str), begins_with_emoji))"
   ]
  },
  {
   "cell_type": "code",
   "execution_count": 100,
   "metadata": {
    "scrolled": true
   },
   "outputs": [
    {
     "data": {
      "text/plain": [
       "[('S', False),\n",
       " ('T', False),\n",
       " ('I', False),\n",
       " ('N', False),\n",
       " ('D', False),\n",
       " ('G', False),\n",
       " ('H', False),\n",
       " ('I', False),\n",
       " ('I', False),\n",
       " ('H', False),\n",
       " ('W', False),\n",
       " ('C', False),\n",
       " ('F', False),\n",
       " ('H', False),\n",
       " ('F', False),\n",
       " ('T', False),\n",
       " ('N', False),\n",
       " ('S', False),\n",
       " ('H', False),\n",
       " ('I', False),\n",
       " ('\"', False),\n",
       " ('@', False),\n",
       " ('G', False),\n",
       " ('B', False),\n",
       " ('S', False),\n",
       " ('T', False),\n",
       " ('T', False),\n",
       " ('T', False),\n",
       " ('H', False),\n",
       " ('O', False),\n",
       " ('T', False),\n",
       " ('O', False),\n",
       " ('N', False),\n",
       " ('T', False),\n",
       " ('S', False),\n",
       " ('A', False),\n",
       " ('S', False),\n",
       " ('A', False),\n",
       " ('T', False),\n",
       " ('H', False),\n",
       " ('T', False),\n",
       " ('R', False),\n",
       " ('T', False),\n",
       " ('K', False),\n",
       " ('C', False),\n",
       " ('D', False),\n",
       " ('O', False),\n",
       " ('F', False),\n",
       " ('C', False),\n",
       " ('H', False),\n",
       " ('W', False),\n",
       " ('C', False),\n",
       " ('T', False),\n",
       " ('H', False),\n",
       " ('I', False),\n",
       " ('R', False),\n",
       " ('T', False),\n",
       " ('C', False),\n",
       " ('T', False),\n",
       " ('B', False),\n",
       " ('F', False),\n",
       " ('W', False),\n",
       " ('@', False),\n",
       " ('I', False),\n",
       " ('O', False),\n",
       " ('W', False),\n",
       " ('V', False),\n",
       " ('N', False),\n",
       " ('♻', False),\n",
       " ('T', False),\n",
       " ('O', False),\n",
       " ('W', False),\n",
       " ('❓', False),\n",
       " ('❓', False),\n",
       " ('❔', False),\n",
       " ('❔', False),\n",
       " ('⭐', False),\n",
       " ('⚪', False),\n",
       " ('✋', False),\n",
       " ('W', False),\n",
       " ('T', False),\n",
       " ('⭐', False),\n",
       " ('⭐', False),\n",
       " ('❤', False),\n",
       " ('T', False),\n",
       " ('@', False),\n",
       " ('\"', False),\n",
       " ('C', False),\n",
       " ('⭐', False),\n",
       " ('⭐', False),\n",
       " ('W', False),\n",
       " ('O', False),\n",
       " ('I', False),\n",
       " ('#', False),\n",
       " ('☠', False),\n",
       " ('W', False),\n",
       " ('❌', False),\n",
       " ('☮', False),\n",
       " ('⭐', False),\n",
       " ('F', False)]"
      ]
     },
     "execution_count": 100,
     "metadata": {},
     "output_type": "execute_result"
    }
   ],
   "source": [
    "#Here are the ones that arne't being read as emoji.\n",
    "[tup for tup in comparisons if tup[1] == False][-100:]"
   ]
  },
  {
   "cell_type": "markdown",
   "metadata": {},
   "source": [
    "# RESUME HERE FOR ENCODING EMOJI. Some are not being read as emoji yet with the string slice I'm using."
   ]
  },
  {
   "cell_type": "code",
   "execution_count": null,
   "metadata": {},
   "outputs": [],
   "source": []
  },
  {
   "cell_type": "code",
   "execution_count": null,
   "metadata": {},
   "outputs": [],
   "source": [
    "## FROM STORY STORY\n",
    "\n",
    "\n",
    "#Index the df with datetimes\n",
    "df.set_index(pd.to_datetime(df['timestamp']), inplace = True)\n",
    "#Reset time zone to US Eastern time\n",
    "df.index = df.index.tz_convert('US/Eastern')\n",
    "\n",
    "#Change remaining columns to int type\n",
    "df = df.astype(int)"
   ]
  },
  {
   "cell_type": "code",
   "execution_count": null,
   "metadata": {},
   "outputs": [],
   "source": [
    "## FROM HASHTAGS HASHTAGS\n",
    "\n",
    "def get_ht(line):\n",
    "    return [word[1:] for word in line.split() if word[0] == '#']\n",
    "\n",
    "#Get hashtags from the caption column\n",
    "fr_cap = [get_ht(line) for line in df['caption'].astype(str).values]\n",
    "#Get hashtags from the first comment in the comments column\n",
    "fr_com = [get_ht(ast.literal_eval(line)['data'][0]['text'])\\\n",
    "                              if type(line) == str else [] for line in df['comments'].values ]\n",
    "#Extend each list in the 'from captions' list by the values in the 'from comments' list\n",
    "[fr_cap[i].extend(fr_com_i) for i, fr_com_i in enumerate(fr_com)]\n",
    "\n",
    "#Add this as a column to the df\n",
    "df['hashtags'] = fr_cap"
   ]
  },
  {
   "cell_type": "code",
   "execution_count": null,
   "metadata": {},
   "outputs": [],
   "source": []
  }
 ],
 "metadata": {
  "kernelspec": {
   "display_name": "Python 3",
   "language": "python",
   "name": "python3"
  },
  "language_info": {
   "codemirror_mode": {
    "name": "ipython",
    "version": 3
   },
   "file_extension": ".py",
   "mimetype": "text/x-python",
   "name": "python",
   "nbconvert_exporter": "python",
   "pygments_lexer": "ipython3",
   "version": "3.6.8"
  }
 },
 "nbformat": 4,
 "nbformat_minor": 2
}
