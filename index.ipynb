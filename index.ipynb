{
 "cells": [
  {
   "cell_type": "markdown",
   "metadata": {},
   "source": [
    "# Contract analytics for Cheese Grotto"
   ]
  },
  {
   "cell_type": "code",
   "execution_count": 21,
   "metadata": {},
   "outputs": [],
   "source": [
    "import numpy as np\n",
    "import pandas as pd\n",
    "import requests\n",
    "import time\n",
    "import matplotlib.pyplot as plt\n",
    "from pandasql import sqldf #for manipulating DataFrames with SQL style queries\n",
    "#Write file to machine to work with offline\n",
    "import json\n",
    "\n",
    "#ALL BELOW to export results of API request to local file\n",
    "# Make it work for Python 2+3 and with Unicode\n",
    "import io\n",
    "try:\n",
    "    to_unicode = unicode\n",
    "except NameError:\n",
    "    to_unicode = str"
   ]
  },
  {
   "cell_type": "markdown",
   "metadata": {},
   "source": [
    "# Instagram graph api"
   ]
  },
  {
   "cell_type": "code",
   "execution_count": 10,
   "metadata": {},
   "outputs": [],
   "source": [
    "#generated each session by the graph api explorer\n",
    "user_access_token = ''"
   ]
  },
  {
   "cell_type": "code",
   "execution_count": 11,
   "metadata": {},
   "outputs": [],
   "source": [
    "#Get the user's pages\n",
    "#For better security these must all be derived after a new user access token is created by the person logged \n",
    "#into the fb business account\n",
    "user_pages = f'https://graph.facebook.com/v4.0/me/accounts?access_token={user_access_token}'\n",
    "response = requests.get(user_pages)\n",
    "page_id = json.loads(response.text)['data'][0]['id']\n",
    "\n",
    "#Get the page's instagram business account id\n",
    "insta_biz_account = f'https://graph.facebook.com/v4.0/{page_id}?fields=instagram_business_account&access_token={user_access_token}'\n",
    "response = requests.get(insta_biz_account)\n",
    "insta_id = json.loads(response.text)['instagram_business_account']['id']"
   ]
  },
  {
   "cell_type": "code",
   "execution_count": 13,
   "metadata": {},
   "outputs": [],
   "source": [
    "#Get the Instagram Business Account's Media Objects\n",
    "media_objects = f'https://graph.facebook.com/v4.0/{insta_id}/media?access_token={user_access_token}&limit=2000'\n",
    "response = requests.get(media_objects)\n",
    "media_object_ids = [object['id'] for object in json.loads(response.text)['data']]"
   ]
  },
  {
   "cell_type": "code",
   "execution_count": 14,
   "metadata": {},
   "outputs": [
    {
     "data": {
      "text/plain": [
       "1317"
      ]
     },
     "execution_count": 14,
     "metadata": {},
     "output_type": "execute_result"
    }
   ],
   "source": [
    "len(json.loads(response.text)['data'])"
   ]
  },
  {
   "cell_type": "code",
   "execution_count": null,
   "metadata": {},
   "outputs": [],
   "source": [
    "# media_objects = []\n",
    "# for obj_id in media_object_ids:\n",
    "#     media_objects.append(requests.get(f'https://graph.facebook.com/v4.0/{obj_id}?fields=comments,like_count,timestamp&access_token={user_access_token}').text)\n",
    "#     time.sleep(1.5)"
   ]
  },
  {
   "cell_type": "code",
   "execution_count": 15,
   "metadata": {
    "collapsed": true
   },
   "outputs": [
    {
     "name": "stdout",
     "output_type": "stream",
     "text": [
      "1\n",
      "2\n",
      "3\n",
      "4\n",
      "5\n",
      "6\n",
      "7\n",
      "8\n",
      "9\n",
      "10\n",
      "11\n",
      "12\n",
      "13\n",
      "14\n",
      "15\n",
      "16\n",
      "17\n",
      "18\n",
      "19\n",
      "20\n",
      "21\n",
      "22\n",
      "23\n",
      "24\n",
      "25\n",
      "26\n",
      "27\n",
      "28\n",
      "29\n",
      "30\n",
      "31\n",
      "32\n",
      "33\n",
      "34\n",
      "35\n",
      "36\n",
      "37\n",
      "38\n",
      "39\n",
      "40\n",
      "41\n",
      "42\n",
      "43\n",
      "44\n",
      "45\n",
      "46\n",
      "47\n",
      "48\n",
      "49\n",
      "50\n",
      "51\n",
      "52\n",
      "53\n",
      "54\n",
      "55\n",
      "56\n",
      "57\n",
      "58\n",
      "59\n",
      "60\n",
      "61\n",
      "62\n",
      "63\n",
      "64\n",
      "65\n",
      "66\n",
      "67\n",
      "68\n",
      "69\n",
      "70\n",
      "71\n",
      "72\n",
      "73\n",
      "74\n",
      "75\n",
      "76\n",
      "77\n",
      "78\n",
      "79\n",
      "80\n",
      "81\n",
      "82\n",
      "83\n",
      "84\n",
      "85\n",
      "86\n",
      "87\n",
      "88\n",
      "89\n",
      "90\n",
      "91\n",
      "92\n",
      "93\n",
      "94\n",
      "95\n",
      "96\n",
      "97\n",
      "98\n",
      "99\n"
     ]
    }
   ],
   "source": [
    "media_objects_all = []\n",
    "for obj_id in media_object_ids:\n",
    "    media_objects_all.append(requests.get(f'https://graph.facebook.com/v4.0/{obj_id}?fields=caption,comments,comments_count,media_type,media_url,like_count,timestamp&access_token={user_access_token}').text)\n",
    "    time.sleep(1.25)\n",
    "    if len(media_objects_all) // 100 == 0:\n",
    "        print(len(media_objects_all))"
   ]
  },
  {
   "cell_type": "code",
   "execution_count": 16,
   "metadata": {},
   "outputs": [
    {
     "data": {
      "text/plain": [
       "1317"
      ]
     },
     "execution_count": 16,
     "metadata": {},
     "output_type": "execute_result"
    }
   ],
   "source": [
    "len(media_objects_all)"
   ]
  },
  {
   "cell_type": "code",
   "execution_count": 19,
   "metadata": {},
   "outputs": [
    {
     "data": {
      "text/plain": [
       "'{\"caption\":\"It\\'s a #tbt #ontheblog today. Looking back on October and all the things that brought us inspiration: from cheesy politics in Russia, to the ultimate recipe for Queso Dip, to sleek kitchenware design by \\\\u0040blackblumdesign, to Swiss cheese making adventures by \\\\u0040culturecheese...check it out! #linkinbio \\\\nPhoto by \\\\u0040designmilk\",\"comments\":{\"data\":[{\"timestamp\":\"2015-10-29T15:25:09+0000\",\"text\":\"Swoon sink \\\\ud83d\\\\ude0d\",\"id\":\"17844630712041130\"},{\"timestamp\":\"2015-10-29T14:13:00+0000\",\"text\":\"I want that sink!\",\"id\":\"17844629953041130\"},{\"timestamp\":\"2015-10-29T13:50:04+0000\",\"text\":\"#kitchendesign #kitchenwares #cheeselove #cgvision #cheesepolitics\",\"id\":\"17844629635041130\"}]},\"comments_count\":3,\"media_type\":\"IMAGE\",\"media_url\":\"https:\\\\/\\\\/scontent.xx.fbcdn.net\\\\/v\\\\/t51.2885-15\\\\/12063084_1650784255203302_1983467350_n.jpg?_nc_cat=104&_nc_oc=AQkJSczyX1KwJuYgIcQrlIY1QG5Yjvquz8gbI6GBPgmXOBaK13lIgInRf1t3KNNfB9M&_nc_ht=scontent.xx&oh=e5b469ec1661d1738ec0f60251110d35&oe=5E340259\",\"like_count\":30,\"timestamp\":\"2015-10-29T13:48:44+0000\",\"id\":\"17844629608041130\"}'"
      ]
     },
     "execution_count": 19,
     "metadata": {},
     "output_type": "execute_result"
    }
   ],
   "source": [
    "media_objects_all[1000]"
   ]
  },
  {
   "cell_type": "code",
   "execution_count": null,
   "metadata": {},
   "outputs": [],
   "source": [
    "#SEe for more fields: https://developers.facebook.com/docs/instagram-api/reference/media/\n",
    "\n",
    "requests.get(f'https://graph.facebook.com/v4.0/{media_object_ids[0]}?fields=caption,comments,comments_count,media_type,media_url,like_count,timestamp&access_token={user_access_token}').text\n",
    "#/?fields={fields}"
   ]
  },
  {
   "cell_type": "code",
   "execution_count": null,
   "metadata": {},
   "outputs": [],
   "source": [
    "len(media_objects)"
   ]
  },
  {
   "cell_type": "code",
   "execution_count": null,
   "metadata": {},
   "outputs": [],
   "source": [
    "media_objects[1311]"
   ]
  },
  {
   "cell_type": "code",
   "execution_count": null,
   "metadata": {},
   "outputs": [],
   "source": []
  },
  {
   "cell_type": "code",
   "execution_count": 24,
   "metadata": {},
   "outputs": [],
   "source": [
    "# Write JSON file\n",
    "with io.open('media_objects.json', 'w', encoding='utf8') as outfile:\n",
    "    str_ = json.dumps(media_objects_all,\n",
    "                      indent=4, sort_keys=True,\n",
    "                      separators=(',', ': '), ensure_ascii=False)\n",
    "    outfile.write(to_unicode(str_))"
   ]
  },
  {
   "cell_type": "code",
   "execution_count": 25,
   "metadata": {},
   "outputs": [],
   "source": [
    "# Read JSON file\n",
    "with open('media_objects.json') as data_file:\n",
    "    media_objects_json = json.load(data_file)"
   ]
  },
  {
   "cell_type": "code",
   "execution_count": 45,
   "metadata": {},
   "outputs": [
    {
     "data": {
      "text/plain": [
       "'{\"caption\":\"\\\\u0040CheeseGrotto on a crisp fall eve, in a Manhattan garden. #cheese #cheesegrotto #elegance  http:\\\\/\\\\/kck.st\\\\/1qnfB7U\",\"comments\":{\"data\":[{\"timestamp\":\"2014-11-11T00:20:51+0000\",\"text\":\"\\\\u0040foodandwine\",\"id\":\"17850626032041130\"}]},\"comments_count\":1,\"media_type\":\"IMAGE\",\"media_url\":\"https:\\\\/\\\\/scontent.xx.fbcdn.net\\\\/v\\\\/t51.2885-15\\\\/10756015_338589502980226_1503532671_n.jpg?_nc_cat=111&_nc_oc=AQmJNXrHGwU811W13pNff1sPv-zF-9jAn11LGwPCcU0W28fLwOyuAKsW9kf9VHEqJxc&_nc_ht=scontent.xx&oh=19259663d526720bc1519e5c87b430f3&oe=5E194277\",\"like_count\":8,\"timestamp\":\"2014-11-10T22:47:02+0000\",\"id\":\"17841922594041130\"}'"
      ]
     },
     "execution_count": 45,
     "metadata": {},
     "output_type": "execute_result"
    }
   ],
   "source": [
    "media_objects_json[-1]"
   ]
  },
  {
   "cell_type": "code",
   "execution_count": 48,
   "metadata": {},
   "outputs": [],
   "source": [
    "media_objects_dicts = [json.loads(obj) for obj in media_objects_json]\n",
    "columns = (list(media_objects_dicts[0].keys()))\n",
    "data = {col: [obj[col] if col in list(obj.keys()) else None for obj in media_objects_dicts] for col in columns}"
   ]
  },
  {
   "cell_type": "code",
   "execution_count": 46,
   "metadata": {},
   "outputs": [
    {
     "data": {
      "text/plain": [
       "[{'comments_count': 0,\n",
       "  'media_type': 'IMAGE',\n",
       "  'media_url': 'https://scontent.xx.fbcdn.net/v/t51.2885-15/12976473_601177126725781_1633422619_n.jpg?_nc_cat=106&_nc_oc=AQnPbzGmSWt141M264fr38Cg9geI8UyoFfHO1pGSum0ojfOlm_8tdRKKFT7AouDudZ4&_nc_ht=scontent.xx&oh=5bcc14f7b429450d22e4f06445d1554d&oe=5E209D4B',\n",
       "  'like_count': 21,\n",
       "  'timestamp': '2016-04-23T21:52:11+0000',\n",
       "  'id': '17846983060128875'}]"
      ]
     },
     "execution_count": 46,
     "metadata": {},
     "output_type": "execute_result"
    }
   ],
   "source": [
    "#Only one thing has no caption?\n",
    "[obj  for obj in media_objects_dicts if not 'caption' in list(obj.keys())]"
   ]
  },
  {
   "cell_type": "code",
   "execution_count": 61,
   "metadata": {},
   "outputs": [],
   "source": [
    "#build pandas data frame to look at data\n",
    "df = pd.DataFrame(data)\n",
    "df.set_index(pd.to_datetime(df['timestamp']), inplace = True)\n",
    "df.drop(['timestamp'], axis = 1, inplace = True)\n",
    "df.sort_index(axis = 0, ascending = True, inplace = True)"
   ]
  },
  {
   "cell_type": "code",
   "execution_count": 72,
   "metadata": {},
   "outputs": [
    {
     "data": {
      "text/html": [
       "<div>\n",
       "<style scoped>\n",
       "    .dataframe tbody tr th:only-of-type {\n",
       "        vertical-align: middle;\n",
       "    }\n",
       "\n",
       "    .dataframe tbody tr th {\n",
       "        vertical-align: top;\n",
       "    }\n",
       "\n",
       "    .dataframe thead th {\n",
       "        text-align: right;\n",
       "    }\n",
       "</style>\n",
       "<table border=\"1\" class=\"dataframe\">\n",
       "  <thead>\n",
       "    <tr style=\"text-align: right;\">\n",
       "      <th></th>\n",
       "      <th>caption</th>\n",
       "      <th>comments</th>\n",
       "      <th>comments_count</th>\n",
       "      <th>media_type</th>\n",
       "      <th>media_url</th>\n",
       "      <th>like_count</th>\n",
       "      <th>id</th>\n",
       "    </tr>\n",
       "    <tr>\n",
       "      <th>timestamp</th>\n",
       "      <th></th>\n",
       "      <th></th>\n",
       "      <th></th>\n",
       "      <th></th>\n",
       "      <th></th>\n",
       "      <th></th>\n",
       "      <th></th>\n",
       "    </tr>\n",
       "  </thead>\n",
       "  <tbody>\n",
       "    <tr>\n",
       "      <th>2014-11-10 22:47:02</th>\n",
       "      <td>@CheeseGrotto on a crisp fall eve, in a Manhat...</td>\n",
       "      <td>{'data': [{'timestamp': '2014-11-11T00:20:51+0...</td>\n",
       "      <td>1</td>\n",
       "      <td>IMAGE</td>\n",
       "      <td>https://scontent.xx.fbcdn.net/v/t51.2885-15/10...</td>\n",
       "      <td>8</td>\n",
       "      <td>17841922594041130</td>\n",
       "    </tr>\n",
       "    <tr>\n",
       "      <th>2014-11-10 22:52:51</th>\n",
       "      <td>Our #cheesesafe is a beautiful, simple gift fo...</td>\n",
       "      <td>None</td>\n",
       "      <td>0</td>\n",
       "      <td>IMAGE</td>\n",
       "      <td>https://scontent.xx.fbcdn.net/v/t51.2885-15/10...</td>\n",
       "      <td>6</td>\n",
       "      <td>17841735106041130</td>\n",
       "    </tr>\n",
       "    <tr>\n",
       "      <th>2014-11-10 23:04:47</th>\n",
       "      <td>This rich bloomy rind cheese was made in a @Ch...</td>\n",
       "      <td>{'data': [{'timestamp': '2016-09-09T03:22:34+0...</td>\n",
       "      <td>2</td>\n",
       "      <td>IMAGE</td>\n",
       "      <td>https://scontent.xx.fbcdn.net/v/t51.2885-15/10...</td>\n",
       "      <td>10</td>\n",
       "      <td>17843576941041130</td>\n",
       "    </tr>\n",
       "    <tr>\n",
       "      <th>2014-11-10 23:19:00</th>\n",
       "      <td>Our #cheesesafe with an awesome leather handle...</td>\n",
       "      <td>None</td>\n",
       "      <td>0</td>\n",
       "      <td>IMAGE</td>\n",
       "      <td>https://scontent.xx.fbcdn.net/v/t51.2885-15/10...</td>\n",
       "      <td>8</td>\n",
       "      <td>17841735103041130</td>\n",
       "    </tr>\n",
       "    <tr>\n",
       "      <th>2014-11-10 23:43:33</th>\n",
       "      <td>The goats want to know.....where's the @Cheese...</td>\n",
       "      <td>None</td>\n",
       "      <td>0</td>\n",
       "      <td>IMAGE</td>\n",
       "      <td>https://scontent.xx.fbcdn.net/v/t51.2885-15/10...</td>\n",
       "      <td>1</td>\n",
       "      <td>17843576947041130</td>\n",
       "    </tr>\n",
       "  </tbody>\n",
       "</table>\n",
       "</div>"
      ],
      "text/plain": [
       "                                                               caption  \\\n",
       "timestamp                                                                \n",
       "2014-11-10 22:47:02  @CheeseGrotto on a crisp fall eve, in a Manhat...   \n",
       "2014-11-10 22:52:51  Our #cheesesafe is a beautiful, simple gift fo...   \n",
       "2014-11-10 23:04:47  This rich bloomy rind cheese was made in a @Ch...   \n",
       "2014-11-10 23:19:00  Our #cheesesafe with an awesome leather handle...   \n",
       "2014-11-10 23:43:33  The goats want to know.....where's the @Cheese...   \n",
       "\n",
       "                                                              comments  \\\n",
       "timestamp                                                                \n",
       "2014-11-10 22:47:02  {'data': [{'timestamp': '2014-11-11T00:20:51+0...   \n",
       "2014-11-10 22:52:51                                               None   \n",
       "2014-11-10 23:04:47  {'data': [{'timestamp': '2016-09-09T03:22:34+0...   \n",
       "2014-11-10 23:19:00                                               None   \n",
       "2014-11-10 23:43:33                                               None   \n",
       "\n",
       "                     comments_count media_type  \\\n",
       "timestamp                                        \n",
       "2014-11-10 22:47:02               1      IMAGE   \n",
       "2014-11-10 22:52:51               0      IMAGE   \n",
       "2014-11-10 23:04:47               2      IMAGE   \n",
       "2014-11-10 23:19:00               0      IMAGE   \n",
       "2014-11-10 23:43:33               0      IMAGE   \n",
       "\n",
       "                                                             media_url  \\\n",
       "timestamp                                                                \n",
       "2014-11-10 22:47:02  https://scontent.xx.fbcdn.net/v/t51.2885-15/10...   \n",
       "2014-11-10 22:52:51  https://scontent.xx.fbcdn.net/v/t51.2885-15/10...   \n",
       "2014-11-10 23:04:47  https://scontent.xx.fbcdn.net/v/t51.2885-15/10...   \n",
       "2014-11-10 23:19:00  https://scontent.xx.fbcdn.net/v/t51.2885-15/10...   \n",
       "2014-11-10 23:43:33  https://scontent.xx.fbcdn.net/v/t51.2885-15/10...   \n",
       "\n",
       "                     like_count                 id  \n",
       "timestamp                                           \n",
       "2014-11-10 22:47:02           8  17841922594041130  \n",
       "2014-11-10 22:52:51           6  17841735106041130  \n",
       "2014-11-10 23:04:47          10  17843576941041130  \n",
       "2014-11-10 23:19:00           8  17841735103041130  \n",
       "2014-11-10 23:43:33           1  17843576947041130  "
      ]
     },
     "execution_count": 72,
     "metadata": {},
     "output_type": "execute_result"
    }
   ],
   "source": [
    "df.head()"
   ]
  },
  {
   "cell_type": "code",
   "execution_count": 77,
   "metadata": {},
   "outputs": [
    {
     "data": {
      "text/plain": [
       "Text(0.5,1,'Number of likes on posts over time')"
      ]
     },
     "execution_count": 77,
     "metadata": {},
     "output_type": "execute_result"
    },
    {
     "data": {
      "image/png": "[encoded data removed]",
      "text/plain": [
       "<Figure size 576x432 with 1 Axes>"
      ]
     },
     "metadata": {
      "needs_background": "light"
     },
     "output_type": "display_data"
    }
   ],
   "source": [
    "fig = plt.figure(figsize = (8,6))\n",
    "plt.scatter(df.index, df['like_count'])\n",
    "plt.title('Number of likes on posts over time')"
   ]
  },
  {
   "cell_type": "code",
   "execution_count": 78,
   "metadata": {},
   "outputs": [
    {
     "data": {
      "text/plain": [
       "Text(0.5,1,'Number of comments on posts over time')"
      ]
     },
     "execution_count": 78,
     "metadata": {},
     "output_type": "execute_result"
    },
    {
     "data": {
      "image/png": "[encoded data removed]",
      "text/plain": [
       "<Figure size 576x432 with 1 Axes>"
      ]
     },
     "metadata": {
      "needs_background": "light"
     },
     "output_type": "display_data"
    }
   ],
   "source": [
    "fig = plt.figure(figsize = (8,6))\n",
    "plt.scatter(df.index, df['comments_count'])\n",
    "plt.title('Number of comments on posts over time')"
   ]
  },
  {
   "cell_type": "code",
   "execution_count": null,
   "metadata": {},
   "outputs": [],
   "source": [
    "df[]"
   ]
  }
 ],
 "metadata": {
  "kernelspec": {
   "display_name": "Python 3",
   "language": "python",
   "name": "python3"
  },
  "language_info": {
   "codemirror_mode": {
    "name": "ipython",
    "version": 3
   },
   "file_extension": ".py",
   "mimetype": "text/x-python",
   "name": "python",
   "nbconvert_exporter": "python",
   "pygments_lexer": "ipython3",
   "version": "3.7.0"
  }
 },
 "nbformat": 4,
 "nbformat_minor": 2
}
