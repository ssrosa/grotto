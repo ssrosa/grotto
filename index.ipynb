{
 "cells": [
  {
   "cell_type": "markdown",
   "metadata": {},
   "source": [
    "# Contract analytics for Cheese Grotto"
   ]
  },
  {
   "cell_type": "code",
   "execution_count": null,
   "metadata": {},
   "outputs": [],
   "source": []
  },
  {
   "cell_type": "code",
   "execution_count": 1,
   "metadata": {},
   "outputs": [],
   "source": [
    "import numpy as np\n",
    "import pandas as pd\n",
    "import requests\n",
    "import time\n",
    "import matplotlib.pyplot as plt\n",
    "from pandasql import sqldf #for manipulating DataFrames with SQL style queries\n",
    "#Write file to machine to work with offline\n",
    "import json\n"
   ]
  },
  {
   "cell_type": "markdown",
   "metadata": {},
   "source": [
    "# Instagram graph api"
   ]
  },
  {
   "cell_type": "code",
   "execution_count": 60,
   "metadata": {},
   "outputs": [],
   "source": [
    "#generated each session by the graph api explorer\n",
    "user_access_token = ''"
   ]
  },
  {
   "cell_type": "code",
   "execution_count": 62,
   "metadata": {},
   "outputs": [],
   "source": [
    "#Get the user's pages\n",
    "#For better security these must all be derived after a new user access token is created by the person logged \n",
    "#into the fb business account\n",
    "user_pages = f'https://graph.facebook.com/v4.0/me/accounts?access_token={user_access_token}'\n",
    "response = requests.get(user_pages)\n",
    "page_id = json.loads(response.text)['data'][0]['id']\n",
    "\n",
    "#Get the page's instagram business account id\n",
    "insta_biz_account = f'https://graph.facebook.com/v4.0/{page_id}?fields=instagram_business_account&access_token={user_access_token}'\n",
    "response = requests.get(insta_biz_account)\n",
    "insta_id = json.loads(response.text)['instagram_business_account']['id']"
   ]
  },
  {
   "cell_type": "code",
   "execution_count": 63,
   "metadata": {},
   "outputs": [
    {
     "data": {
      "text/plain": [
       "'17841401233892528'"
      ]
     },
     "execution_count": 63,
     "metadata": {},
     "output_type": "execute_result"
    }
   ],
   "source": [
    "insta_id"
   ]
  },
  {
   "cell_type": "code",
   "execution_count": 85,
   "metadata": {},
   "outputs": [],
   "source": [
    "#Get the Instagram Business Account's Media Objects\n",
    "media_objects = f'https://graph.facebook.com/v4.0/{insta_id}/media?access_token={user_access_token}&limit=2000'\n",
    "response = requests.get(media_objects)\n",
    "media_object_id = json.loads(response.text)['data'][0]['id']"
   ]
  },
  {
   "cell_type": "code",
   "execution_count": 86,
   "metadata": {},
   "outputs": [
    {
     "data": {
      "text/plain": [
       "1317"
      ]
     },
     "execution_count": 86,
     "metadata": {},
     "output_type": "execute_result"
    }
   ],
   "source": [
    "len(json.loads(response.text)['data'])"
   ]
  },
  {
   "cell_type": "code",
   "execution_count": 88,
   "metadata": {},
   "outputs": [
    {
     "data": {
      "text/plain": [
       "{'id': '17841922594041130'}"
      ]
     },
     "execution_count": 88,
     "metadata": {},
     "output_type": "execute_result"
    }
   ],
   "source": [
    "json.loads(response.text)['data'][1316]"
   ]
  },
  {
   "cell_type": "code",
   "execution_count": 89,
   "metadata": {},
   "outputs": [],
   "source": [
    "#Get oldest media object to test\n",
    "oldest = json.loads(response.text)['data'][1316]['id']"
   ]
  },
  {
   "cell_type": "code",
   "execution_count": 67,
   "metadata": {},
   "outputs": [
    {
     "data": {
      "text/plain": [
       "'18032803363216401'"
      ]
     },
     "execution_count": 67,
     "metadata": {},
     "output_type": "execute_result"
    }
   ],
   "source": [
    "#First media object\n",
    "media_object_id"
   ]
  },
  {
   "cell_type": "code",
   "execution_count": 75,
   "metadata": {},
   "outputs": [
    {
     "data": {
      "text/plain": [
       "'{\"comments\":{\"data\":[{\"timestamp\":\"2019-10-08T20:09:43+0000\",\"text\":\"#avantrevivalists #ruralistmodern #howiseeluxury #howisummer #winecellar #rawmilkcheese #cheeseforlife #wineandcheese #creativityfound #whiskeyporn #cheeseandwine #cheeseknife #thatcheeseplate #doitfortheprocess #mycommontable #abmlifeissweet #buzzfeedtasty #mybeautifulmess #tastemade #foundforaged #bedeeplyrooted #thatcolorproject #howyouglow #theblogissue #makeitdelicious #abmathome #makeyousmilestyle #bandofun #mydomaine #whiskylover\",\"id\":\"17853780745589206\"}]},\"like_count\":8,\"timestamp\":\"2019-10-08T20:09:25+0000\",\"id\":\"18032803363216401\"}'"
      ]
     },
     "execution_count": 75,
     "metadata": {},
     "output_type": "execute_result"
    }
   ],
   "source": [
    "#SEe for more fields: https://developers.facebook.com/docs/instagram-api/reference/media/\n",
    "\n",
    "requests.get(f'https://graph.facebook.com/v4.0/{media_object_id}?fields=comments,like_count,timestamp&access_token={user_access_token}').text\n",
    "#/?fields={fields}"
   ]
  },
  {
   "cell_type": "code",
   "execution_count": 90,
   "metadata": {},
   "outputs": [
    {
     "data": {
      "text/plain": [
       "'{\"comments\":{\"data\":[{\"timestamp\":\"2014-11-11T00:20:51+0000\",\"text\":\"\\\\u0040foodandwine\",\"id\":\"17850626032041130\"}]},\"like_count\":8,\"timestamp\":\"2014-11-10T22:47:02+0000\",\"id\":\"17841922594041130\"}'"
      ]
     },
     "execution_count": 90,
     "metadata": {},
     "output_type": "execute_result"
    }
   ],
   "source": [
    "#Test oldest post\n",
    "requests.get(f'https://graph.facebook.com/v4.0/{oldest}?fields=comments,like_count,timestamp&access_token={user_access_token}').text\n"
   ]
  },
  {
   "cell_type": "code",
   "execution_count": null,
   "metadata": {},
   "outputs": [],
   "source": []
  },
  {
   "cell_type": "code",
   "execution_count": null,
   "metadata": {},
   "outputs": [],
   "source": []
  },
  {
   "cell_type": "code",
   "execution_count": null,
   "metadata": {},
   "outputs": [],
   "source": []
  },
  {
   "cell_type": "code",
   "execution_count": null,
   "metadata": {},
   "outputs": [],
   "source": []
  },
  {
   "cell_type": "code",
   "execution_count": null,
   "metadata": {},
   "outputs": [],
   "source": []
  },
  {
   "cell_type": "code",
   "execution_count": null,
   "metadata": {},
   "outputs": [],
   "source": []
  },
  {
   "cell_type": "code",
   "execution_count": null,
   "metadata": {},
   "outputs": [],
   "source": []
  },
  {
   "cell_type": "code",
   "execution_count": null,
   "metadata": {},
   "outputs": [],
   "source": []
  }
 ],
 "metadata": {
  "kernelspec": {
   "display_name": "Python 3",
   "language": "python",
   "name": "python3"
  },
  "language_info": {
   "codemirror_mode": {
    "name": "ipython",
    "version": 3
   },
   "file_extension": ".py",
   "mimetype": "text/x-python",
   "name": "python",
   "nbconvert_exporter": "python",
   "pygments_lexer": "ipython3",
   "version": "3.7.0"
  }
 },
 "nbformat": 4,
 "nbformat_minor": 2
}
